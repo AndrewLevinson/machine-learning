{
 "cells": [
  {
   "cell_type": "markdown",
   "metadata": {},
   "source": [
    "# Training Set"
   ]
  },
  {
   "cell_type": "code",
   "execution_count": 1,
   "metadata": {},
   "outputs": [],
   "source": [
    "import numpy as np\n",
    "import pandas as pd\n",
    "import matplotlib.pyplot as plt\n",
    "from sklearn.externals import joblib\n",
    "%matplotlib inline"
   ]
  },
  {
   "cell_type": "markdown",
   "metadata": {},
   "source": [
    "### Read raw training data"
   ]
  },
  {
   "cell_type": "code",
   "execution_count": 2,
   "metadata": {},
   "outputs": [
    {
     "name": "stdout",
     "output_type": "stream",
     "text": [
      "(364000, 14)\n"
     ]
    }
   ],
   "source": [
    "amazon = pd.read_csv('/Users/andrewlevinson/programs/parsons/spring-2019/machine-learning-class/machine-learning/assignment-1/data/raw_data_train.csv')\n",
    "print(amazon.shape)"
   ]
  },
  {
   "cell_type": "code",
   "execution_count": 3,
   "metadata": {},
   "outputs": [
    {
     "name": "stdout",
     "output_type": "stream",
     "text": [
      "   Unnamed: 0  Unnamed: 0.1      Id   ProductId          UserId  \\\n",
      "0      355714         40685   40686  B004WYLFG8  A2PAVPEC39NA9Y   \n",
      "1      233345        207298  207299  B003D4IYSU   A93V92CWURUP7   \n",
      "2      101305        406936  406937  B0030F70HI   AR0CBVTO8Q142   \n",
      "3       53358        306295  306296  B0000VZ0G8  A3D3UHFNSO5ISQ   \n",
      "4      399462        199802  199803  B002BG38R8  A2V82V20LFSWD7   \n",
      "\n",
      "        ProfileName  HelpfulnessNumerator  HelpfulnessDenominator  Score  \\\n",
      "0  James E. Stewart                     0                       0      5   \n",
      "1     savannah_jess                     0                       0      5   \n",
      "2         scribners                     1                       3      1   \n",
      "3         Subtitles                     0                       0      4   \n",
      "4               J A                     0                       0      5   \n",
      "\n",
      "         Time                        Summary  \\\n",
      "0  1346630400             Great Mocha Powder   \n",
      "1  1333324800             Great Berry Flavor   \n",
      "2  1326240000            thourghly discusted   \n",
      "3  1301184000                    Good Coffee   \n",
      "4  1323907200  Great for kids with allergies   \n",
      "\n",
      "                                                Text  helpScore  helpful  \n",
      "0  I had been waiting and hoping for Starbucks Mo...        NaN    False  \n",
      "1  I have always loved Stash brand teas, and this...        NaN    False  \n",
      "2  mis ordered because of the same/simlilar name ...   0.333333    False  \n",
      "3  This coffee is sweeter and less bold than the ...        NaN    False  \n",
      "4  I switched from formula to Hemp milk when my b...        NaN    False  \n",
      "0.07287637362637363\n"
     ]
    }
   ],
   "source": [
    "print(amazon.head())\n",
    "print(amazon['helpful'].mean())"
   ]
  },
  {
   "cell_type": "markdown",
   "metadata": {},
   "source": [
    "### Feature extraction on natural language data"
   ]
  },
  {
   "cell_type": "code",
   "execution_count": 5,
   "metadata": {},
   "outputs": [],
   "source": [
    "# # http://scikit-learn.org/stable/modules/generated/sklearn.feature_extraction.text.CountVectorizer.html\n",
    "# from sklearn.feature_extraction.text import CountVectorizer\n",
    "# vectorizer = CountVectorizer()\n",
    "# corpus = amazon.Text.as_matrix()\n",
    "# X_bag_of_words = vectorizer.fit_transform(corpus)\n",
    "# print(X_bag_of_words.toarray())"
   ]
  },
  {
   "cell_type": "code",
   "execution_count": 4,
   "metadata": {},
   "outputs": [
    {
     "name": "stderr",
     "output_type": "stream",
     "text": [
      "/Users/andrewlevinson/anaconda3/lib/python3.7/site-packages/sklearn/feature_extraction/hashing.py:102: DeprecationWarning: the option non_negative=True has been deprecated in 0.19 and will be removed in version 0.21.\n",
      "  \" in version 0.21.\", DeprecationWarning)\n",
      "/Users/andrewlevinson/anaconda3/lib/python3.7/site-packages/sklearn/feature_extraction/hashing.py:102: DeprecationWarning: the option non_negative=True has been deprecated in 0.19 and will be removed in version 0.21.\n",
      "  \" in version 0.21.\", DeprecationWarning)\n"
     ]
    },
    {
     "name": "stdout",
     "output_type": "stream",
     "text": [
      "(364000, 131072)\n"
     ]
    }
   ],
   "source": [
    "# vectorize Bag of Words from review text; as sparse matrix\n",
    "from sklearn.feature_extraction.text import HashingVectorizer\n",
    "hv = HashingVectorizer(n_features=2 ** 17, non_negative=True)\n",
    "X_hv = hv.fit_transform(amazon.Text)\n",
    "print(X_hv.shape)"
   ]
  },
  {
   "cell_type": "code",
   "execution_count": 6,
   "metadata": {},
   "outputs": [
    {
     "data": {
      "text/plain": [
       "['hv.pkl']"
      ]
     },
     "execution_count": 6,
     "metadata": {},
     "output_type": "execute_result"
    }
   ],
   "source": [
    "# We want to be able to use this model fit on other data (the test set)\n",
    "# So let's save a copy of this instance of HashingVectorizer to be able to transform other data with this fit\n",
    "# http://scikit-learn.org/stable/modules/model_persistence.html\n",
    "joblib.dump(hv, 'hv.pkl') # pickle"
   ]
  },
  {
   "cell_type": "code",
   "execution_count": 7,
   "metadata": {},
   "outputs": [
    {
     "data": {
      "text/plain": [
       "['transformer.pkl']"
      ]
     },
     "execution_count": 7,
     "metadata": {},
     "output_type": "execute_result"
    }
   ],
   "source": [
    "# http://scikit-learn.org/stable/modules/generated/sklearn.feature_extraction.text.TfidfTransformer.html\n",
    "from sklearn.feature_extraction.text import TfidfTransformer\n",
    "transformer = TfidfTransformer()\n",
    "X_tfidf = transformer.fit_transform(X_hv)\n",
    "\n",
    "joblib.dump(transformer, 'transformer.pkl') # pickle"
   ]
  },
  {
   "cell_type": "code",
   "execution_count": 8,
   "metadata": {},
   "outputs": [
    {
     "name": "stdout",
     "output_type": "stream",
     "text": [
      "<class 'scipy.sparse.csr.csr_matrix'>\n"
     ]
    }
   ],
   "source": [
    "print(type(X_tfidf))"
   ]
  },
  {
   "cell_type": "markdown",
   "metadata": {
    "collapsed": true
   },
   "source": [
    "### Create additional quantitative features"
   ]
  },
  {
   "cell_type": "code",
   "execution_count": 9,
   "metadata": {},
   "outputs": [
    {
     "name": "stdout",
     "output_type": "stream",
     "text": [
      "   Score  reviewLen\n",
      "0      5        338\n",
      "1      5        662\n",
      "2      1        229\n",
      "3      4        144\n",
      "4      5        419\n",
      "5      5        376\n",
      "6      5        197\n",
      "7      5        143\n",
      "8      5        127\n",
      "9      1       1043\n",
      "<class 'pandas.core.frame.DataFrame'>\n"
     ]
    }
   ],
   "source": [
    "# features from Amazon.csv to add to feature set\n",
    "amazon['reviewLen'] = amazon['Text'].str.len()\n",
    "\n",
    "X_quant_features = amazon[[\"Score\", \"reviewLen\"]]\n",
    "print(X_quant_features.head(10))\n",
    "print(type(X_quant_features))"
   ]
  },
  {
   "cell_type": "markdown",
   "metadata": {},
   "source": [
    "### Combine all quantitative features into a single sparse matrix"
   ]
  },
  {
   "cell_type": "code",
   "execution_count": 10,
   "metadata": {},
   "outputs": [
    {
     "name": "stdout",
     "output_type": "stream",
     "text": [
      "(364000, 131074)\n"
     ]
    }
   ],
   "source": [
    "from scipy.sparse import csr_matrix, hstack\n",
    "X_quant_features_csr = csr_matrix(X_quant_features)\n",
    "X_combined = hstack([X_tfidf, X_quant_features_csr])\n",
    "X_matrix = csr_matrix(X_combined) # convert to sparse matrix\n",
    "print(X_matrix.shape)"
   ]
  },
  {
   "cell_type": "code",
   "execution_count": 11,
   "metadata": {},
   "outputs": [
    {
     "name": "stdout",
     "output_type": "stream",
     "text": [
      "  (0, 4949)\t0.09058029421098078\n",
      "  (0, 7582)\t0.11309247944013504\n",
      "  (0, 8151)\t0.09113245071801837\n",
      "  (0, 13597)\t0.07751264402872429\n",
      "  (0, 14630)\t0.09023617322363864\n",
      "  (0, 15381)\t0.14262688194431128\n",
      "  (0, 20637)\t0.06085730310246788\n",
      "  (0, 21774)\t0.12214894799734995\n",
      "  (0, 22965)\t0.055442594035031594\n",
      "  (0, 23240)\t0.10091544672453594\n",
      "  (0, 24734)\t0.05342567174705278\n",
      "  (0, 25458)\t0.07193401568454137\n",
      "  (0, 26668)\t0.1473835709903703\n",
      "  (0, 29117)\t0.09589287176587384\n",
      "  (0, 31004)\t0.15575430056626668\n",
      "  (0, 31028)\t0.11163952521630789\n",
      "  (0, 31925)\t0.08561695438871109\n",
      "  (0, 37777)\t0.2430964151967876\n",
      "  (0, 38990)\t0.032891613852304095\n",
      "  (0, 39731)\t0.10816583451951174\n",
      "  (0, 41642)\t0.15535502153349476\n",
      "  (0, 43099)\t0.18679508962671543\n",
      "  (0, 44092)\t0.09197006340610384\n",
      "  (0, 45875)\t0.07835184033642201\n",
      "  (0, 48057)\t0.08925093737914096\n",
      "  :\t:\n",
      "  (0, 97031)\t0.09646714459548407\n",
      "  (0, 97469)\t0.06587384953883238\n",
      "  (0, 99446)\t0.07214814707360023\n",
      "  (0, 101440)\t0.059966707183775426\n",
      "  (0, 102266)\t0.10065873566678701\n",
      "  (0, 102542)\t0.23424664785659668\n",
      "  (0, 102742)\t0.2378257754063106\n",
      "  (0, 107090)\t0.2487737505872832\n",
      "  (0, 109207)\t0.16081457337100732\n",
      "  (0, 109683)\t0.0663126143274938\n",
      "  (0, 112243)\t0.08257049532072563\n",
      "  (0, 112443)\t0.08395158526358407\n",
      "  (0, 114155)\t0.12158137919261262\n",
      "  (0, 114840)\t0.18372795870131015\n",
      "  (0, 116871)\t0.06239443893973869\n",
      "  (0, 117152)\t0.08188889823668842\n",
      "  (0, 117264)\t0.18338895667711905\n",
      "  (0, 119348)\t0.16198472093449195\n",
      "  (0, 121258)\t0.1511920286327496\n",
      "  (0, 124449)\t0.23963070119440902\n",
      "  (0, 124604)\t0.12926395485441566\n",
      "  (0, 126245)\t0.12118946233891129\n",
      "  (0, 129359)\t0.13826672675369842\n",
      "  (0, 131072)\t5.0\n",
      "  (0, 131073)\t492.0\n"
     ]
    }
   ],
   "source": [
    "# look at an example of a \"row\" of a sparse matrix\n",
    "print(X_matrix[1234])"
   ]
  },
  {
   "cell_type": "markdown",
   "metadata": {},
   "source": [
    "### Create `X`, scaled matrix of features"
   ]
  },
  {
   "cell_type": "code",
   "execution_count": 12,
   "metadata": {},
   "outputs": [
    {
     "name": "stdout",
     "output_type": "stream",
     "text": [
      "(364000, 131074)\n"
     ]
    },
    {
     "data": {
      "text/plain": [
       "['sc.pkl']"
      ]
     },
     "execution_count": 12,
     "metadata": {},
     "output_type": "execute_result"
    }
   ],
   "source": [
    "# feature scaling\n",
    "from sklearn.preprocessing import StandardScaler\n",
    "sc = StandardScaler(with_mean=False)\n",
    "X = sc.fit_transform(X_matrix)\n",
    "print(X.shape)\n",
    "\n",
    "joblib.dump(sc, 'sc.pkl') # pickle"
   ]
  },
  {
   "cell_type": "markdown",
   "metadata": {},
   "source": [
    "### create `y`, vector of Labels"
   ]
  },
  {
   "cell_type": "code",
   "execution_count": 15,
   "metadata": {},
   "outputs": [
    {
     "name": "stdout",
     "output_type": "stream",
     "text": [
      "<class 'numpy.ndarray'>\n",
      "  (0, 4949)\t3.35780460886641\n",
      "  (0, 7582)\t3.3751958422665975\n",
      "  (0, 8151)\t3.463823381502243\n",
      "  (0, 13597)\t2.281538880603846\n",
      "  (0, 14630)\t3.7131218504937182\n",
      "  (0, 15381)\t14.390473278619965\n",
      "  (0, 20637)\t1.7174955335623987\n",
      "  (0, 21774)\t8.535982667365179\n",
      "  (0, 22965)\t1.528235177385015\n",
      "  (0, 23240)\t5.014827871312465\n",
      "  (0, 24734)\t0.8833529240309606\n",
      "  (0, 25458)\t2.1179067386996464\n",
      "  (0, 26668)\t14.125417462476578\n",
      "  (0, 29117)\t3.9532686172223865\n",
      "  (0, 31004)\t19.009919285167012\n",
      "  (0, 31028)\t2.9759399423168027\n",
      "  (0, 31925)\t3.6077091633431637\n",
      "  (0, 37777)\t4.916846248959261\n",
      "  (0, 38990)\t0.7506914407397458\n",
      "  (0, 39731)\t4.742387659745959\n",
      "  (0, 41642)\t3.703566864938344\n",
      "  (0, 43099)\t3.8442846835161935\n",
      "  (0, 44092)\t3.95482629596624\n",
      "  (0, 45875)\t2.7363449110261366\n",
      "  (0, 48057)\t3.1663413307777732\n",
      "  :\t:\n",
      "  (0, 97031)\t3.6534758667610605\n",
      "  (0, 97469)\t2.196447927636105\n",
      "  (0, 99446)\t1.54182103725266\n",
      "  (0, 101440)\t1.8546812250487177\n",
      "  (0, 102266)\t4.100359511329955\n",
      "  (0, 102542)\t10.819964093003659\n",
      "  (0, 102742)\t138.11436134072528\n",
      "  (0, 107090)\t101.22706511674663\n",
      "  (0, 109207)\t16.457783465341997\n",
      "  (0, 109683)\t1.8654898174701238\n",
      "  (0, 112243)\t2.912638785854489\n",
      "  (0, 112443)\t2.6762884710730552\n",
      "  (0, 114155)\t7.7236039314417475\n",
      "  (0, 114840)\t8.877541327037283\n",
      "  (0, 116871)\t1.7860538029258768\n",
      "  (0, 117152)\t2.458926764894957\n",
      "  (0, 117264)\t6.58263874820226\n",
      "  (0, 119348)\t17.48165538370703\n",
      "  (0, 121258)\t15.116002671820535\n",
      "  (0, 124449)\t83.35915271292791\n",
      "  (0, 124604)\t10.40995739700011\n",
      "  (0, 126245)\t6.4191522159344645\n",
      "  (0, 129359)\t8.31644094985343\n",
      "  (0, 131072)\t3.8152731019921498\n",
      "  (0, 131073)\t1.1048058777575258\n"
     ]
    }
   ],
   "source": [
    "y = amazon['helpful'].values\n",
    "print(type(y))\n",
    "# print(X[1234])"
   ]
  },
  {
   "cell_type": "markdown",
   "metadata": {},
   "source": [
    "# fit models"
   ]
  },
  {
   "cell_type": "code",
   "execution_count": 17,
   "metadata": {},
   "outputs": [],
   "source": [
    "from my_measures import BinaryClassificationPerformance"
   ]
  },
  {
   "cell_type": "markdown",
   "metadata": {},
   "source": [
    "### MODEL: ordinary least squares"
   ]
  },
  {
   "cell_type": "code",
   "execution_count": 18,
   "metadata": {},
   "outputs": [
    {
     "name": "stderr",
     "output_type": "stream",
     "text": [
      "/Users/andrewlevinson/anaconda3/lib/python3.7/site-packages/sklearn/linear_model/stochastic_gradient.py:166: FutureWarning: max_iter and tol parameters have been added in SGDClassifier in 0.19. If both are left unset, they default to max_iter=5 and tol=None. If tol is not None, max_iter defaults to max_iter=1000. From 0.21, default max_iter will be 1000, and default tol will be 1e-3.\n",
      "  FutureWarning)\n"
     ]
    },
    {
     "name": "stdout",
     "output_type": "stream",
     "text": [
      "{'Pos': 26527, 'Neg': 337473, 'TP': 12908, 'TN': 170710, 'FP': 166763, 'FN': 13619, 'Accuracy': 0.504445054945055, 'Precision': 0.07184242309554686, 'Recall': 0.48659855995777884, 'desc': 'ols'}\n"
     ]
    }
   ],
   "source": [
    "from sklearn import linear_model\n",
    "ols = linear_model.SGDClassifier(loss=\"squared_loss\")\n",
    "ols.fit(X, y)\n",
    "joblib.dump(ols, 'ols.pkl') # pickle\n",
    "\n",
    "ols_performance = BinaryClassificationPerformance(ols.predict(X), y, 'ols')\n",
    "ols_performance.compute_measures()\n",
    "print(ols_performance.performance_measures)"
   ]
  },
  {
   "cell_type": "markdown",
   "metadata": {},
   "source": [
    "### MODEL: SVM, linear"
   ]
  },
  {
   "cell_type": "code",
   "execution_count": 19,
   "metadata": {},
   "outputs": [
    {
     "name": "stdout",
     "output_type": "stream",
     "text": [
      "{'Pos': 26527, 'Neg': 337473, 'TP': 12009, 'TN': 324709, 'FP': 12764, 'FN': 14518, 'Accuracy': 0.9250494505494505, 'Precision': 0.4847616356517176, 'Recall': 0.45270856108870206, 'desc': 'svm'}\n"
     ]
    }
   ],
   "source": [
    "from sklearn import linear_model\n",
    "svm = linear_model.SGDClassifier()\n",
    "svm.fit(X, y)\n",
    "joblib.dump(svm, 'svm.pkl') # pickle\n",
    "\n",
    "svm_performance = BinaryClassificationPerformance(svm.predict(X), y, 'svm')\n",
    "svm_performance.compute_measures()\n",
    "print(svm_performance.performance_measures)"
   ]
  },
  {
   "cell_type": "markdown",
   "metadata": {},
   "source": [
    "### MODEL: logistic regression"
   ]
  },
  {
   "cell_type": "code",
   "execution_count": 20,
   "metadata": {},
   "outputs": [
    {
     "name": "stderr",
     "output_type": "stream",
     "text": [
      "/Users/andrewlevinson/anaconda3/lib/python3.7/site-packages/sklearn/linear_model/stochastic_gradient.py:152: DeprecationWarning: n_iter parameter is deprecated in 0.19 and will be removed in 0.21. Use max_iter and tol instead.\n",
      "  DeprecationWarning)\n"
     ]
    },
    {
     "name": "stdout",
     "output_type": "stream",
     "text": [
      "{'Pos': 26527, 'Neg': 337473, 'TP': 13724, 'TN': 323226, 'FP': 14247, 'FN': 12803, 'Accuracy': 0.9256868131868132, 'Precision': 0.4906510314254049, 'Recall': 0.5173596712783202, 'desc': 'lgs'}\n"
     ]
    }
   ],
   "source": [
    "from sklearn import linear_model\n",
    "lgs = linear_model.SGDClassifier(loss='log', n_iter=50, alpha=0.00001)\n",
    "lgs.fit(X, y)\n",
    "joblib.dump(lgs, 'lgs.pkl') # pickle\n",
    "\n",
    "lgs_performance = BinaryClassificationPerformance(lgs.predict(X), y, 'lgs')\n",
    "lgs_performance.compute_measures()\n",
    "print(lgs_performance.performance_measures)"
   ]
  },
  {
   "cell_type": "markdown",
   "metadata": {},
   "source": [
    "### MODEL: Naive Bayes"
   ]
  },
  {
   "cell_type": "code",
   "execution_count": 21,
   "metadata": {},
   "outputs": [
    {
     "name": "stdout",
     "output_type": "stream",
     "text": [
      "{'Pos': 26527, 'Neg': 337473, 'TP': 17140, 'TN': 295444, 'FP': 42029, 'FN': 9387, 'Accuracy': 0.8587472527472527, 'Precision': 0.2896787168956717, 'Recall': 0.6461341274927432, 'desc': 'nbs'}\n"
     ]
    }
   ],
   "source": [
    "from sklearn.naive_bayes import MultinomialNB\n",
    "nbs = MultinomialNB()\n",
    "nbs.fit(X, y)\n",
    "joblib.dump(nbs, 'nbs.pkl') # pickle\n",
    "\n",
    "nbs_performance = BinaryClassificationPerformance(nbs.predict(X), y, 'nbs')\n",
    "nbs_performance.compute_measures()\n",
    "print(nbs_performance.performance_measures)"
   ]
  },
  {
   "cell_type": "markdown",
   "metadata": {},
   "source": [
    "### MODEL: Perceptron"
   ]
  },
  {
   "cell_type": "code",
   "execution_count": 22,
   "metadata": {},
   "outputs": [
    {
     "name": "stderr",
     "output_type": "stream",
     "text": [
      "/Users/andrewlevinson/anaconda3/lib/python3.7/site-packages/sklearn/linear_model/stochastic_gradient.py:166: FutureWarning: max_iter and tol parameters have been added in SGDClassifier in 0.19. If both are left unset, they default to max_iter=5 and tol=None. If tol is not None, max_iter defaults to max_iter=1000. From 0.21, default max_iter will be 1000, and default tol will be 1e-3.\n",
      "  FutureWarning)\n"
     ]
    },
    {
     "name": "stdout",
     "output_type": "stream",
     "text": [
      "{'Pos': 26527, 'Neg': 337473, 'TP': 12084, 'TN': 324056, 'FP': 13417, 'FN': 14443, 'Accuracy': 0.9234615384615384, 'Precision': 0.4738637700482334, 'Recall': 0.4555358691144871, 'desc': 'prc'}\n"
     ]
    }
   ],
   "source": [
    "from sklearn import linear_model\n",
    "prc = linear_model.SGDClassifier(loss='perceptron')\n",
    "prc.fit(X, y)\n",
    "joblib.dump(prc, 'prc.pkl') # pickle\n",
    "\n",
    "prc_performance = BinaryClassificationPerformance(prc.predict(X), y, 'prc')\n",
    "prc_performance.compute_measures()\n",
    "print(prc_performance.performance_measures)"
   ]
  },
  {
   "cell_type": "markdown",
   "metadata": {},
   "source": [
    "### MODEL: Ridge Regression Classifier"
   ]
  },
  {
   "cell_type": "code",
   "execution_count": 42,
   "metadata": {},
   "outputs": [
    {
     "name": "stdout",
     "output_type": "stream",
     "text": [
      "{'Pos': 26527, 'Neg': 337473, 'TP': 7875, 'TN': 336821, 'FP': 652, 'FN': 18652, 'Accuracy': 0.946967032967033, 'Precision': 0.9235370001172746, 'Recall': 0.29686734270743015, 'desc': 'rdg'}\n"
     ]
    }
   ],
   "source": [
    "from sklearn import linear_model\n",
    "rdg = linear_model.RidgeClassifier(alpha=10)\n",
    "# rdg = linear_model.RidgeClassifier(alpha=2.5)\n",
    "rdg.fit(X, y)\n",
    "joblib.dump(rdg, 'rdg.pkl') # pickle\n",
    "\n",
    "rdg_performance = BinaryClassificationPerformance(rdg.predict(X), y, 'rdg')\n",
    "rdg_performance.compute_measures()\n",
    "print(rdg_performance.performance_measures)"
   ]
  },
  {
   "cell_type": "code",
   "execution_count": 43,
   "metadata": {},
   "outputs": [
    {
     "data": {
      "text/plain": [
       "{'alpha': 10,\n",
       " 'class_weight': None,\n",
       " 'copy_X': True,\n",
       " 'fit_intercept': True,\n",
       " 'max_iter': None,\n",
       " 'normalize': False,\n",
       " 'random_state': None,\n",
       " 'solver': 'auto',\n",
       " 'tol': 0.001}"
      ]
     },
     "execution_count": 43,
     "metadata": {},
     "output_type": "execute_result"
    }
   ],
   "source": [
    "rdg.get_params()"
   ]
  },
  {
   "cell_type": "markdown",
   "metadata": {},
   "source": [
    "### What is the distribution of weights, OLS vs. ridge? "
   ]
  },
  {
   "cell_type": "code",
   "execution_count": 44,
   "metadata": {},
   "outputs": [
    {
     "data": {
      "image/png": "[encoded data removed]",
      "text/plain": [
       "<Figure size 432x288 with 1 Axes>"
      ]
     },
     "metadata": {
      "needs_background": "light"
     },
     "output_type": "display_data"
    },
    {
     "data": {
      "image/png": "[encoded data removed]",
      "text/plain": [
       "<Figure size 432x288 with 1 Axes>"
      ]
     },
     "metadata": {
      "needs_background": "light"
     },
     "output_type": "display_data"
    }
   ],
   "source": [
    "plt.hist(ols.coef_[0])\n",
    "plt.show()\n",
    "\n",
    "plt.hist(rdg.coef_[0])\n",
    "plt.show()"
   ]
  },
  {
   "cell_type": "markdown",
   "metadata": {},
   "source": [
    "### ROC plot to compare performance of various models and fits"
   ]
  },
  {
   "cell_type": "code",
   "execution_count": 45,
   "metadata": {},
   "outputs": [
    {
     "data": {
      "image/png": "[encoded data removed]",
      "text/plain": [
       "<Figure size 432x288 with 1 Axes>"
      ]
     },
     "metadata": {
      "needs_background": "light"
     },
     "output_type": "display_data"
    }
   ],
   "source": [
    "#fits = [svm_performance, lgs_performance, nbs_performance, rdg_performance, prc_performance]\n",
    "fits = [svm_performance, lgs_performance, rdg_performance, prc_performance, ols_performance]\n",
    "\n",
    "for fit in fits:\n",
    "    plt.plot(fit.performance_measures['FP'] / fit.performance_measures['Neg'], \n",
    "             fit.performance_measures['TP'] / fit.performance_measures['Pos'], 'ro')\n",
    "    plt.text(fit.performance_measures['FP'] / fit.performance_measures['Neg'], \n",
    "             fit.performance_measures['TP'] / fit.performance_measures['Pos'], fit.desc)\n",
    "plt.axis([0, 1, 0, 1])\n",
    "plt.title('ROC plot: training set')\n",
    "plt.xlabel('False positive rate')\n",
    "plt.ylabel('True positive rate')\n",
    "plt.show()"
   ]
  },
  {
   "cell_type": "markdown",
   "metadata": {},
   "source": [
    "## a digression: looking inside the `rdg` object\n",
    "\n",
    "[documentation](https://scikit-learn.org/stable/modules/generated/sklearn.linear_model.RidgeClassifier.html)"
   ]
  },
  {
   "cell_type": "code",
   "execution_count": 26,
   "metadata": {},
   "outputs": [
    {
     "data": {
      "text/plain": [
       "['__abstractmethods__',\n",
       " '__class__',\n",
       " '__delattr__',\n",
       " '__dict__',\n",
       " '__dir__',\n",
       " '__doc__',\n",
       " '__eq__',\n",
       " '__format__',\n",
       " '__ge__',\n",
       " '__getattribute__',\n",
       " '__getstate__',\n",
       " '__gt__',\n",
       " '__hash__',\n",
       " '__init__',\n",
       " '__init_subclass__',\n",
       " '__le__',\n",
       " '__lt__',\n",
       " '__module__',\n",
       " '__ne__',\n",
       " '__new__',\n",
       " '__reduce__',\n",
       " '__reduce_ex__',\n",
       " '__repr__',\n",
       " '__setattr__',\n",
       " '__setstate__',\n",
       " '__sizeof__',\n",
       " '__str__',\n",
       " '__subclasshook__',\n",
       " '__weakref__',\n",
       " '_abc_impl',\n",
       " '_decision_function',\n",
       " '_estimator_type',\n",
       " '_get_param_names',\n",
       " '_label_binarizer',\n",
       " '_predict_proba_lr',\n",
       " '_preprocess_data',\n",
       " '_set_intercept',\n",
       " 'alpha',\n",
       " 'class_weight',\n",
       " 'classes_',\n",
       " 'coef_',\n",
       " 'copy_X',\n",
       " 'decision_function',\n",
       " 'fit',\n",
       " 'fit_intercept',\n",
       " 'get_params',\n",
       " 'intercept_',\n",
       " 'max_iter',\n",
       " 'n_iter_',\n",
       " 'normalize',\n",
       " 'predict',\n",
       " 'random_state',\n",
       " 'score',\n",
       " 'set_params',\n",
       " 'solver',\n",
       " 'tol']"
      ]
     },
     "execution_count": 26,
     "metadata": {},
     "output_type": "execute_result"
    }
   ],
   "source": [
    "dir(rdg)"
   ]
  },
  {
   "cell_type": "code",
   "execution_count": 27,
   "metadata": {},
   "outputs": [
    {
     "data": {
      "text/plain": [
       "{'alpha': 1.0,\n",
       " 'class_weight': None,\n",
       " 'copy_X': True,\n",
       " 'fit_intercept': True,\n",
       " 'max_iter': None,\n",
       " 'normalize': False,\n",
       " 'random_state': None,\n",
       " 'solver': 'auto',\n",
       " 'tol': 0.001}"
      ]
     },
     "execution_count": 27,
     "metadata": {},
     "output_type": "execute_result"
    }
   ],
   "source": [
    "rdg.get_params()"
   ]
  },
  {
   "cell_type": "code",
   "execution_count": 28,
   "metadata": {},
   "outputs": [
    {
     "data": {
      "text/plain": [
       "numpy.ndarray"
      ]
     },
     "execution_count": 28,
     "metadata": {},
     "output_type": "execute_result"
    }
   ],
   "source": [
    "type(rdg.coef_)"
   ]
  },
  {
   "cell_type": "code",
   "execution_count": 29,
   "metadata": {},
   "outputs": [
    {
     "data": {
      "text/plain": [
       "(1, 131074)"
      ]
     },
     "execution_count": 29,
     "metadata": {},
     "output_type": "execute_result"
    }
   ],
   "source": [
    "rdg.coef_.shape"
   ]
  },
  {
   "cell_type": "code",
   "execution_count": 30,
   "metadata": {},
   "outputs": [
    {
     "name": "stdout",
     "output_type": "stream",
     "text": [
      "[-3.54960958e-04  0.00000000e+00  0.00000000e+00 ... -9.53809262e-05\n",
      "  1.01323875e-03  7.18498739e-02]\n"
     ]
    }
   ],
   "source": [
    "print(rdg.coef_[0])"
   ]
  },
  {
   "cell_type": "code",
   "execution_count": 31,
   "metadata": {},
   "outputs": [
    {
     "data": {
      "image/png": "[encoded data removed]",
      "text/plain": [
       "<Figure size 432x288 with 1 Axes>"
      ]
     },
     "metadata": {
      "needs_background": "light"
     },
     "output_type": "display_data"
    }
   ],
   "source": [
    "plt.hist(rdg.coef_[0])\n",
    "plt.show()"
   ]
  },
  {
   "cell_type": "code",
   "execution_count": null,
   "metadata": {},
   "outputs": [],
   "source": []
  }
 ],
 "metadata": {
  "kernelspec": {
   "display_name": "Python 3",
   "language": "python",
   "name": "python3"
  },
  "language_info": {
   "codemirror_mode": {
    "name": "ipython",
    "version": 3
   },
   "file_extension": ".py",
   "mimetype": "text/x-python",
   "name": "python",
   "nbconvert_exporter": "python",
   "pygments_lexer": "ipython3",
   "version": "3.7.1"
  }
 },
 "nbformat": 4,
 "nbformat_minor": 1
}
