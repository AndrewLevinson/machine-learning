{
 "cells": [
  {
   "cell_type": "markdown",
   "metadata": {},
   "source": [
    "# Test Set"
   ]
  },
  {
   "cell_type": "code",
   "execution_count": 2,
   "metadata": {},
   "outputs": [],
   "source": [
    "import numpy as np\n",
    "import pandas as pd\n",
    "import matplotlib.pyplot as plt\n",
    "from sklearn.externals import joblib\n",
    "from my_measures import BinaryClassificationPerformance\n",
    "%matplotlib inline"
   ]
  },
  {
   "cell_type": "markdown",
   "metadata": {},
   "source": [
    "### Read raw test data"
   ]
  },
  {
   "cell_type": "code",
   "execution_count": 3,
   "metadata": {},
   "outputs": [
    {
     "name": "stdout",
     "output_type": "stream",
     "text": [
      "(91000, 14)\n"
     ]
    }
   ],
   "source": [
    "amazon = pd.read_csv('/Users/andrewlevinson/programs/parsons/spring-2019/machine-learning-class/machine-learning/assignment-1/data/raw_data_test.csv')\n",
    "print(amazon.shape)"
   ]
  },
  {
   "cell_type": "code",
   "execution_count": 4,
   "metadata": {},
   "outputs": [
    {
     "name": "stdout",
     "output_type": "stream",
     "text": [
      "As much as I love Italian Sweet Creme in liquid form ( the only one I use ) , this one is not even closer to the taste of the liquid, I have strange after taste like chemical or something , plus I get flux-reflect if I use to often , very disappointed and will not purchase again .\n"
     ]
    }
   ],
   "source": [
    "print(amazon.loc[0, \"Text\"])"
   ]
  },
  {
   "cell_type": "code",
   "execution_count": 5,
   "metadata": {},
   "outputs": [
    {
     "name": "stdout",
     "output_type": "stream",
     "text": [
      "   Unnamed: 0  Unnamed: 0.1      Id   ProductId          UserId  \\\n",
      "0      450430        317629  317630  B002BUD5TK   AZ4EUUJVC8358   \n",
      "1      209527        289838  289839  B003LPOUZM  A1BEU8FCL6JI4T   \n",
      "2      329547        479010  479011  B001E5E074  A1XL72EEATTQY4   \n",
      "3       46044        256379  256380  B001EQ55R2  A38XAAS5U05GY8   \n",
      "4      162804        355065  355066  B001EQ4OBA   A6S4BCIF87GQ7   \n",
      "\n",
      "                     ProfileName  HelpfulnessNumerator  \\\n",
      "0                          Kasia                     1   \n",
      "1                 Linda \"ln5229\"                     0   \n",
      "2  Michael J. Pruett \"M P buyer\"                     2   \n",
      "3                         Judith                     0   \n",
      "4            Reason \"books_easy\"                     1   \n",
      "\n",
      "   HelpfulnessDenominator  Score        Time  \\\n",
      "0                       1      1  1340755200   \n",
      "1                       0      5  1298851200   \n",
      "2                       2      3  1343692800   \n",
      "3                       0      5  1320451200   \n",
      "4                       2      3  1290384000   \n",
      "\n",
      "                              Summary  \\\n",
      "0                        Not the same   \n",
      "1                     Best Mayo Ever!   \n",
      "2                              Cereal   \n",
      "3           Essential for most salads   \n",
      "4  Excellent price, no so good taste.   \n",
      "\n",
      "                                                Text  helpScore  helpful  \n",
      "0  As much as I love Italian Sweet Creme in liqui...        1.0    False  \n",
      "1  i was introduced to Duke's Mayo in North Carol...        NaN    False  \n",
      "2  Kashi GOLEAN Crunch! Cereal ..  this cereal is...        1.0    False  \n",
      "3  I don't use it on salads with fruit or fruit i...        NaN    False  \n",
      "4  The price is definitely good compared to simil...        0.5    False  \n",
      "0.07371428571428572\n"
     ]
    }
   ],
   "source": [
    "print(amazon.head())\n",
    "print(amazon['helpful'].mean())"
   ]
  },
  {
   "cell_type": "markdown",
   "metadata": {},
   "source": [
    "### Feature extraction on natural language data"
   ]
  },
  {
   "cell_type": "code",
   "execution_count": null,
   "metadata": {},
   "outputs": [],
   "source": [
    "# # http://scikit-learn.org/stable/modules/generated/sklearn.feature_extraction.text.CountVectorizer.html\n",
    "# from sklearn.feature_extraction.text import CountVectorizer\n",
    "# vectorizer = CountVectorizer()\n",
    "# corpus = amazon.Text.as_matrix()\n",
    "# X_bag_of_words = vectorizer.fit_transform(corpus)\n",
    "# print(X_bag_of_words.toarray())"
   ]
  },
  {
   "cell_type": "code",
   "execution_count": 6,
   "metadata": {},
   "outputs": [
    {
     "name": "stderr",
     "output_type": "stream",
     "text": [
      "/Users/andrewlevinson/anaconda3/lib/python3.7/site-packages/sklearn/feature_extraction/hashing.py:102: DeprecationWarning: the option non_negative=True has been deprecated in 0.19 and will be removed in version 0.21.\n",
      "  \" in version 0.21.\", DeprecationWarning)\n"
     ]
    },
    {
     "name": "stdout",
     "output_type": "stream",
     "text": [
      "(91000, 131072)\n"
     ]
    }
   ],
   "source": [
    "# vectorize Bag of Words from review text; as sparse matrix\n",
    "# from sklearn.feature_extraction.text import HashingVectorizer\n",
    "# hv = HashingVectorizer(n_features=2 ** 17, non_negative=True)\n",
    "hv = joblib.load('/Users/andrewlevinson/programs/parsons/spring-2019/machine-learning-class/machine-learning/assignment-1/pickles/hv.pkl')\n",
    "X_hv = hv.transform(amazon.Text)\n",
    "print(X_hv.shape)"
   ]
  },
  {
   "cell_type": "code",
   "execution_count": 7,
   "metadata": {},
   "outputs": [],
   "source": [
    "# http://scikit-learn.org/stable/modules/generated/sklearn.feature_extraction.text.TfidfTransformer.html\n",
    "# from sklearn.feature_extraction.text import TfidfTransformer\n",
    "# transformer = TfidfTransformer()\n",
    "transformer = joblib.load('/Users/andrewlevinson/programs/parsons/spring-2019/machine-learning-class/machine-learning/assignment-1/pickles/transformer.pkl')\n",
    "X_tfidf = transformer.transform(X_hv)"
   ]
  },
  {
   "cell_type": "code",
   "execution_count": 8,
   "metadata": {},
   "outputs": [
    {
     "name": "stdout",
     "output_type": "stream",
     "text": [
      "<class 'scipy.sparse.csr.csr_matrix'>\n"
     ]
    }
   ],
   "source": [
    "print(type(X_tfidf))"
   ]
  },
  {
   "cell_type": "markdown",
   "metadata": {
    "collapsed": true
   },
   "source": [
    "### Create additional quantitative features"
   ]
  },
  {
   "cell_type": "code",
   "execution_count": 9,
   "metadata": {},
   "outputs": [
    {
     "name": "stdout",
     "output_type": "stream",
     "text": [
      "   Score  reviewLen\n",
      "0      1        281\n",
      "1      5        154\n",
      "2      3        108\n",
      "3      5        213\n",
      "4      3        267\n",
      "5      1        628\n",
      "6      4         89\n",
      "7      5        308\n",
      "8      5        438\n",
      "9      1        324\n",
      "<class 'pandas.core.frame.DataFrame'>\n"
     ]
    }
   ],
   "source": [
    "# features from Amazon.csv to add to feature set\n",
    "amazon['reviewLen'] = amazon['Text'].str.len()\n",
    "\n",
    "X_quant_features = amazon[[\"Score\", \"reviewLen\"]]\n",
    "print(X_quant_features.head(10))\n",
    "print(type(X_quant_features))"
   ]
  },
  {
   "cell_type": "markdown",
   "metadata": {},
   "source": [
    "### Combine all quantitative features into a single sparse matrix"
   ]
  },
  {
   "cell_type": "code",
   "execution_count": 10,
   "metadata": {},
   "outputs": [
    {
     "name": "stdout",
     "output_type": "stream",
     "text": [
      "(91000, 131074)\n"
     ]
    }
   ],
   "source": [
    "from scipy.sparse import csr_matrix, hstack\n",
    "X_quant_features_csr = csr_matrix(X_quant_features)\n",
    "X_combined = hstack([X_tfidf, X_quant_features_csr])\n",
    "X_matrix = csr_matrix(X_combined) # convert to sparse matrix\n",
    "print(X_matrix.shape)"
   ]
  },
  {
   "cell_type": "markdown",
   "metadata": {},
   "source": [
    "### Create `X`, scaled matrix of features"
   ]
  },
  {
   "cell_type": "code",
   "execution_count": 11,
   "metadata": {},
   "outputs": [
    {
     "name": "stdout",
     "output_type": "stream",
     "text": [
      "(91000, 131074)\n"
     ]
    }
   ],
   "source": [
    "# feature scaling\n",
    "# from sklearn.preprocessing import StandardScaler\n",
    "# sc = StandardScaler(with_mean=False)\n",
    "sc = joblib.load('/Users/andrewlevinson/programs/parsons/spring-2019/machine-learning-class/machine-learning/assignment-1/pickles/sc.pkl')\n",
    "X = sc.transform(X_matrix)\n",
    "print(X.shape)"
   ]
  },
  {
   "cell_type": "markdown",
   "metadata": {},
   "source": [
    "### create `y`, vector of Labels"
   ]
  },
  {
   "cell_type": "code",
   "execution_count": 12,
   "metadata": {},
   "outputs": [
    {
     "name": "stdout",
     "output_type": "stream",
     "text": [
      "<class 'numpy.ndarray'>\n"
     ]
    }
   ],
   "source": [
    "y = amazon['helpful'].values\n",
    "print(type(y))"
   ]
  },
  {
   "cell_type": "markdown",
   "metadata": {},
   "source": [
    "### predict `y` with the fit on the training set"
   ]
  },
  {
   "cell_type": "code",
   "execution_count": 13,
   "metadata": {},
   "outputs": [
    {
     "name": "stdout",
     "output_type": "stream",
     "text": [
      "{'Pos': 6708, 'Neg': 84292, 'TP': 3243, 'TN': 42806, 'FP': 41486, 'FN': 3465, 'Accuracy': 0.5060329670329671, 'Precision': 0.07250329763687988, 'Recall': 0.48345259391771017, 'desc': 'ols'}\n"
     ]
    }
   ],
   "source": [
    "# MODEL: ordinary least squares\n",
    "# from sklearn import linear_model\n",
    "# ols = linear_model.SGDClassifier(loss=\"squared_loss\")\n",
    "# ols.fit(X, y)\n",
    "# joblib.dump(ols, 'ols.pkl') # pickle\n",
    "ols = joblib.load('/Users/andrewlevinson/programs/parsons/spring-2019/machine-learning-class/machine-learning/assignment-1/pickles/ols.pkl') # pickle\n",
    "\n",
    "ols_performance = BinaryClassificationPerformance(ols.predict(X), y, 'ols')\n",
    "ols_performance.compute_measures()\n",
    "print(ols_performance.performance_measures)"
   ]
  },
  {
   "cell_type": "code",
   "execution_count": 14,
   "metadata": {},
   "outputs": [
    {
     "name": "stdout",
     "output_type": "stream",
     "text": [
      "{'Pos': 6708, 'Neg': 84292, 'TP': 1677, 'TN': 78828, 'FP': 5464, 'FN': 5031, 'Accuracy': 0.8846703296703297, 'Precision': 0.23484105867525557, 'Recall': 0.25, 'desc': 'svm'}\n"
     ]
    }
   ],
   "source": [
    "# MODEL: SVM, linear\n",
    "# from sklearn import linear_model\n",
    "# svm = linear_model.SGDClassifier()\n",
    "# svm.fit(X, y)\n",
    "# joblib.dump(svm, 'svm.pkl') # pickle\n",
    "svm = joblib.load('/Users/andrewlevinson/programs/parsons/spring-2019/machine-learning-class/machine-learning/assignment-1/pickles/svm.pkl') # pickle\n",
    "\n",
    "svm_performance = BinaryClassificationPerformance(svm.predict(X), y, 'svm')\n",
    "svm_performance.compute_measures()\n",
    "print(svm_performance.performance_measures)"
   ]
  },
  {
   "cell_type": "code",
   "execution_count": 15,
   "metadata": {},
   "outputs": [
    {
     "name": "stdout",
     "output_type": "stream",
     "text": [
      "{'Pos': 6708, 'Neg': 84292, 'TP': 1956, 'TN': 78050, 'FP': 6242, 'FN': 4752, 'Accuracy': 0.8791868131868131, 'Precision': 0.23859477921444255, 'Recall': 0.29159212880143115, 'desc': 'lgs'}\n"
     ]
    }
   ],
   "source": [
    "# MODEL: logistic regression\n",
    "# from sklearn import linear_model\n",
    "# lgs = linear_model.SGDClassifier(loss='log', n_iter=50, alpha=0.00001)\n",
    "# lgs.fit(X, y)\n",
    "# joblib.dump(lgs, 'lgs.pkl') # pickle\n",
    "lgs = joblib.load('/Users/andrewlevinson/programs/parsons/spring-2019/machine-learning-class/machine-learning/assignment-1/pickles/lgs.pkl')\n",
    "\n",
    "lgs_performance = BinaryClassificationPerformance(lgs.predict(X), y, 'lgs')\n",
    "lgs_performance.compute_measures()\n",
    "print(lgs_performance.performance_measures)"
   ]
  },
  {
   "cell_type": "code",
   "execution_count": 16,
   "metadata": {},
   "outputs": [
    {
     "name": "stdout",
     "output_type": "stream",
     "text": [
      "{'Pos': 6708, 'Neg': 84292, 'TP': 2622, 'TN': 71684, 'FP': 12608, 'FN': 4086, 'Accuracy': 0.8165494505494505, 'Precision': 0.1721602101116218, 'Recall': 0.39087656529516995, 'desc': 'nbs'}\n"
     ]
    }
   ],
   "source": [
    "# MODEL: Naive Bayes\n",
    "# from sklearn.naive_bayes import MultinomialNB\n",
    "# nbs = MultinomialNB()\n",
    "# nbs.fit(X, y)\n",
    "# joblib.dump(nbs, 'nbs.pkl') # pickle\n",
    "nbs = joblib.load('/Users/andrewlevinson/programs/parsons/spring-2019/machine-learning-class/machine-learning/assignment-1/pickles/nbs.pkl')\n",
    "\n",
    "nbs_performance = BinaryClassificationPerformance(nbs.predict(X), y, 'nbs')\n",
    "nbs_performance.compute_measures()\n",
    "print(nbs_performance.performance_measures)"
   ]
  },
  {
   "cell_type": "code",
   "execution_count": 17,
   "metadata": {},
   "outputs": [
    {
     "name": "stdout",
     "output_type": "stream",
     "text": [
      "{'Pos': 6708, 'Neg': 84292, 'TP': 1693, 'TN': 78807, 'FP': 5485, 'FN': 5015, 'Accuracy': 0.8846153846153846, 'Precision': 0.2358595709111173, 'Recall': 0.25238521168753725, 'desc': 'prc'}\n"
     ]
    }
   ],
   "source": [
    "# MODEL: Perceptron\n",
    "# from sklearn import linear_model\n",
    "# prc = linear_model.SGDClassifier(loss='perceptron')\n",
    "# prc.fit(X, y)\n",
    "# joblib.dump(prc, 'prc.pkl') # pickle\n",
    "prc = joblib.load('/Users/andrewlevinson/programs/parsons/spring-2019/machine-learning-class/machine-learning/assignment-1/pickles/prc.pkl')\n",
    "\n",
    "prc_performance = BinaryClassificationPerformance(prc.predict(X), y, 'prc')\n",
    "prc_performance.compute_measures()\n",
    "print(prc_performance.performance_measures)"
   ]
  },
  {
   "cell_type": "code",
   "execution_count": 28,
   "metadata": {},
   "outputs": [
    {
     "name": "stdout",
     "output_type": "stream",
     "text": [
      "{'Pos': 6708, 'Neg': 84292, 'TP': 997, 'TN': 82882, 'FP': 1410, 'FN': 5711, 'Accuracy': 0.9217472527472528, 'Precision': 0.4142085583714167, 'Recall': 0.14862850327966606, 'desc': 'rdg'}\n"
     ]
    }
   ],
   "source": [
    "# MODEL: Ridge Regression Classifier\n",
    "# from sklearn import linear_model\n",
    "# rdg = linear_model.RidgeClassifier()\n",
    "# rdg.fit(X, y)\n",
    "# joblib.dump(rdg, 'rdg.pkl') # pickle\n",
    "rdg = joblib.load('/Users/andrewlevinson/programs/parsons/spring-2019/machine-learning-class/machine-learning/assignment-1/pickles/rdg.pkl')\n",
    "\n",
    "rdg_performance = BinaryClassificationPerformance(rdg.predict(X), y, 'rdg')\n",
    "rdg_performance.compute_measures()\n",
    "print(rdg_performance.performance_measures)"
   ]
  },
  {
   "cell_type": "markdown",
   "metadata": {},
   "source": [
    "### ROC plot to compare performance of various models and fits"
   ]
  },
  {
   "cell_type": "code",
   "execution_count": 29,
   "metadata": {},
   "outputs": [
    {
     "data": {
      "image/png": "[encoded data removed]",
      "text/plain": [
       "<Figure size 432x288 with 1 Axes>"
      ]
     },
     "metadata": {
      "needs_background": "light"
     },
     "output_type": "display_data"
    }
   ],
   "source": [
    "fits = [svm_performance, lgs_performance, nbs_performance, rdg_performance, prc_performance, ols_performance]\n",
    "\n",
    "for fit in fits:\n",
    "    plt.plot(fit.performance_measures['FP'] / fit.performance_measures['Neg'], \n",
    "             fit.performance_measures['TP'] / fit.performance_measures['Pos'], 'bo')\n",
    "    plt.text(fit.performance_measures['FP'] / fit.performance_measures['Neg'], \n",
    "             fit.performance_measures['TP'] / fit.performance_measures['Pos'], fit.desc)\n",
    "plt.axis([0, 1, 0, 1])\n",
    "plt.title('ROC plot: test set')\n",
    "plt.xlabel('False positive rate')\n",
    "plt.ylabel('True positive rate')\n",
    "plt.show()"
   ]
  },
  {
   "cell_type": "markdown",
   "metadata": {
    "collapsed": true
   },
   "source": [
    "### looking at reviews based on their classification\n",
    "\n",
    "Let's say we decide that Ridge Regression is the best model for generalization. Let's take a look at some of the reviews and try to make a (subjective) determination of whether it's generalizing well. "
   ]
  },
  {
   "cell_type": "code",
   "execution_count": 30,
   "metadata": {},
   "outputs": [
    {
     "data": {
      "text/plain": [
       "'As much as I love Italian Sweet Creme in liquid form ( the only one I use ) , this one is not even closer to the taste of the liquid, I have strange after taste like chemical or something , plus I get flux-reflect if I use to often , very disappointed and will not purchase again .'"
      ]
     },
     "execution_count": 30,
     "metadata": {},
     "output_type": "execute_result"
    }
   ],
   "source": [
    "amazon.loc[0, \"Text\"]"
   ]
  },
  {
   "cell_type": "code",
   "execution_count": 31,
   "metadata": {},
   "outputs": [
    {
     "data": {
      "text/plain": [
       "False"
      ]
     },
     "execution_count": 31,
     "metadata": {},
     "output_type": "execute_result"
    }
   ],
   "source": [
    "amazon.loc[0, \"helpful\"]"
   ]
  },
  {
   "cell_type": "code",
   "execution_count": 32,
   "metadata": {},
   "outputs": [],
   "source": [
    "ridge_predictions = rdg.predict(X)"
   ]
  },
  {
   "cell_type": "code",
   "execution_count": 33,
   "metadata": {},
   "outputs": [
    {
     "data": {
      "text/plain": [
       "(91000,)"
      ]
     },
     "execution_count": 33,
     "metadata": {},
     "output_type": "execute_result"
    }
   ],
   "source": [
    "ridge_predictions.shape"
   ]
  },
  {
   "cell_type": "code",
   "execution_count": 34,
   "metadata": {},
   "outputs": [
    {
     "name": "stdout",
     "output_type": "stream",
     "text": [
      "[False False False ... False False False]\n"
     ]
    }
   ],
   "source": [
    "print(ridge_predictions)"
   ]
  },
  {
   "cell_type": "code",
   "execution_count": 25,
   "metadata": {},
   "outputs": [
    {
     "name": "stdout",
     "output_type": "stream",
     "text": [
      "1645\n",
      "2011-09-10 00:00:00\n",
      "3\n",
      "0\n",
      "B000NW8AQ6\n",
      "The flavor seems authentic and I liked the level of spice, BUT one serving is a whopping 510mg of salt and it tastes very very salty! If you had planned to eat the can as a meal we are talking about 2,040mg of salt. For me, the level of salt really detracted from the flavor and I hope they will consider lowering it.\n",
      "* * * * * * * * * \n",
      "2107\n",
      "2012-05-22 00:00:00\n",
      "5\n",
      "2\n",
      "B003VMY3WU\n",
      "Wonderful taste great texture good only for dieters to use 1/2cup less sodium and fat and less calories its great with chicken and veggies\n",
      "* * * * * * * * * \n",
      "2472\n",
      "2009-03-23 00:00:00\n",
      "4\n",
      "0\n",
      "B001P05K7W\n",
      "We first tried this product to help improve my pup's breath.....and it worked great.....but the side benefit was that my pup loves them and goes through a bag in a week....they're expensive in the stores...but buying them on-line has been a blessing....in fact I have to order more!!<br /><br />N Hopkins\n",
      "* * * * * * * * * \n",
      "3975\n",
      "2010-12-25 00:00:00\n",
      "5\n",
      "1\n",
      "B001BCWAFY\n",
      "My daughter has a Saint Bernard named Julius Ceasar but we call him Ju Ju.  He is a gentle giant indeed.  Castor and Pollux Large Breed dog food is his favorite by far.  I save 15% through subscribe and save and have it delivered monthly for free.  Terrific!!\n",
      "* * * * * * * * * \n",
      "4659\n",
      "2005-02-11 00:00:00\n",
      "5\n",
      "7\n",
      "B00060NA3S\n",
      "I see that someone using my name is advocating Annie's Shells and White Cheddar Cheese!<br /><br />This is way better. Let's QUICKLY go over the advantages; I know you have better things to do:<br /><br />1. This is macaroni, not \"shells.\" When you want \"macaroni and cheese,\" do you ask for \"shells and cheese?\" Not likely.<br /><br />2. The cheese is yellow, not white. Maybe if you like white chocolate over brown chocolate, you'll go for the other kind. In my book, this cheese should be yellow. Enough said.<br /><br />OK, so it's not completely organic. It's still natural and tastes good. AND--this is microwaveable!<br /><br />Res Ipsa Loquitur. (\"The thing speaks for itself, already!\")<br /><br />Made with Certified Organic Pasta (Organic Durum Semolina, Water), Cheddar Cheese (Cultured Pasteurized Milk, Salt, Enzymes), Whey, Dry Buttermilk, Butter (Cream, Salt), Salt, Corn Starch, Extractives of Annatto, Beta Carotene. Allergens are as follows: Wheat, Milk, Corn.<br /><br />I am a purist, and proud of it!\n",
      "* * * * * * * * * \n",
      "5999\n",
      "2009-04-24 00:00:00\n",
      "5\n",
      "5\n",
      "B00099XKXG\n",
      "Frank's Red Hot hot sauce is the best. The flavor is not screamingly hot and solely vinegar like other hot sauces. With others sometimes I feel like I really have to watch how much I add to dishes or it can get out of hand quickly, cverpowering other flavors.<br />Frank's won the America's Test Kitchen/Cooks Illustrated taste test. So if you trust those folks, they've done the leg work for you!\n",
      "* * * * * * * * * \n",
      "6899\n",
      "2011-11-15 00:00:00\n",
      "3\n",
      "0\n",
      "B003PPDFBI\n",
      "It is not my intention to hurt anybody's sales but this product's package was saying \"treated by radiation\".<br />I found it only at the third package and decided rather not buy it again.<br /><br />There are lots of good pet products that are not irradiated and are going quite nice. I am ok if it is made in China like most of the pet products, I trust your quality control until proven otherwise. I trust an honest effort to make good quality products and inform the customers.<br />If it matters to the producing company, I would rather not feed my best friend with something treated by nuclear radiation. Steam it, freeze dry it, but don't nuke it and leave it natural. If a restaurant would sell you irradiated food, would you consider safe for you?<br /><br />To me, if advertised looking like natural, it must be exactly that, no sneaky fine prints on the back.<br />If the producing company would offer such alternatives (non-irradiated) I would reconsider the review and would buy again this product. I would appreciate any positive feedback. Thanks.\n",
      "* * * * * * * * * \n",
      "7629\n",
      "2011-01-06 00:00:00\n",
      "5\n",
      "1\n",
      "B0019AC50I\n",
      "Ingredients: Xylitol, Gum Base, Natural Flavors (peppermint oil), Vegetable Glycerin, Gum Arabic, Soy Lecithin, Beeswax<br /><br />I usually buy the 100 count container of this <a href=\"http://www.amazon.com/gp/product/B00124VRPU\">Xyloburst Peppermint Xylitol Chewing Gum 100 Count</a>, but these blister packs were $3 cheaper for 44 more pieces of gum.  Prices seem to fluctuate a lot though, but either way this is a terrific gum.  Not only does it have better ingredients than traditional gums, but it tastes better too.  Very intense at first and then mellows.  I like that it doesn't cause cavities (like sugar gums) or cancer (like artificial sweetener gums).  I had debated between this and Spry xylitol gum, but a lot of reviewers said Spry faded quickly and tasted bad. Glad I chose this instead.  Xyloburst is definitely my brand of gum from now on.<br /><br />*Spearmint flavor is also delicious <a href=\"http://www.amazon.com/gp/product/B0019AH24C\">Xyloburst Xylitol Gum Spearmint Blister Pack</a>\n",
      "* * * * * * * * * \n",
      "9815\n",
      "2012-09-07 00:00:00\n",
      "3\n",
      "0\n",
      "B004LLDL8M\n",
      "Well I was hoping that this would be an acceptable substitute for Nabisco Zweiback but it's not. This is not shaped as shown in the picture, it is more like a sliced baguette. The taste is rather bland while Nabisco Zweiback was pleasantly sweet. The texture is much lighter, not as dense and crunchy as Nabisco zweiback. The loosely packed cellophane bags do not protect the rusks from breakage, so I got a whole lot of broken pieces even though there were some air pillow bags in the packing box for filler. So, overall, I am not fond of these rusks and will not order them again. I'll probably use what I have but I'm going to keep trying to find something more like Nabisco Zweiback. If anyone finds a good substitute, let me know. I liked to dip my Nabisco Zweiback in my tea so the product has to be able to stand up to dunking.\n",
      "* * * * * * * * * \n",
      "14381\n",
      "2011-10-13 00:00:00\n",
      "5\n",
      "0\n",
      "B003LPMAPY\n",
      "I purchased these almonds last week because the price was good. When it arrived I opened the box and found it neatly packaged. The almonds are very tasty and fresh, much better than the ones you get in the store. I like the portion sizes too. I eat one bag a day and there are 320 calories per bag. If that is more than you want to eat, I recommended  Madi K's Whole Natural Almonds, 1-Ounce Bags (Pack of 48)also sold by Amazon.\n",
      "* * * * * * * * * \n",
      "16042\n",
      "2007-04-10 00:00:00\n",
      "5\n",
      "0\n",
      "B00016UX0K\n",
      "This sauce is an excellent blend of sweet and spicy.  I love it with eggrolls, rice, just about anything that needs an extra kick.  Give it a try!\n",
      "* * * * * * * * * \n",
      "16475\n",
      "2011-06-20 00:00:00\n",
      "3\n",
      "0\n",
      "B003OZYWIO\n",
      "I happen to love acai and blueberries. So I was happy with this juice. Heck I'd even use it as a mixer. My family, not so much. One of them referred to it as my \"Enya Juice.\" Clearly I was being made fun of for being \"earthy\" and perhaps tree hugging. I let this one go. I settled for fresh oj not made from concentrate. Everyone is happy and I still get to be secretly earthy... And make good screwdrivers.\n",
      "* * * * * * * * * \n",
      "17445\n",
      "2009-10-13 00:00:00\n",
      "1\n",
      "19\n",
      "B001ASZV78\n",
      "After trying the Caledonian Kitchen Irish Whiskey Cake, I found it dull and a disappointment to a palate that has been gifted with some of Britons finest Cakes. It is not moist as it should be. It has only a slight hint of Whiskey certainly not obtained from the top shelf. It became pasty as I permitted it to blend in my mouth. The pecans are ground so fine they are lost in the breading and produce only a hint of flavour. If one was to remove the Irish Whiskey from this product you would have a basic run of the mill raisin nut cake that is best eaten with a tall glass of milk to assist in washing it down. In my years I have had numerous authentic Irish Whiskey Cakes including living 3 years in the midlands of England. Tasting a good Irish whiskey cake will initially produce a moist nutty texture on the tongue followed by a moderate but not over powering bath of Irish Whiskey to the palate. It blends with the saliva and becomes similar to a bread pudding texture almost immediately complimented by the raisins. As one swallows, the aroma of the Whiskey remains in the mouth and can be sensed in the nose. It should be moderately sweet, the Whiskey delicate, and the nuts and raisins a compliment to the texture. Even at the low price I would not purchase this product again as it insults the refined integrity of a traditional Irish Whiskey Cake. Most Irish Whiskey cakes will cost you in the neighborhood of $15-20 per pound. I would regard this product to a good Irish Whiskey cake the same as Meatloaf to a Prime Rib.\n",
      "* * * * * * * * * \n",
      "17592\n",
      "2011-12-23 00:00:00\n",
      "5\n",
      "0\n",
      "B004D0EH02\n",
      "I am very happy with this product which tastes really well and has a profound flavour of white truffle...<br />I would recommend it to anyone who would like to add a special touch to his cooking...  It tastes heavenly !!!<br />Thank you Cybaria !!!\n",
      "* * * * * * * * * \n",
      "18760\n",
      "2008-06-27 00:00:00\n",
      "5\n",
      "1\n",
      "B000CQ25QE\n",
      "We buy these by the case, and it is a family favorite.  My stepdaughters, who are used to eating a lot of highly processed foods, like it!\n",
      "* * * * * * * * * \n",
      "21087\n",
      "2012-02-27 00:00:00\n",
      "3\n",
      "1\n",
      "B000H7ELTW\n",
      "I was hoping these would be nice and tart like the ocean-spray craisins. They aren't. They taste cranberryish, but mostly sweet and not to tart. They are definitely edible, but I won't buy again.\n",
      "* * * * * * * * * \n",
      "21904\n",
      "2012-07-24 00:00:00\n",
      "1\n",
      "0\n",
      "B002ACQHDA\n",
      "I BOUGHT these coffee pods and they arrived with one of the pods open which leaked all over the bag. Amazon wouldnt give me a refund so i called Baronet directly. They were unsympathetic, would not give me a refund or replacement, and didnt seem to care that their coffee pods are inferior quaility. I will never buy from them again. $16 down the drain.\n",
      "* * * * * * * * * \n",
      "23973\n",
      "2012-04-24 00:00:00\n",
      "5\n",
      "0\n",
      "B000NMCOYK\n",
      "This is an AWSOME dubble bubble gum. I order 6 dubble bubble gums. When i first got the first one in the mail, and when i opened it i was like HOLY COW WHAT A BIG TUB. No lie i literlly said that. and also my mom said WOW THATS A BIG TUB. So when i opened it was sealed like it was said. And now when i opened it, i can smell this STRONG sweet scent. It smelt AWSOME. As i opened it my mom says oooooo that smells good. I wanted to be the very first person to take two pieces and chew them. So my mom tried it, and she liked it and i LOVED IT. But after a while it does loses its taste and it goes into rubbery chew. But i dont care i really do like it. I like the taste AND the rubbery feeling too. So i chew gum constanly like i chew 6 pieces then in half hour i chew another 6 pieces or 10 and spit it out. I go over and over again. So to be honest i LOVE THIS DUBBLE BUBBLE GUM. I do really do HIGHLY recommend this to ANYONE who likes the taste and rubbery chewy gum. And to people who are addticed to gum like i am.\n",
      "* * * * * * * * * \n",
      "24156\n",
      "2007-06-13 00:00:00\n",
      "3\n",
      "6\n",
      "B000FFLTEG\n",
      "If your hungry and you like hot and sour without the chicken broth clap your hands\n",
      "* * * * * * * * * \n",
      "24481\n",
      "2011-03-30 00:00:00\n",
      "5\n",
      "0\n",
      "B003M1KT2I\n",
      "This is w/o a doubt, the best instant coffee I've ever had.  The large jars can be a little hard to scoop out of when the coffee starts running low (I tend to pour it into my spoon), but if <a href=\"http://www.amazon.com/gp/product/B003M1KTUA\">Nescafe Clasico Instant Coffee, 7-Ounce Jars (Pack of 3)</a> is unavailable, I will opt for these.  Subscribe & Save makes a big difference in price when you drink a lot of coffee like we do, so that's a great option.\n",
      "* * * * * * * * * \n",
      "24924\n",
      "2012-09-12 00:00:00\n",
      "5\n",
      "0\n",
      "B0096RP89G\n",
      "I saw these pouched soups while I was shopping at Wal-Mart and was surprised to see that they were not only Campbell's brand soups but how  out of left field the flavor choices were for Campbell's. While different, that didn't immediately make me confident that the flavors would actually be successful.<br /><br />I decided to buy only one pouch of the Coconut Curry Chicken to try it out. I like curry so if this worked out yay me! Well Yay Me! This was RIDICULOUSLY good. While it was heating in the microwave (as it said to do in the directions) the fragrant aromas started seeping out. I was shocked. This smelled almost exactly like when I make coconut curry sauce on my own. It smelled so fresh and authentic, the only thing left to doubt was the taste. Surely the aroma was just some canned, chemically manufactured olfactory trick. I was happily proven wrong. The taste and the smell all fit together. And unlike Campbell's canned soups, where you had small pieces of of mushy vegetables or meat, here you had big pieces of carrots and chicken and crunchy water chestnuts, the shittake mushrooms were small however, but not negligible.<br /><br />Seriously try it out for yourself. You won't be disappointed. As for me I'm going to go buy a heck of a lot more.\n",
      "* * * * * * * * * \n",
      "25027\n",
      "2012-07-26 00:00:00\n",
      "2\n",
      "3\n",
      "B005ZBZM52\n",
      "I love my Keurig.  I was happy to find a less expensive product to put in it and I liked the concept of the plastic free packaging.<br /><br />But, this rainforest blend tastes like rainwater.  It smells like wet cigarettes.  We are very disappointed.\n",
      "* * * * * * * * * \n",
      "28171\n",
      "2008-09-15 00:00:00\n",
      "5\n",
      "2\n",
      "B000J4EPGW\n",
      "The MacMate powdered coca leaf tea I purchased online from Reyes-Avila Mysterious Bolivia online store was sent extremely fast-I was delighted. The powder blends well, and has a lovely grassy scent and flavor. Actually, it put me to sleep, but I enjoyed it very much. I look forward to drinking some tomorrow morning. I will definitely order again. Thank you, Mysterious Bolivia. What a treat.\n",
      "* * * * * * * * * \n",
      "28201\n",
      "2011-05-21 00:00:00\n",
      "4\n",
      "0\n",
      "B000SDKDM4\n",
      "Like Jonathan, I think this coffee is good but not to my liking as an espresso.  It lacks that \"winey\" zing.  Milder, with almost a chocolate taste.  BUT, mixed with SB's espresso - the qualities of the two make a great espresso.  Also, added half and half with regular coffee (Like Folgers) makes morning coffee come alive.\n",
      "* * * * * * * * * \n",
      "28954\n",
      "2012-09-19 00:00:00\n",
      "5\n",
      "0\n",
      "B000LKXCD6\n",
      "This stuff is perfect to heat up for a quick lunch or add as a sidedish for dinner. It has a nice curry lift to it. I would recommend it to everybody.\n",
      "* * * * * * * * * \n",
      "29994\n",
      "2012-08-01 00:00:00\n",
      "5\n",
      "0\n",
      "B005CM9ZMA\n",
      "This is what you want if a great really hot,flavorful sauce is what you have in mind! Not for the weak or faint hearted! Really great for hot sauce afficianodos! Have some cold milk handy when you FIRST try it.\n",
      "* * * * * * * * * \n",
      "30622\n",
      "2009-08-10 00:00:00\n",
      "4\n",
      "5\n",
      "B000Y3ZECM\n",
      "This is a good honey, but may be a little too \"raw\" for some people's tastes.  There were no bee body parts in the jar that I could see, but just shy of that.  The propelis cap is something to get through, that's for certain.  Once you are through that, you'll find some delicious, smooth honey.  The wildflower taste was very nice as well.\n",
      "* * * * * * * * * \n",
      "30874\n",
      "2012-04-30 00:00:00\n",
      "5\n",
      "0\n",
      "B002076V22\n",
      "My grandfather owned a small bakeshop in Scotland and I remember that Nairns oatcakes were the most popular with his customers.<br />As a kid oatcakes did not appeal to me but I subsequently developed a taste for them and like most of my grandfather's customers found that Nairns were the preferred brand. They were fired a little longer than other manufacturers oatcakes producing a crispier bite.\n",
      "* * * * * * * * * \n",
      "33071\n",
      "2011-04-04 00:00:00\n",
      "4\n",
      "0\n",
      "B000LKU3WY\n",
      "One weekend when I was terribly sick with the stomach flu, my doctor, in addition to prescribing medication,  suggested I eat ginger candy.  The candy has a spicy hot taste which was not appealing to me initially but it did seem to help my stomach ailment.  I now buy Reed's Ginger Candy to have on hand all the time for minor indigestion.\n",
      "* * * * * * * * * \n",
      "35088\n",
      "2012-08-28 00:00:00\n",
      "1\n",
      "1\n",
      "B007RAMDJM\n",
      "What I received didn't mention the word \"reishi\" on the packaging, in contrast to the product description, it was labeled \"Dried Linch\", so I have no idea what I received.  Under \"Ingredients\" it lists dried linch and sulfites as a preservative. The item is not eligible for return.\n",
      "* * * * * * * * * \n",
      "35663\n",
      "2011-04-09 00:00:00\n",
      "4\n",
      "7\n",
      "B0000V8IOE\n",
      "When coffee was being ground I could tell the beans were old and dried out, not a good flavor or or even much of any flavor at all, save your money on this company.<br />Call company and they made restitution.\n",
      "* * * * * * * * * \n",
      "37007\n",
      "2012-07-13 00:00:00\n",
      "5\n",
      "0\n",
      "B005JTN03G\n",
      "I love perpetual kid! When I open the box the first thing I see is this four-eyed, green, duck-billed platypus, lobster alien finger puppet thing with staring back at me with a packing peanut in its mouth and the first thing I think to myself is \"I love whoever took the time to put this in here\".<br />Now for the part of me that is logical and not amused so easily: the package arrived incredibly quickly! It told me it would arrive around the 19th (the package tracker still says it's only been shipped, so they even pulled one past amazon), and here it is, in my hands on the 13th.<br />I would have been satisfied with half of the quality demonstrated by perpetual kid, I guess that just goes to show how low standards are at some places.\n",
      "* * * * * * * * * \n",
      "38107\n",
      "2011-07-16 00:00:00\n",
      "1\n",
      "0\n",
      "B000SE6JCG\n",
      "I am a regular user of this Stride Spearmint gum. Although, since February of 2011, they've upgraded to something called Stride v2.0, with new packaging. And, they don't make this regular Stride. While, the item doesn't show the v2.0, I just assumed I would be getting that one, since they don't make the old one. But, they sent me the old expired stock of regular stride which was probably manufactured more than 6 months to a year ago. I guess I am going back to buying it from supermarkets, instead of here!!!\n",
      "* * * * * * * * * \n",
      "39989\n",
      "2011-02-24 00:00:00\n",
      "5\n",
      "7\n",
      "B008NDSNAU\n",
      "I often wonder if I am the only person in the world who cannot stand microwave popcorn.  Give me real corn and a little oil and I am pretty happy.  Then I discovered this popcorn at a kitchen store in my local outlet.  Then they went out of business and I lost my awesome popcorn connection... until now.<br /><br />Wabash Valley Farms is the best popcorn you can get outside of your local multi-plex (though I really like target popcorn too).  You don't need the whirly popper as indicated on the package instructions - I always cook it on the stovetop in a large covered pot; my sister cooks it in one of those fancy carnival poppers.<br /><br />Each pack contains 5 pouches of product. Each pouch contains popping oil, popcorn, and a buttery salt topping (which I only use about half of - it is very fine and very salty). For those that like additional butter, you can add it after popping.  While I cannot attest to the exact amount of popcorn yielded, it does do a good job of filling up my 32-cup Tupperware Thatsa bowl.  Thatsalotta popcorn.<br /><br />The unit cost is $1.66 per pouch, which may seem high when comparing it to microwave popping corn, but you just cannot compare the quality and taste (and when compared to theater popcorn, it is a fraction of the cost). Orville Redenbacher has nothing on Wabash!\n",
      "* * * * * * * * * \n",
      "40512\n",
      "2011-03-10 00:00:00\n",
      "3\n",
      "0\n",
      "B0045XB4AI\n",
      "I have mixed feelings regarding the Red Rain Evergy Shot (Berry Flavor).  It is about the same size and shape of every other energy shot bottle available.  I found the flavor to be preferable to the equivilant 5-Hour Energy shot, tasting less like cough syrup than 5-Hour Energy.  (It DOES have a medicine-y aftertaste that became apparrent about 2 minutes after drinking the shot, and though it's mild, it lasted for about 10 minutes.)<br /><br />One takes these energy shots for, well, a boost of energy, mental acuity, and/or alertness.  I experienced no uptick in any of these departments.  I did have a slight flushing in my cheeks (facial cheeks, mind you), but that's about it as far as discernible effects.  (There was no resultant caffeine crash, either.)  From that perspective, I'd do better with other products.  Every person's body chemistry is different, however, and this product may work well for you.  I didn't notice any of the intended positive effects.\n",
      "* * * * * * * * * \n",
      "41554\n",
      "2012-03-26 00:00:00\n",
      "5\n",
      "1\n",
      "B003O68Y8W\n",
      "This treat jar is better than I expected, easy to open and close, attractive, and most importantly keeps treats fresher than the suction seal ones that don't always suction properly. Another bonus: it's just big enough to fit dog jerky strips in it (other jars I had were too short so I couldn't put the lid on right or had to break up the jerky).\n",
      "* * * * * * * * * \n",
      "44378\n",
      "2007-08-29 00:00:00\n",
      "2\n",
      "14\n",
      "B001E530A2\n",
      "I opened the snack cabinet in the office today and found something new: Sun Maid Vanilla Yogurt Raisins. I thought they might be a moderately healthy supplement to my boring lunch, so I opened a box and popped a few in my mouth.  The raisins were plumper than the normal desiccated Sun Maid product, but the yogurt coating was sweet but not distinctive tasting and had a weirdly slick texture after being chewed a couple times. Noting this, I idly checked the ingredients while I waited for my tea to warm up in the microwave. Natural California Raisins, check. Yogurt coating... with partially hydrogenated palm kernel oil. Hmm. The obverse of the box yielded the devilish Nutrition Fact I was looking for: One box of these demons contains 4 grams of saturated fat, or 20% of the recommended daily value.<br /><br />These things are moderately tasty, but for that amount of saturated fat, I want to cram something absolutely delicious in my cake hole (like cake?). I would not recommend these to anyone, and I would definitely never give them to my children thinking they were some kind of healthy snack.\n",
      "* * * * * * * * * \n",
      "46038\n",
      "2012-03-28 00:00:00\n",
      "1\n",
      "5\n",
      "B002HQKZ3W\n",
      "I purchased a 6 pack of this peanut butter because it says it is a natural product. When I received it and read the ingredients I found that Skippy LIES!!! This has added PALM oil, a saturated fat not found in peanuts,SUGAR, and SALT. We don't eat this kind of crap! And neither should you. We gave it to the local food bank! WILL NEVER BUY SKIPPY AGAIN! I hope this review will be read by many prospective buyers.\n",
      "* * * * * * * * * \n",
      "50563\n",
      "2012-06-11 00:00:00\n",
      "1\n",
      "3\n",
      "B000ER3FD8\n",
      "I have bought hundreds of items on amazon over the years but written very few reviews. I felt compelled to warn others with this cereal. I disregarded the other bad reviews thinking maybe they just had idiosyncratic reactions. My baby vomitted twice with this cereal two weeks apart. There needs to be an investigation with all these bad reviews.\n",
      "* * * * * * * * * \n",
      "52594\n",
      "2009-06-24 00:00:00\n",
      "3\n",
      "2\n",
      "B001LG945O\n",
      "You know what one of my favorite sounds is? The sound of a can opening. I think it's weird, consider I'm not a huge soda drinker...since I find most sodas too be way too sweet or sugary.<br /><br />This is a review for an Orange Tangerine drink from Switch. I've never heard of them, but I was feeling kind of thirsty so I ordered a can from the vine program. It's an 8.3 ounce can of 100% carbonated juice (plus gum acacia, natural flavors and colors, ascborbic acid and soy). I don't know what to think about some of the ingredients, but I certainly do know that I like: that it's only 8 ounces and that it has no corn syrup!<br /><br />It tastes very similar to canned Minute Maid drinks, especially the Vallencia Orange offering...but does have a slightly sickly sweet aftertaste.  I don't know if I'd run out and buy a 24 pack, but if I saw this in a restaurant I'd definitely consider it as a tasty complement to a sandwich and potato chip lunch.<br /><br />The last thing I like is about the company: it seems to be an independently owned shop, and I like that.\n",
      "* * * * * * * * * \n",
      "52611\n",
      "2012-08-05 00:00:00\n",
      "5\n",
      "0\n",
      "B004LL27XC\n",
      "Title says it all. Sweet smooth vanilla. Best creme soda ever. Word eorf word word word word word wordWord word word\n",
      "* * * * * * * * * \n",
      "53271\n",
      "2006-02-19 00:00:00\n",
      "5\n",
      "2\n",
      "B00008DFTH\n",
      "Two in the morning and two at night makes her feel like a kitten--they must be packed with catnip. I've tried other favors, and they weren't at all the same. The chicken flavor is the one that stones her the best. She's an old ferrel cat we took in, who has remained afraid of anyone not part of the family. Two of these and strangers become her best friends. I see no reason whatever why she can't stay stoned the rest of her life, purring.\n",
      "* * * * * * * * * \n",
      "53601\n",
      "2012-08-25 00:00:00\n",
      "5\n",
      "0\n",
      "B008FG6T56\n",
      "I am a fan of the cacao tea. But for some reason it wasn't available at the time,  so I bought this instead, crossing my fingers it was just as good. Didn't have to wish so hard...the product is EXCELLENT! Kept my appetite in check. Won an online fitness transformation contest(thanks not only to my Venus Index workout program but to Tisano as well.) THis should be a part of every dieter's cabinet! I am now in maintenace and this tea helps me keep my weight under control. I am a big fan of chocolate anything. I used to drink Republic of Teas Chocolate line but after trying Tisano, I have switched my allegiance! Republic's tea line never satisfied my chocolate tooth. But tisano's does!<br /><br /> I used to be a binge eater. It's a hard thing to manage and I probably will always suffer from those desires. Tisano tea...helps alot. I am now in maintenance with my weight and I am not getting rid of this tea. I will keep is a a staple in my cabinet. I wish it was on autoship!\n",
      "* * * * * * * * * \n",
      "54006\n",
      "2011-09-03 00:00:00\n",
      "1\n",
      "0\n",
      "B004ZU0RAE\n",
      "We bought these bottles about 1month ago. Our daughter is very picky about bottles a chokes on many nipples. She is breastfed, but we needed to start introducing bottles for daycare. She did very well with these bottles.  In this month, 2 of the 3 rings that go on the bottom of the nipple have developed bubbles, making them useless. One bottle is on the verge of shattering and the other 2 have large cracks. These bottles are not durable at all. We hand wash these bottles, followed by a steam sterilizer.  She only gets one bottle a day, so we haven't used them very much. Don't buy. They are a waste of money.\n",
      "* * * * * * * * * \n",
      "54093\n",
      "2012-05-12 00:00:00\n",
      "5\n",
      "0\n",
      "B000ETVKE2\n",
      "I have never been a fan of black licorice ---- until I tried these ! These are the perfect balance of licorice flavor and sweetness. I also like that they are very firm so I suck on them awhile before I chew them up. These little black cats are perrrrrrfect.\n",
      "* * * * * * * * * \n",
      "59118\n",
      "2012-06-07 00:00:00\n",
      "3\n",
      "0\n",
      "B0000DG86W\n",
      "Well it could have been worse. The bonsai was in a healthy condition when it arrived(using standard 4-6 day shipping). However; it was all misshapen and contorted into a very un-bonsai state. The needle foliage was thin(Charlie Brown Christmas tree thin), but very green and vibrant. I know not every juniper bonsai will be the same, but this case is a little shameful to say the least.<br /><br />And at least put a \"This side up\" sticker on the box respectful to the bonsai's orientation, for Pete's sake.  If it's too much for you guys, I'll do it pro-bono. It's already bad enough the plant is subdued to stress in a dark, stuffy, box. You lose stars for that because now I have to train this juniper back to it's natural state--I could be wire training the older parts by now. How about getting familiar with a ruler before going on about 9\" tall juniper in the description. This poor thing doesn't even reach 5\" at best. The pot and the tree combined just make 7\"<br /><br />I really hate to be mean, but this dishonors the respected Brussel's Bonsai name. I only bought this because of the Brussel's name-like most people. What I got can't be 3 years old either. Way too thin- almost a 1/3 of an inch. Thanks for the $20(shipping included) sapling+glazed pot and soil.<br /><br />I could have bought a juniper sapling for a few pennies on the dollar instead of one of these over-priced price pieces of feng shui.<br /><br />All my displeasure set aside- it arrived in good condition and quality(for a sapling). I was hoping for a natural, unpainted pot, but blue is nice. It arrived at a good time. And I'm looking forward to watching it grow over the years to come.<br /><br />One more thing please be honest in the description, thank you.\n",
      "* * * * * * * * * \n",
      "62872\n",
      "2012-08-19 00:00:00\n",
      "5\n",
      "0\n",
      "B000N648QS\n",
      "My cats are more enthusiastic about Turducken than just about any other cat food. They literally lick the plate clean. Even my LaPerm, who usually just gives me \"silent meows,\" manages to squeak out an audible meow when I start putting this on a plate.  The ingredients are much higher quality than many brands, too (no by-products, corn, etc.). I will be ordering more.\n",
      "* * * * * * * * * \n",
      "65121\n",
      "2011-03-27 00:00:00\n",
      "4\n",
      "0\n",
      "B002TN49F8\n",
      "..but that being said, the actual taste flavor of the coffee is somewhat weak.  I drink coffee black and this Parisian Vanilla just doesn't have any guts.  On its own. So I started mixing it with my Kivu medium ground Costa Rican - now you have coffee heaven!  Mixed it with my VPP Espresso Blend Thai coffee - incredible!  I wholly recommend this Melitta Parisian Vanilla and will certainly buy it again if I can find it.  It's aroma has to be smelled to be beleived, and mixing it with other stronger coffees brings untold delight.\n",
      "* * * * * * * * * \n",
      "65273\n",
      "2011-01-17 00:00:00\n",
      "5\n",
      "0\n",
      "B003ZT25HO\n",
      "Every morning my family starts their day with this great coffee drink!  We have tried other Maxwell House Internationl Coffees and Dark Myan Chocolate Latte is the best!  Rich and frothy,a wonderful dark chocolate flavor with a hint of cinnamon.  We top it off with a swirl of whipped cream.  Fantastic!\n",
      "* * * * * * * * * \n",
      "66579\n",
      "2010-09-08 00:00:00\n",
      "5\n",
      "0\n",
      "B00099XMRU\n",
      "I use this mix all the time!  The cookies come out moist and delicious!  I make several different varieties...  peanut butter blossoms (roll the dough into balls, roll in granulated sugar and bake, when the cookies come out of the oven press a hershey's kiss on top), plain peanut butter cookies and everyone's favorite Peanut Butter and Jelly cookies (roll the dough into balls, roll in confectioner's sugar, make a small indntation in the middle, fill with your favorite jam/jelly and bake)...<br />Everyone always thinks I make all of these from scratch.  If they only knew...  :-)\n",
      "* * * * * * * * * \n",
      "68692\n",
      "2012-03-29 00:00:00\n",
      "1\n",
      "4\n",
      "B004OEW72M\n",
      "Cute concept, cute name. If you love original peeps, and you love chocolate, Peepsters sounds like a winning combination.<br /><br />Unfortunately, these do not live up to expectations. In fact, they're really not good at all. The marshmallow creme doesn't taste anything like marshmallow. It's got a heavy, thick, sticky texture and an unpleasant, artificial flavor. The chocolate is fairly good quality, but is not tempered correctly so it melts way before you can get it into your mouth. It melts so quickly it will practically slide out of your fingers between the wrapper and your mouth. The one positive note is that Peepsters are so stingy with their creme filling you can barely find any when you bite into them. Which is a good thing, since the filling is cloying and artificial. I love candy, and while I can be a bit of a chocolate snob, I will never pass up or not finish a bite-sized piece of candy. Until now. I couldn't even eat a whole Peepster, which is not even an inch in diameter.<br /><br />Personally, I really don't see Peepsters catching on. Save your easter-basket candy money for Original Peeps or other, more inspired candies.\n",
      "* * * * * * * * * \n",
      "68786\n",
      "2012-04-24 00:00:00\n",
      "4\n",
      "0\n",
      "B004TLPGMI\n",
      "I really like this carousel, each slot will hold a carton of discs although if you have the creamers its a little short to fit them all. Could've been just an inch taller and it would've fit them all fine. Otherwise besides the capacity issue this carousel works flawlessly, it's balanced so when you rotate it there isn't a tendency to tip and the matte black finish is easy to match with the rest of the kitchen and resists abrasion well.\n",
      "* * * * * * * * * \n",
      "69749\n",
      "2012-02-08 00:00:00\n",
      "5\n",
      "0\n",
      "B000MT5194\n",
      "I can't stand anchovies but I ordered this for my husband fret he got hooked on them in Spain.  He said this was the closest thing we've been able to find in the us.  He wants more.\n",
      "* * * * * * * * * \n",
      "71633\n",
      "2010-05-30 00:00:00\n",
      "5\n",
      "1\n",
      "B0009F3QLQ\n",
      "I get very bad cramps that make me dizzy, nauseous and have pain radiating all throughout my abdomen and lower back. Midol and ibuprofen don't do that much for me and so I'm always open-minded when it comes to things for cramps. I didn't have high hopes for this tea, but I was pleasantly surprised. The tea greatly reducing my bloating, which is usually quite severe (I sometimes look like a pregnant whale) and did make my cramps a little better. Was I still in pain? Yes, but it wasn't quite as bad.\n",
      "* * * * * * * * * \n",
      "72263\n",
      "2012-03-18 00:00:00\n",
      "5\n",
      "1\n",
      "B003JA5KAS\n",
      "Absolutely love this stuff! It really does work without any of the crash associated with most energy drinks. Neuro Bliss helps my kids and myself foucs. My wife is losing weight with the help of the trim and the sonic (for energy) and the Neuro Sleep is great. I travel a lot with frequent International trips and it is tough to adjust to all the frequent time zone changes each week and the Neuro Sleep really helps me get a very restful sleep and reset my body clock. Just wish that the delivery option offered \"Every 2 weeks\" instead of only one shipment per month. \"Every 2 weeks\" would help spread the cost out over paychecks. Love these drinks!!\n",
      "* * * * * * * * * \n",
      "73049\n",
      "2012-07-18 00:00:00\n",
      "3\n",
      "0\n",
      "B007RTR89S\n",
      "The Clear Scalp Damage & Color Repair shampoo is a reasonably good product: it has helped to minimize split ends during use. However, after spending a small fortune on coloring, I'm loathe to use this product: it contains sodium laureth sulfate, which can fade color more rapidly than shampoos without it.<br /><br />The fragrance is almost like a citrus, but a bit too cloying for my preference. The scent doesn't really linger after washing, though, which is good.<br /><br />The major drawback is actually a functional design. The bottle's closure and cap doesn't avoid inadvertent opening and leaking. The product arrived, having opened during shipment, and had spilled all over the inside of the shipping box. This meant a loss of about 1/4-1/3 of the shampoo; had there been other items in the box, they would've been destroyed. A similar issue was encountered when packing it in luggage for a trip.\n",
      "* * * * * * * * * \n",
      "76062\n",
      "2011-06-28 00:00:00\n",
      "1\n",
      "7\n",
      "B003IDF86C\n",
      "I fell in LOVE with this product while visiting my Son in Honolulu, he purchases this at Cosco. As soon as I arrived back to the midwest I called EVERY Costco and requested and researched as to why this Cost's SO much on line and is unavailable in the Midwest or any Markets.<br /><br />It would apear this product is NOT safe under the USDA guidelines and this to be the reason for a HUGE cost Increase on line and the reason it is Unavailable in the stores normally found in.<br /><br />WHAT a SHAME ! ! ! I found a greater Energy prior to my daily Yoga and after my daily hygiene regimine for the day while eating this Mix. I would think this company; \"Anne's House\" would find a substitute to replace the requests for thier product. If this product is not safe under the guidelines of the FDA it should have been found before ever allowed to be placed on the shelves in the USA.<br /><br />I WISH I could find A Substiture Product as good Anne's House Soy Energy Blend that is Safe and is Reasonably priced on the shelves in the USA once again.\n",
      "* * * * * * * * * \n",
      "76809\n",
      "2012-09-10 00:00:00\n",
      "3\n",
      "0\n",
      "B007R900WA\n",
      "The product does store the k cups nicely but the top is a soft rubbery foam and it leave indents that do not come out when you move the coffee maker.\n",
      "* * * * * * * * * \n",
      "77242\n",
      "2011-03-27 00:00:00\n",
      "5\n",
      "3\n",
      "B000VYD0MA\n",
      "I grow beet.  I was upset because the gophers kept eating my beets. I tried water, Uncle somthing repellant that has chili powder and other repellants. I spent about $100 for these repellants.  My brother's father-in-law uses victor traps and he could catch about 20. I bought a pair. So far, it catches 4.\n",
      "* * * * * * * * * \n",
      "77491\n",
      "2012-01-17 00:00:00\n",
      "5\n",
      "0\n",
      "B001CDOBCM\n",
      "Bourbon or rye, soda or not, if you make your old fashioned with fruit Luxardo Cherries move it up a level. Same story for Manhattans.<br /><br />After all, you use premium liquor in your drinks, why not premium cherries?\n",
      "* * * * * * * * * \n",
      "79362\n",
      "2010-11-23 00:00:00\n",
      "4\n",
      "1\n",
      "B001EO5XV2\n",
      "I ordered 4 varieties, one being More Than Gourmet Classic Roastd Vegetable Demi-Glace, 1.5-Ounces (Pack of 6). This one came soft and of gelatin consistency. The supposedly chicken demi glaze came of  very hard consistency, almost like hard glue, so this one called my attention. I immediately rinsed some pinto beans and filled a pot with the right amount of water to cook them and still have some gravy for the brown rice. When I used More Than Gourmet Classic Roastd Vegetable Demi-Glace, 1.5-Ounces (Pack of 6), after it dissolved I served myself a very small cup of the broth. Noticed very little salt. Also a very subtle taste, kind of bland and vague. I do understand that is the nature of vegetables, they are mild in flavor compared to chicken or beef. I liked the color of the water in the early stages and in the latter one I noticed it had caramelized somewhat and had become the perfect consistency to serve. I did add my bag of tricks to the concoction for they do require all manner of spices and herbs if it is to be truly vegetarian. I previously have purchased quite a few vegetable base products, for I have been always in search of the perfect stock in each category, and this one rose to the top. Once it thicken and the beans were soft and velvety and the mix of the other goodies, including caramelized onions, fresh ground garlic, wine, herbs, spices, sea salt, pepper, jalape&ntilde;os properly macerated in olive oil and then lightly grilled to finally blended form, once the final product was ready everyone that ate it (Im just bragging, there were two of us at that time...) said it was magnifique and I congratulated the results by eating double. This one might not have a lot of taste but it certainly melted divinely and made an all vegetarian rendering quite the novelty act. 4 Stars.\n",
      "* * * * * * * * * \n",
      "81400\n",
      "2012-10-08 00:00:00\n",
      "5\n",
      "0\n",
      "B0019MYZGS\n",
      "This is a slightly darker maple syrup, and the flavor is fantastic! Seriously, once you've tried this stuff, you'll never want to go back to the artificially-flavored drek (\"maple-flavored\" syrup).  Yes, it's more expensive, but the taste is worth it. I use it on pancakes and waffles, and brush a little on chunks of sweet potato before roasting them to bring out the sweetness and flavor. Excellent product, good price.\n",
      "* * * * * * * * * \n",
      "82728\n",
      "2009-07-13 00:00:00\n",
      "5\n",
      "0\n",
      "B000ETGBN2\n",
      "The flavor of my first bite was unbelievably intense.  I've tried numerous GF cookies, these are my favorite by a long shot. The package has been redesigned, it is now cream & blue in color.\n",
      "* * * * * * * * * \n",
      "85186\n",
      "2011-07-18 00:00:00\n",
      "5\n",
      "0\n",
      "B0018CE77Q\n",
      "(PRODUCT LINK: ASIN: B0018CE77Q)<br />Cotton ran really fast to his dry food bowl when he got a sniff of this!  And I am speechless; his love affair with this continues.  The company doesn't have wide-enough distribution, but deserves it.  They make a splendid product.<br />However, Amazon has it.  Bet you can't guess where the reorder will be sent!\n",
      "* * * * * * * * * \n",
      "87075\n",
      "2006-12-22 00:00:00\n",
      "5\n",
      "0\n",
      "B00079PEBE\n",
      "These are a staple in my cookie jar. My dogs have food allergies, so I must be cautious about what they eat. These treats are very crunchy and the shapes are adorable. I am impressed that the ingredients are both wholesome and natural. Brody and Nellie give them two paws up!\n",
      "* * * * * * * * * \n",
      "87413\n",
      "2010-10-28 00:00:00\n",
      "5\n",
      "0\n",
      "B0006MU8SG\n",
      "After researching many options for the Nature's Prairie Lamb and Oatmeal Variety, we found sitstay.com to be the best price. This is excellent food, and our dogs have been feeling much more healthy since we started this food.\n",
      "* * * * * * * * * \n",
      "87642\n",
      "2010-07-10 00:00:00\n",
      "5\n",
      "1\n",
      "B0001CVDZI\n",
      "I found a recipe for jerk chicken on one of the bottles, haven't been able to find it since.<br />Mix 1TB Jerk Seasoning to 2TB Yogurt (vanilla, plain, low fat, non fat, regular) all amazing... with wings, thighs, drumettes.... Marinade for 24-48 hours, then slow bake or grill...225-275 degrees for 2 hours. Amazing!!!\n",
      "* * * * * * * * * \n",
      "89380\n",
      "2011-06-17 00:00:00\n",
      "1\n",
      "1\n",
      "B001AC57NM\n",
      "I have major problems cooking these on my iron griddle. Although the box says to cook them on a non-stick surface, my well-seasoned, greased iron surface has had no problems releasing food until now (plus it is free of teflon!). I've tried cooking the pancakes three times now. The first day I made the mix I added berries and extra almond milk because the batter seemed too thick. I ended up with burnt, partially cooked gloop and a very messy iron griddle. The second day I tried to match the directions on the box as carefully as possible, and added extra oil to the griddle. The pancakes turned out better, but still stuck to the cooking surface. What seemed to help the most was keeping the heat very low. This morning I tried making them again, with results similiar to the second batch. I will not use this brand again, because I prefer to add berries to my pancakes, and it takes way too long to scrape the burnt bits off my iron griddle!<br /><br />As far as flavor goes, these have a sweet vanilla note without being cloying (which I liked), but they taste strongly of baking powder. They remind me in flavor and texture of mochi, so I suspect that the white rice flour on the ingredient list is a sticky rice flour.<br /><br />All in all, I've had much better luck with other pancake mixes!\n",
      "* * * * * * * * * \n",
      "89726\n",
      "2012-05-21 00:00:00\n",
      "5\n",
      "0\n",
      "B007JRQ8TE\n",
      "The zylitol hard candies are delicious and have a nice variety of flavors. They were recommended to me by my dentist to help promote saliva production in my dry mouth which will help prevent cavities. I would recommend this product and the amazon web site to others.\n",
      "* * * * * * * * * \n",
      "90111\n",
      "2009-09-23 00:00:00\n",
      "4\n",
      "1\n",
      "B001G8W7YC\n",
      "So, I agree with the criticism that the description isn't 'great' - but others have clarified it - each box has 12 packs - each pack has 12 pieces of gum - since there are two boxes you get 2x12x12 or 288 pieces of gum in all.<br /><br />They taste good - just like regular gum. No hint of caffeine bitterness.<br /><br />I do think that they could have MORE caffeine to be more effective - perhaps 50mg (or 55-60mg) per piece (instead of 40mg ) ... are you listening Jolt ??? However, a good product at a good price with a good twist :)<br /><br />UPDATE:  good good stuff... caffeine helps wake you up, keep you awake when driving, helps weight loss, cuts appetite, gives extra strength when going in the gym.  AND, helps you drink LESS coffee.  I suppose if you have HBP you should avoid it, but, if you don't I love it.\n",
      "* * * * * * * * * \n",
      "90709\n",
      "2012-03-07 00:00:00\n",
      "5\n",
      "4\n",
      "B00374QXAC\n",
      "StarKist Tuna Chunk Light Pouch In Water, 2.6oz pouches are a very convenient method of eating on the run or preparing a quick meal when time is short. I recently began using Tuna in the pouch and really like how easy it is compared to canned Tuna which requires a can opener and is full of water. The pouch is very easy to open just by tearing the top of the pouch which has a pre-made notch to initiate an easy opening. Once the pouch is open it is not resealable. The Tuna can be eaten directly out of the pouch or you can empty the contents to make a salad or other meal. I now keep some of these Tuna pouches at work and I carry a few in my every day carry (EDC) bag in case I get stuck somewhere and need a quick, easy, and healthy snack to keep me going. I also carry some when hiking, backpacking, or camping.<br /><br />The pouch is relatively strong and would not easily be punctured by an object. As a precaution I do wrap the pouch in a one gallon freezer bag when carrying the Tuna in my EDC bag just as an added measure of caution. Each pouch is considered one portion and contains 80 calories with only 5 calories from fat. Each serving contains 18 grams of protein. The pouch has a label stating that the product may contain bones but I have yet to encounter any bones. This Tuna is a good source of protein and Omega-3 fatty acids. The Tuna is labeled as a product of Thailand and the expiration date is over 2½ years from that date that I purchased the Tuna so it will last awhile and there is no need to be concerned about the expiration date. I have seen this product on sale at a local grocery store for about a dollar which is a great deal.<br /><br />Overall, I am very satisfied with this product and would highly recommend the StarKist Tuna Chunk Light Pouch to others.\n",
      "* * * * * * * * * \n",
      "90889\n",
      "2011-07-19 00:00:00\n",
      "5\n",
      "1\n",
      "B0016PKA1C\n",
      "I've had trouble storing fresh basil because I learned a long time ago not to put it in the fridge.  My cat is attracted to anything in the plant family (with disasterous results).  This keeps my basil fresh and the cat ignores it!\n",
      "* * * * * * * * * \n"
     ]
    }
   ],
   "source": [
    "# false positives\n",
    "\n",
    "import random, time\n",
    "\n",
    "for i in range(0, len(ridge_predictions)):\n",
    "    if (ridge_predictions[i] == True):\n",
    "        if (amazon.loc[i, \"helpful\"] == False):\n",
    "            if (random.uniform(0, 1) < 0.05):\n",
    "                print(i)\n",
    "                print(time.strftime('%Y-%m-%d %H:%M:%S', time.gmtime(amazon.loc[i, \"Time\"])))\n",
    "                print(amazon.loc[i, \"Score\"])\n",
    "                print(amazon.loc[i, \"HelpfulnessDenominator\"])\n",
    "                print(amazon.loc[i, \"ProductId\"])\n",
    "                print(amazon.loc[i, \"Text\"])\n",
    "                print('* * * * * * * * * ')"
   ]
  },
  {
   "cell_type": "code",
   "execution_count": null,
   "metadata": {},
   "outputs": [],
   "source": []
  }
 ],
 "metadata": {
  "kernelspec": {
   "display_name": "Python 3",
   "language": "python",
   "name": "python3"
  },
  "language_info": {
   "codemirror_mode": {
    "name": "ipython",
    "version": 3
   },
   "file_extension": ".py",
   "mimetype": "text/x-python",
   "name": "python",
   "nbconvert_exporter": "python",
   "pygments_lexer": "ipython3",
   "version": "3.7.1"
  }
 },
 "nbformat": 4,
 "nbformat_minor": 1
}
