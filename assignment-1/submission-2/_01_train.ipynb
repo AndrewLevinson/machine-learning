{
 "cells": [
  {
   "cell_type": "markdown",
   "metadata": {},
   "source": [
    "# Training Set"
   ]
  },
  {
   "cell_type": "code",
   "execution_count": 38,
   "metadata": {},
   "outputs": [],
   "source": [
    "import numpy as np\n",
    "import pandas as pd\n",
    "import matplotlib.pyplot as plt\n",
    "from sklearn.externals import joblib\n",
    "%matplotlib inline"
   ]
  },
  {
   "cell_type": "markdown",
   "metadata": {},
   "source": [
    "### Read raw training data"
   ]
  },
  {
   "cell_type": "code",
   "execution_count": 39,
   "metadata": {},
   "outputs": [
    {
     "name": "stdout",
     "output_type": "stream",
     "text": [
      "(364000, 14)\n"
     ]
    }
   ],
   "source": [
    "amazon = pd.read_csv('/Users/andrewlevinson/programs/parsons/spring-2019/machine-learning-class/machine-learning/assignment-1/data/raw_data_train.csv')\n",
    "print(amazon.shape)"
   ]
  },
  {
   "cell_type": "code",
   "execution_count": 40,
   "metadata": {},
   "outputs": [
    {
     "name": "stdout",
     "output_type": "stream",
     "text": [
      "   Unnamed: 0  Unnamed: 0.1      Id   ProductId          UserId  \\\n",
      "0      355714         40685   40686  B004WYLFG8  A2PAVPEC39NA9Y   \n",
      "1      233345        207298  207299  B003D4IYSU   A93V92CWURUP7   \n",
      "2      101305        406936  406937  B0030F70HI   AR0CBVTO8Q142   \n",
      "3       53358        306295  306296  B0000VZ0G8  A3D3UHFNSO5ISQ   \n",
      "4      399462        199802  199803  B002BG38R8  A2V82V20LFSWD7   \n",
      "\n",
      "        ProfileName  HelpfulnessNumerator  HelpfulnessDenominator  Score  \\\n",
      "0  James E. Stewart                     0                       0      5   \n",
      "1     savannah_jess                     0                       0      5   \n",
      "2         scribners                     1                       3      1   \n",
      "3         Subtitles                     0                       0      4   \n",
      "4               J A                     0                       0      5   \n",
      "\n",
      "         Time                        Summary  \\\n",
      "0  1346630400             Great Mocha Powder   \n",
      "1  1333324800             Great Berry Flavor   \n",
      "2  1326240000            thourghly discusted   \n",
      "3  1301184000                    Good Coffee   \n",
      "4  1323907200  Great for kids with allergies   \n",
      "\n",
      "                                                Text  helpScore  helpful  \n",
      "0  I had been waiting and hoping for Starbucks Mo...        NaN    False  \n",
      "1  I have always loved Stash brand teas, and this...        NaN    False  \n",
      "2  mis ordered because of the same/simlilar name ...   0.333333    False  \n",
      "3  This coffee is sweeter and less bold than the ...        NaN    False  \n",
      "4  I switched from formula to Hemp milk when my b...        NaN    False  \n",
      "0.07287637362637363\n"
     ]
    }
   ],
   "source": [
    "print(amazon.head())\n",
    "print(amazon['helpful'].mean())"
   ]
  },
  {
   "cell_type": "markdown",
   "metadata": {},
   "source": [
    "### Feature extraction on natural language data"
   ]
  },
  {
   "cell_type": "code",
   "execution_count": 41,
   "metadata": {},
   "outputs": [],
   "source": [
    "# # http://scikit-learn.org/stable/modules/generated/sklearn.feature_extraction.text.CountVectorizer.html\n",
    "# from sklearn.feature_extraction.text import CountVectorizer\n",
    "# vectorizer = CountVectorizer()\n",
    "# corpus = amazon.Text.as_matrix()\n",
    "# X_bag_of_words = vectorizer.fit_transform(corpus)\n",
    "# print(X_bag_of_words.toarray())"
   ]
  },
  {
   "cell_type": "code",
   "execution_count": 42,
   "metadata": {
    "scrolled": true
   },
   "outputs": [
    {
     "name": "stderr",
     "output_type": "stream",
     "text": [
      "/Users/andrewlevinson/anaconda3/lib/python3.7/site-packages/sklearn/feature_extraction/hashing.py:102: DeprecationWarning: the option non_negative=True has been deprecated in 0.19 and will be removed in version 0.21.\n",
      "  \" in version 0.21.\", DeprecationWarning)\n",
      "/Users/andrewlevinson/anaconda3/lib/python3.7/site-packages/sklearn/feature_extraction/hashing.py:102: DeprecationWarning: the option non_negative=True has been deprecated in 0.19 and will be removed in version 0.21.\n",
      "  \" in version 0.21.\", DeprecationWarning)\n"
     ]
    },
    {
     "name": "stdout",
     "output_type": "stream",
     "text": [
      "(364000, 262144)\n"
     ]
    }
   ],
   "source": [
    "# vectorize Bag of Words from review text; as sparse matrix\n",
    "from sklearn.feature_extraction.text import HashingVectorizer\n",
    "hv = HashingVectorizer(n_features=2 ** 18, non_negative=True)\n",
    "X_hv = hv.fit_transform(amazon.Text)\n",
    "print(X_hv.shape)"
   ]
  },
  {
   "cell_type": "code",
   "execution_count": 43,
   "metadata": {},
   "outputs": [
    {
     "data": {
      "text/plain": [
       "scipy.sparse.csr.csr_matrix"
      ]
     },
     "execution_count": 43,
     "metadata": {},
     "output_type": "execute_result"
    }
   ],
   "source": [
    "type(X_hv)"
   ]
  },
  {
   "cell_type": "code",
   "execution_count": 44,
   "metadata": {},
   "outputs": [
    {
     "data": {
      "text/plain": [
       "['hv.pkl']"
      ]
     },
     "execution_count": 44,
     "metadata": {},
     "output_type": "execute_result"
    }
   ],
   "source": [
    "# We want to be able to use this model fit on other data (the test set)\n",
    "# So let's save a copy of this instance of HashingVectorizer to be able to transform other data with this fit\n",
    "# http://scikit-learn.org/stable/modules/model_persistence.html\n",
    "joblib.dump(hv, 'hv.pkl') # pickle"
   ]
  },
  {
   "cell_type": "code",
   "execution_count": 46,
   "metadata": {},
   "outputs": [
    {
     "data": {
      "text/plain": [
       "['transformer.pkl']"
      ]
     },
     "execution_count": 46,
     "metadata": {},
     "output_type": "execute_result"
    }
   ],
   "source": [
    "# http://scikit-learn.org/stable/modules/generated/sklearn.feature_extraction.text.TfidfTransformer.html\n",
    "from sklearn.feature_extraction.text import TfidfTransformer\n",
    "transformer = TfidfTransformer()\n",
    "X_tfidf = transformer.fit_transform(X_hv)\n",
    "\n",
    "joblib.dump(transformer, 'transformer.pkl') # pickle"
   ]
  },
  {
   "cell_type": "code",
   "execution_count": 47,
   "metadata": {},
   "outputs": [
    {
     "name": "stdout",
     "output_type": "stream",
     "text": [
      "<class 'scipy.sparse.csr.csr_matrix'>\n"
     ]
    }
   ],
   "source": [
    "print(type(X_tfidf))"
   ]
  },
  {
   "cell_type": "markdown",
   "metadata": {
    "collapsed": true
   },
   "source": [
    "### Create additional quantitative features"
   ]
  },
  {
   "cell_type": "code",
   "execution_count": 48,
   "metadata": {},
   "outputs": [
    {
     "name": "stdout",
     "output_type": "stream",
     "text": [
      "    Score  reviewLen        Time  sumLen  upper  lower  special\n",
      "0       5         63  1346630400       3      5     50        1\n",
      "1       5        132  1333324800       3     10    107        4\n",
      "2       1         42  1326240000       2      0     40        0\n",
      "3       4         30  1301184000       2      0     27        1\n",
      "4       5         76  1323907200       5      3     64        3\n",
      "5       5         67  1201478400       3      1     59        1\n",
      "6       5         34  1241740800       1      0     31        0\n",
      "7       5         27  1349740800       1      0     23        0\n",
      "8       5         23  1270080000       2      1     12        0\n",
      "9       1        189  1299888000       4      7    150        2\n",
      "10      5         71  1342569600       4      2     58        4\n",
      "11      5        107  1348444800       2      4     93        0\n",
      "12      5         63  1347408000       2      1     55        0\n",
      "13      5        118  1292025600       2      9     93        1\n",
      "14      3         35  1350864000       1      2     27        0\n",
      "15      5        101  1306281600       5     10     84        1\n",
      "16      5         16  1252540800       3      0      7        0\n",
      "17      1         98  1327622400       3      3     75        3\n",
      "18      3        220  1335312000       6      6    180        0\n",
      "19      5         54  1294099200       1      1     45        0\n",
      "20      4         60  1192060800       3      3     52        3\n",
      "21      5         39  1318377600       4      1     32        0\n",
      "22      4        137  1013385600       7      0    122        0\n",
      "23      1        157  1319414400       5      5    135        0\n",
      "24      3         65  1249257600       9      1     56        2\n"
     ]
    }
   ],
   "source": [
    "# features from Amazon.csv to add to feature set\n",
    "# review word length\n",
    "amazon['reviewLen'] = amazon['Text'].apply(lambda x: len(str(x).split(\" \")))\n",
    "\n",
    "# summary word length\n",
    "amazon['sumLen'] = amazon['Summary'].apply(lambda x: len(str(x).split(\" \")))\n",
    "\n",
    "# upper case words in Text review\n",
    "amazon['upper'] = amazon['Text'].apply(lambda x: len([x for x in x.split() if x.isupper()]))\n",
    "\n",
    "# lower case words in Text review\n",
    "amazon['lower'] = amazon['Text'].apply(lambda x: len([x for x in x.split() if x.islower()]))\n",
    "\n",
    "#count freq of specific words\n",
    "amazon['special'] = amazon['Text'].str.count(\"love\") + amazon['Text'].str.count(\"price\") + amazon['Text'].str.count(\"easy\") + amazon['Text'].str.count(\"loves\")  + amazon['Text'].str.count(\"recommend\") + amazon['Text'].str.count(\"happy\") + amazon['Text'].str.count(\"disappointed\")\n",
    "\n",
    "X_quant_features = amazon[[\"Score\", \"reviewLen\", \"Time\", \"sumLen\", \"upper\", \"lower\", \"special\"]]\n",
    "print(X_quant_features.head(25))\n",
    "# print(type(X_quant_features))"
   ]
  },
  {
   "cell_type": "markdown",
   "metadata": {},
   "source": [
    "### Combine all quantitative features into a single sparse matrix"
   ]
  },
  {
   "cell_type": "code",
   "execution_count": 49,
   "metadata": {},
   "outputs": [
    {
     "name": "stdout",
     "output_type": "stream",
     "text": [
      "(364000, 262151)\n"
     ]
    }
   ],
   "source": [
    "from scipy.sparse import csr_matrix, hstack\n",
    "X_quant_features_csr = csr_matrix(X_quant_features)\n",
    "X_combined = hstack([X_tfidf, X_quant_features_csr])\n",
    "X_matrix = csr_matrix(X_combined) # convert to sparse matrix\n",
    "print(X_matrix.shape)"
   ]
  },
  {
   "cell_type": "code",
   "execution_count": 50,
   "metadata": {},
   "outputs": [
    {
     "name": "stdout",
     "output_type": "stream",
     "text": [
      "  (0, 4949)\t0.08979998572891927\n",
      "  (0, 8151)\t0.09034738565606694\n",
      "  (0, 13597)\t0.07684490747377616\n",
      "  (0, 14630)\t0.08945882918906117\n",
      "  (0, 15381)\t0.14139821552496948\n",
      "  (0, 24734)\t0.05296543362145167\n",
      "  (0, 31925)\t0.0848794028461849\n",
      "  (0, 37777)\t0.2410295733719064\n",
      "  (0, 39731)\t0.10723403451952229\n",
      "  (0, 45875)\t0.07767687448284204\n",
      "  (0, 52122)\t0.11495994916140727\n",
      "  (0, 56995)\t0.12968777734129355\n",
      "  (0, 65897)\t0.15046881047427293\n",
      "  (0, 67646)\t0.06349604423584454\n",
      "  (0, 69740)\t0.058979640961055874\n",
      "  (0, 73046)\t0.2311351771533378\n",
      "  (0, 88541)\t0.04881575887085065\n",
      "  (0, 92652)\t0.08269889185811918\n",
      "  (0, 97469)\t0.06530637596205785\n",
      "  (0, 99446)\t0.07152939352043043\n",
      "  (0, 102266)\t0.09979160594592926\n",
      "  (0, 102742)\t0.23577701335029266\n",
      "  (0, 107090)\t0.24663067665063465\n",
      "  (0, 109207)\t0.15942922817276564\n",
      "  (0, 109683)\t0.0657413609894676\n",
      "  :\t:\n",
      "  (0, 162100)\t0.11067780093379784\n",
      "  (0, 170062)\t0.03260826739708212\n",
      "  (0, 172714)\t0.15401721381523312\n",
      "  (0, 174171)\t0.18518593396970615\n",
      "  (0, 175164)\t0.09117778268769104\n",
      "  (0, 179129)\t0.08848208070810089\n",
      "  (0, 180525)\t0.1643988808110626\n",
      "  (0, 197563)\t0.14491994539538666\n",
      "  (0, 208001)\t0.04336357230522469\n",
      "  (0, 217388)\t0.0340782833232513\n",
      "  (0, 219007)\t0.06201567188930143\n",
      "  (0, 220248)\t0.06392229507494189\n",
      "  (0, 228103)\t0.095636123545886\n",
      "  (0, 232512)\t0.0594501209807343\n",
      "  (0, 233614)\t0.2322287183741506\n",
      "  (0, 243515)\t0.08322838012681225\n",
      "  (0, 245227)\t0.12053401031099079\n",
      "  (0, 245912)\t0.18214522499730434\n",
      "  (0, 247943)\t0.0618583768821305\n",
      "  (0, 262144)\t5.0\n",
      "  (0, 262145)\t97.0\n",
      "  (0, 262146)\t1322697600.0\n",
      "  (0, 262147)\t4.0\n",
      "  (0, 262148)\t8.0\n",
      "  (0, 262149)\t79.0\n"
     ]
    }
   ],
   "source": [
    "# look at an example of a \"row\" of a sparse matrix\n",
    "print(X_matrix[1234])"
   ]
  },
  {
   "cell_type": "markdown",
   "metadata": {},
   "source": [
    "### Create `X`, scaled matrix of features"
   ]
  },
  {
   "cell_type": "code",
   "execution_count": 51,
   "metadata": {},
   "outputs": [
    {
     "name": "stdout",
     "output_type": "stream",
     "text": [
      "(364000, 262151)\n"
     ]
    },
    {
     "data": {
      "text/plain": [
       "['sc.pkl']"
      ]
     },
     "execution_count": 51,
     "metadata": {},
     "output_type": "execute_result"
    }
   ],
   "source": [
    "# feature scaling\n",
    "from sklearn.preprocessing import StandardScaler\n",
    "sc = StandardScaler(with_mean=False)\n",
    "X = sc.fit_transform(X_matrix)\n",
    "print(X.shape)\n",
    "\n",
    "joblib.dump(sc, 'sc.pkl') # pickle"
   ]
  },
  {
   "cell_type": "markdown",
   "metadata": {},
   "source": [
    "### create `y`, vector of Labels"
   ]
  },
  {
   "cell_type": "code",
   "execution_count": 52,
   "metadata": {},
   "outputs": [
    {
     "name": "stdout",
     "output_type": "stream",
     "text": [
      "<class 'numpy.ndarray'>\n"
     ]
    }
   ],
   "source": [
    "y = amazon['helpful'].values\n",
    "print(type(y))"
   ]
  },
  {
   "cell_type": "markdown",
   "metadata": {},
   "source": [
    "# fit models"
   ]
  },
  {
   "cell_type": "code",
   "execution_count": 53,
   "metadata": {},
   "outputs": [],
   "source": [
    "from my_measures import BinaryClassificationPerformance"
   ]
  },
  {
   "cell_type": "markdown",
   "metadata": {},
   "source": [
    "### MODEL: ordinary least squares"
   ]
  },
  {
   "cell_type": "code",
   "execution_count": 54,
   "metadata": {},
   "outputs": [
    {
     "name": "stderr",
     "output_type": "stream",
     "text": [
      "/Users/andrewlevinson/anaconda3/lib/python3.7/site-packages/sklearn/linear_model/stochastic_gradient.py:166: FutureWarning: max_iter and tol parameters have been added in SGDClassifier in 0.19. If both are left unset, they default to max_iter=5 and tol=None. If tol is not None, max_iter defaults to max_iter=1000. From 0.21, default max_iter will be 1000, and default tol will be 1e-3.\n",
      "  FutureWarning)\n"
     ]
    },
    {
     "name": "stdout",
     "output_type": "stream",
     "text": [
      "{'Pos': 26527, 'Neg': 337473, 'TP': 12527, 'TN': 186369, 'FP': 151104, 'FN': 14000, 'Accuracy': 0.5464175824175824, 'Precision': 0.07655639823749778, 'Recall': 0.4722358351867908, 'desc': 'ols'}\n"
     ]
    }
   ],
   "source": [
    "from sklearn import linear_model\n",
    "ols = linear_model.SGDClassifier(loss=\"squared_loss\")\n",
    "ols.fit(X, y)\n",
    "joblib.dump(ols, 'ols.pkl') # pickle\n",
    "\n",
    "ols_performance = BinaryClassificationPerformance(ols.predict(X), y, 'ols')\n",
    "ols_performance.compute_measures()\n",
    "print(ols_performance.performance_measures)"
   ]
  },
  {
   "cell_type": "markdown",
   "metadata": {},
   "source": [
    "### MODEL: SVM, linear"
   ]
  },
  {
   "cell_type": "code",
   "execution_count": 55,
   "metadata": {},
   "outputs": [
    {
     "name": "stdout",
     "output_type": "stream",
     "text": [
      "{'Pos': 26527, 'Neg': 337473, 'TP': 14099, 'TN': 326749, 'FP': 10724, 'FN': 12428, 'Accuracy': 0.9363956043956044, 'Precision': 0.5679813076582202, 'Recall': 0.5314962114072455, 'desc': 'svm'}\n"
     ]
    }
   ],
   "source": [
    "from sklearn import linear_model\n",
    "svm = linear_model.SGDClassifier()\n",
    "svm.fit(X, y)\n",
    "joblib.dump(svm, 'svm.pkl') # pickle\n",
    "\n",
    "svm_performance = BinaryClassificationPerformance(svm.predict(X), y, 'svm')\n",
    "svm_performance.compute_measures()\n",
    "print(svm_performance.performance_measures)"
   ]
  },
  {
   "cell_type": "markdown",
   "metadata": {},
   "source": [
    "### MODEL: logistic regression"
   ]
  },
  {
   "cell_type": "code",
   "execution_count": 56,
   "metadata": {},
   "outputs": [
    {
     "name": "stderr",
     "output_type": "stream",
     "text": [
      "/Users/andrewlevinson/anaconda3/lib/python3.7/site-packages/sklearn/linear_model/stochastic_gradient.py:152: DeprecationWarning: n_iter parameter is deprecated in 0.19 and will be removed in 0.21. Use max_iter and tol instead.\n",
      "  DeprecationWarning)\n"
     ]
    },
    {
     "name": "stdout",
     "output_type": "stream",
     "text": [
      "{'Pos': 26527, 'Neg': 337473, 'TP': 11857, 'TN': 333853, 'FP': 3620, 'FN': 14670, 'Accuracy': 0.9497527472527473, 'Precision': 0.7661045422239452, 'Recall': 0.4469785501564444, 'desc': 'lgs'}\n"
     ]
    }
   ],
   "source": [
    "from sklearn import linear_model\n",
    "lgs = linear_model.SGDClassifier(loss='log', n_iter=50, alpha=0.00001)\n",
    "lgs.fit(X, y)\n",
    "joblib.dump(lgs, 'lgs.pkl') # pickle\n",
    "\n",
    "lgs_performance = BinaryClassificationPerformance(lgs.predict(X), y, 'lgs')\n",
    "lgs_performance.compute_measures()\n",
    "print(lgs_performance.performance_measures)"
   ]
  },
  {
   "cell_type": "markdown",
   "metadata": {},
   "source": [
    "### MODEL: Naive Bayes"
   ]
  },
  {
   "cell_type": "code",
   "execution_count": 57,
   "metadata": {},
   "outputs": [
    {
     "name": "stdout",
     "output_type": "stream",
     "text": [
      "{'Pos': 26527, 'Neg': 337473, 'TP': 16892, 'TN': 302343, 'FP': 35130, 'FN': 9635, 'Accuracy': 0.8770192307692307, 'Precision': 0.324708777055861, 'Recall': 0.6367851622874807, 'desc': 'nbs'}\n"
     ]
    }
   ],
   "source": [
    "from sklearn.naive_bayes import MultinomialNB\n",
    "nbs = MultinomialNB()\n",
    "nbs.fit(X, y)\n",
    "joblib.dump(nbs, 'nbs.pkl') # pickle\n",
    "\n",
    "nbs_performance = BinaryClassificationPerformance(nbs.predict(X), y, 'nbs')\n",
    "nbs_performance.compute_measures()\n",
    "print(nbs_performance.performance_measures)"
   ]
  },
  {
   "cell_type": "markdown",
   "metadata": {},
   "source": [
    "### MODEL: Perceptron"
   ]
  },
  {
   "cell_type": "code",
   "execution_count": 58,
   "metadata": {},
   "outputs": [
    {
     "name": "stderr",
     "output_type": "stream",
     "text": [
      "/Users/andrewlevinson/anaconda3/lib/python3.7/site-packages/sklearn/linear_model/stochastic_gradient.py:166: FutureWarning: max_iter and tol parameters have been added in SGDClassifier in 0.19. If both are left unset, they default to max_iter=5 and tol=None. If tol is not None, max_iter defaults to max_iter=1000. From 0.21, default max_iter will be 1000, and default tol will be 1e-3.\n",
      "  FutureWarning)\n"
     ]
    },
    {
     "name": "stdout",
     "output_type": "stream",
     "text": [
      "{'Pos': 26527, 'Neg': 337473, 'TP': 15480, 'TN': 321394, 'FP': 16079, 'FN': 11047, 'Accuracy': 0.925478021978022, 'Precision': 0.49050983871478815, 'Recall': 0.5835563765220342, 'desc': 'prc'}\n"
     ]
    }
   ],
   "source": [
    "from sklearn import linear_model\n",
    "prc = linear_model.SGDClassifier(loss='perceptron')\n",
    "prc.fit(X, y)\n",
    "joblib.dump(prc, 'prc.pkl') # pickle\n",
    "\n",
    "prc_performance = BinaryClassificationPerformance(prc.predict(X), y, 'prc')\n",
    "prc_performance.compute_measures()\n",
    "print(prc_performance.performance_measures)"
   ]
  },
  {
   "cell_type": "markdown",
   "metadata": {},
   "source": [
    "### MODEL: Ridge Regression Classifier"
   ]
  },
  {
   "cell_type": "code",
   "execution_count": 62,
   "metadata": {},
   "outputs": [
    {
     "name": "stdout",
     "output_type": "stream",
     "text": [
      "{'Pos': 26527, 'Neg': 337473, 'TP': 1372, 'TN': 337471, 'FP': 2, 'FN': 25155, 'Accuracy': 0.9308873626373626, 'Precision': 0.9985443959243085, 'Recall': 0.0517208881516945, 'desc': 'rdg'}\n"
     ]
    }
   ],
   "source": [
    "from sklearn import linear_model\n",
    "rdg = linear_model.RidgeClassifier(alpha=10)\n",
    "rdg.fit(X, y)\n",
    "joblib.dump(rdg, 'rdg.pkl') # pickle\n",
    "\n",
    "rdg_performance = BinaryClassificationPerformance(rdg.predict(X), y, 'rdg')\n",
    "rdg_performance.compute_measures()\n",
    "print(rdg_performance.performance_measures)"
   ]
  },
  {
   "cell_type": "code",
   "execution_count": 63,
   "metadata": {},
   "outputs": [
    {
     "data": {
      "text/plain": [
       "{'alpha': 0.8,\n",
       " 'class_weight': None,\n",
       " 'copy_X': True,\n",
       " 'fit_intercept': True,\n",
       " 'max_iter': None,\n",
       " 'normalize': True,\n",
       " 'random_state': None,\n",
       " 'solver': 'auto',\n",
       " 'tol': 0.001}"
      ]
     },
     "execution_count": 63,
     "metadata": {},
     "output_type": "execute_result"
    }
   ],
   "source": [
    "rdg.get_params()"
   ]
  },
  {
   "cell_type": "markdown",
   "metadata": {},
   "source": [
    "### What is the distribution of weights, OLS vs. ridge? "
   ]
  },
  {
   "cell_type": "code",
   "execution_count": 64,
   "metadata": {},
   "outputs": [
    {
     "data": {
      "image/png": "[encoded data removed]",
      "text/plain": [
       "<Figure size 432x288 with 1 Axes>"
      ]
     },
     "metadata": {
      "needs_background": "light"
     },
     "output_type": "display_data"
    },
    {
     "data": {
      "image/png": "[encoded data removed]",
      "text/plain": [
       "<Figure size 432x288 with 1 Axes>"
      ]
     },
     "metadata": {
      "needs_background": "light"
     },
     "output_type": "display_data"
    }
   ],
   "source": [
    "plt.hist(ols.coef_[0])\n",
    "plt.show()\n",
    "\n",
    "plt.hist(rdg.coef_[0])\n",
    "plt.show()"
   ]
  },
  {
   "cell_type": "markdown",
   "metadata": {},
   "source": [
    "### MODEL: Decision Tree Classifier"
   ]
  },
  {
   "cell_type": "code",
   "execution_count": 71,
   "metadata": {},
   "outputs": [
    {
     "name": "stdout",
     "output_type": "stream",
     "text": [
      "{'Pos': 26527, 'Neg': 337473, 'TP': 26368, 'TN': 337467, 'FP': 6, 'FN': 159, 'Accuracy': 0.9995467032967033, 'Precision': 0.999772503222871, 'Recall': 0.9940061069853356, 'desc': 'dtc'}\n"
     ]
    }
   ],
   "source": [
    "from sklearn import tree\n",
    "dtc = tree.DecisionTreeClassifier(max_depth=None)\n",
    "dtc.fit(X_matrix, y)\n",
    "joblib.dump(dtc, 'dtc.pkl') # pickle\n",
    "\n",
    "dtc_performance = BinaryClassificationPerformance(dtc.predict(X_matrix), y, 'dtc')\n",
    "dtc_performance.compute_measures()\n",
    "print(dtc_performance.performance_measures)"
   ]
  },
  {
   "cell_type": "markdown",
   "metadata": {},
   "source": [
    "### ROC plot to compare performance of various models and fits"
   ]
  },
  {
   "cell_type": "code",
   "execution_count": 72,
   "metadata": {},
   "outputs": [
    {
     "data": {
      "image/png": "[encoded data removed]",
      "text/plain": [
       "<Figure size 432x288 with 1 Axes>"
      ]
     },
     "metadata": {
      "needs_background": "light"
     },
     "output_type": "display_data"
    }
   ],
   "source": [
    "fits = [svm_performance, lgs_performance, rdg_performance, prc_performance, ols_performance, dtc_performance, nbs_performance]\n",
    "# fits = [svm_performance, lgs_performance, rdg_performance, prc_performance, ols_performance, nbs_performance]\n",
    "# fits = [rdg_performance, ols_performance, dtc_performance, nbs_performance]\n",
    "# fits = [rdg_performance, dtc_performance]\n",
    "# fits = [rdg_performance]\n",
    "\n",
    "\n",
    "\n",
    "\n",
    "\n",
    "for fit in fits:\n",
    "    plt.plot(fit.performance_measures['FP'] / fit.performance_measures['Neg'], \n",
    "             fit.performance_measures['TP'] / fit.performance_measures['Pos'], 'ro')\n",
    "    plt.text(fit.performance_measures['FP'] / fit.performance_measures['Neg'], \n",
    "             fit.performance_measures['TP'] / fit.performance_measures['Pos'], fit.desc)\n",
    "plt.axis([0, 1, 0, 1])\n",
    "plt.title('ROC plot: training set')\n",
    "plt.xlabel('False positive rate')\n",
    "plt.ylabel('True positive rate')\n",
    "plt.show()"
   ]
  },
  {
   "cell_type": "markdown",
   "metadata": {},
   "source": [
    "## a digression: looking inside the `rdg` object\n",
    "\n",
    "[documentation](https://scikit-learn.org/stable/modules/generated/sklearn.linear_model.RidgeClassifier.html)"
   ]
  },
  {
   "cell_type": "code",
   "execution_count": 26,
   "metadata": {},
   "outputs": [
    {
     "data": {
      "text/plain": [
       "['__abstractmethods__',\n",
       " '__class__',\n",
       " '__delattr__',\n",
       " '__dict__',\n",
       " '__dir__',\n",
       " '__doc__',\n",
       " '__eq__',\n",
       " '__format__',\n",
       " '__ge__',\n",
       " '__getattribute__',\n",
       " '__getstate__',\n",
       " '__gt__',\n",
       " '__hash__',\n",
       " '__init__',\n",
       " '__init_subclass__',\n",
       " '__le__',\n",
       " '__lt__',\n",
       " '__module__',\n",
       " '__ne__',\n",
       " '__new__',\n",
       " '__reduce__',\n",
       " '__reduce_ex__',\n",
       " '__repr__',\n",
       " '__setattr__',\n",
       " '__setstate__',\n",
       " '__sizeof__',\n",
       " '__str__',\n",
       " '__subclasshook__',\n",
       " '__weakref__',\n",
       " '_abc_impl',\n",
       " '_decision_function',\n",
       " '_estimator_type',\n",
       " '_get_param_names',\n",
       " '_label_binarizer',\n",
       " '_predict_proba_lr',\n",
       " '_preprocess_data',\n",
       " '_set_intercept',\n",
       " 'alpha',\n",
       " 'class_weight',\n",
       " 'classes_',\n",
       " 'coef_',\n",
       " 'copy_X',\n",
       " 'decision_function',\n",
       " 'fit',\n",
       " 'fit_intercept',\n",
       " 'get_params',\n",
       " 'intercept_',\n",
       " 'max_iter',\n",
       " 'n_iter_',\n",
       " 'normalize',\n",
       " 'predict',\n",
       " 'random_state',\n",
       " 'score',\n",
       " 'set_params',\n",
       " 'solver',\n",
       " 'tol']"
      ]
     },
     "execution_count": 26,
     "metadata": {},
     "output_type": "execute_result"
    }
   ],
   "source": [
    "dir(rdg)"
   ]
  },
  {
   "cell_type": "code",
   "execution_count": 27,
   "metadata": {},
   "outputs": [
    {
     "data": {
      "text/plain": [
       "{'alpha': 0.2,\n",
       " 'class_weight': None,\n",
       " 'copy_X': True,\n",
       " 'fit_intercept': True,\n",
       " 'max_iter': None,\n",
       " 'normalize': False,\n",
       " 'random_state': None,\n",
       " 'solver': 'auto',\n",
       " 'tol': 0.001}"
      ]
     },
     "execution_count": 27,
     "metadata": {},
     "output_type": "execute_result"
    }
   ],
   "source": [
    "rdg.get_params()"
   ]
  },
  {
   "cell_type": "code",
   "execution_count": 28,
   "metadata": {},
   "outputs": [
    {
     "data": {
      "text/plain": [
       "numpy.ndarray"
      ]
     },
     "execution_count": 28,
     "metadata": {},
     "output_type": "execute_result"
    }
   ],
   "source": [
    "type(rdg.coef_)"
   ]
  },
  {
   "cell_type": "code",
   "execution_count": 29,
   "metadata": {},
   "outputs": [
    {
     "data": {
      "text/plain": [
       "(1, 131077)"
      ]
     },
     "execution_count": 29,
     "metadata": {},
     "output_type": "execute_result"
    }
   ],
   "source": [
    "rdg.coef_.shape"
   ]
  },
  {
   "cell_type": "code",
   "execution_count": 30,
   "metadata": {},
   "outputs": [
    {
     "name": "stdout",
     "output_type": "stream",
     "text": [
      "[ 0.00013858  0.          0.         ... -0.01577203  0.00459009\n",
      " -0.00434008]\n"
     ]
    }
   ],
   "source": [
    "print(rdg.coef_[0])"
   ]
  },
  {
   "cell_type": "code",
   "execution_count": 31,
   "metadata": {},
   "outputs": [
    {
     "data": {
      "image/png": "[encoded data removed]",
      "text/plain": [
       "<Figure size 432x288 with 1 Axes>"
      ]
     },
     "metadata": {
      "needs_background": "light"
     },
     "output_type": "display_data"
    }
   ],
   "source": [
    "plt.hist(rdg.coef_[0])\n",
    "plt.show()"
   ]
  },
  {
   "cell_type": "markdown",
   "metadata": {},
   "source": [
    "# looking at reviews based on their classification\n",
    "\n",
    "Let's say we decide that Ridge Regression is the best model for generalization. Let's take a look at some of the reviews and try to make a (subjective) determination of whether it's generalizing well. "
   ]
  },
  {
   "cell_type": "code",
   "execution_count": 32,
   "metadata": {},
   "outputs": [
    {
     "data": {
      "text/plain": [
       "'I had been waiting and hoping for Starbucks Mocha Powder to be available again after disappearing from the shelves at the Starbucks coffee shops. It tastes just like I remember and it came promptly after I ordered it -- I ordered 2 cans to make sure I have it on hand for awhile. Thank you for carrying this well loved and missed product.'"
      ]
     },
     "execution_count": 32,
     "metadata": {},
     "output_type": "execute_result"
    }
   ],
   "source": [
    "amazon.loc[0, \"Text\"]"
   ]
  },
  {
   "cell_type": "code",
   "execution_count": 33,
   "metadata": {},
   "outputs": [
    {
     "data": {
      "text/plain": [
       "False"
      ]
     },
     "execution_count": 33,
     "metadata": {},
     "output_type": "execute_result"
    }
   ],
   "source": [
    "amazon.loc[0, \"helpful\"]"
   ]
  },
  {
   "cell_type": "code",
   "execution_count": 34,
   "metadata": {},
   "outputs": [],
   "source": [
    "ridge_predictions = rdg.predict(X)"
   ]
  },
  {
   "cell_type": "code",
   "execution_count": 35,
   "metadata": {},
   "outputs": [
    {
     "data": {
      "text/plain": [
       "(364000,)"
      ]
     },
     "execution_count": 35,
     "metadata": {},
     "output_type": "execute_result"
    }
   ],
   "source": [
    "ridge_predictions.shape"
   ]
  },
  {
   "cell_type": "code",
   "execution_count": 36,
   "metadata": {},
   "outputs": [
    {
     "name": "stdout",
     "output_type": "stream",
     "text": [
      "[False False False ... False False False]\n"
     ]
    }
   ],
   "source": [
    "print(ridge_predictions)"
   ]
  },
  {
   "cell_type": "code",
   "execution_count": 37,
   "metadata": {},
   "outputs": [
    {
     "name": "stdout",
     "output_type": "stream",
     "text": [
      "11995\n",
      "2012-05-31 00:00:00\n",
      "4\n",
      "1\n",
      "B002GC3D8Q\n",
      "This stuff is strong, less than a teaspoon of paste per 10 oz dashi stock will do you fine. Makes perfect clouds in the broth, and has a good smooth mouthfeel.\n",
      "* * * * * * * * * \n",
      "14990\n",
      "2010-05-18 00:00:00\n",
      "5\n",
      "9\n",
      "B0032RPLSY\n",
      "Ghee is more than an indulgence. Ghee can be viewed as an essential vitamin supplement (albeit, one that tastes really good). Ghee is especially necessary in a vegetarian diet in my opinion, but it can be a healthy addition to any diet.<br /><br />Some research shows that ghee can even lower cholesterol.<br /><br />I performed an extensive survey of the top ghee products available. I compared quality and value. Ghee is so important as an addition to the diet that quality should not be sacrificed -- especially because only a very small amount of ghee needs to be used.<br /><br />The ghee comparison table can be found at this blog: [see link in comment]<br /><br />When I started this ghee comparison, I was primarily interested in finding the best value in organic ghee products. However, I learned that several of the products go well beyond just organic standards. It was a very pleasant surprise to find out that such high quality ghee products are available. It is also great to see that my two top picks are both available on Amazon.com. (Grass Fed Organic ghee is one of those top picks.)<br /><br />Because such high quality ghees are available, I focused on understanding which product is the most authentic. Some of the ghees are much more authentic than others. The information in the table (link above) reflects that fact.<br /><br />The focus of my evaluation was not gourmet cooking. It was optimum health. Therefore, I was concerned first with which ghee product is the healthiest.<br /><br />I rank Grass Fed Organic ghee as one of the very best products. Grass Fed Organic ghee is made in accord with the ancient traditions (such as phase of the moon, chanting, etc.). It is a great quality, great tasting product. And the good price makes it a great value. I highly recommend this ghee.\n",
      "* * * * * * * * * \n",
      "19037\n",
      "2007-03-24 00:00:00\n",
      "5\n",
      "0\n",
      "B00061NT4W\n",
      "I've eaten Underwood's Chicken Spread now for over 20 years! Whether you spread it on bread for a sandwich, or use it in a fine recipe, or use in canape recipes, this product is worth every penny you pay for it! I've boughten 'cheaper' chicken spreads and was thoroughly disappointed in their taste compared to Underwood! It was a little hard for me to find a place to buy it there for a while...but once I did, I'm back to buying it regularly! It's a very high quality product, made by a company you can trust, and I wholly recommend it to anyone looking for a very good chicken spread!\n",
      "* * * * * * * * * \n",
      "35600\n",
      "2010-09-11 00:00:00\n",
      "5\n",
      "1\n",
      "B003LD42BQ\n",
      "I was 14 the first time I tried Airwaves gum, and absolutely love it!  Almost can't live without it.  I have a dry mouth a lot, and chewing gum, especially really strong, low in sugar, gum is helpful.  It might be a \"learn to love\" kind of thing, but I honestly can't figure out why Wrigley's still doesn't distribute this gum in the U.S..  I saw a package of Cardamom/mint flavor (not Airwaves) in the store recently, so plain old Eucalyptus shouldn't be a stretch for most of us.  In any case - I'll keep on ordering large packages of it!\n",
      "* * * * * * * * * \n",
      "37574\n",
      "2012-09-01 00:00:00\n",
      "5\n",
      "0\n",
      "B00318E4CS\n",
      "These penguins are delicious! They have a very robust and hearty peach flavor; their texture is perfect. The penguins came in four four oz packages in my over of 16 oz. The little baggies help ensure that you don't gorge on a whole handful at one time.\n",
      "* * * * * * * * * \n",
      "53770\n",
      "2006-09-22 00:00:00\n",
      "5\n",
      "5\n",
      "B0002SQ1MG\n",
      "The two little darlings at my home have been eating this particular cat food since we got them from the local shelter at the ripe young age of 6 months.  We chose to switch them over to vegetarian cat food for two reasons: 1) both of us are ethical vegetarians, and 2) we could!<br /><br />We switched them using the same methods vets have recommended when undergoing any change in diet for felines--slowly mixing them together in differing proportions until all that they eat is the new kind of food.  In this way the cats do not undergo any kind of indigestion that might cause them to throw up (those with cats already will understand completely).<br /><br />But what was the surest sign that we were doing the right thing for our cats?  Even on the first day, and for everyday it was given to them after, they ignored the meat-based cat food, eating only the vegetable-based pieces from their bowl!  Everyday when I went to feed them in the morning, they would be waiting next to a bowl with meat-food detritus, staring impatiently for the vegetable goodness.<br /><br />As for their level of health, I have literally never known two cats to be sweeter or more active than these.  And I don't mean chaotic, but playful, pouncy, and sweet.  Is it all because of the food?  I can't say to 100% certainty.  But know this: when we got the kittens they were shy and scared, seemingly because both only have vision in their left eyes.  Now they are more daring than even the most normal of cats.<br /><br />All this and we don't have to participate in the inhumane practice of feeding waste animals to our companion friends!\n",
      "* * * * * * * * * \n",
      "55943\n",
      "2012-01-11 00:00:00\n",
      "5\n",
      "5\n",
      "B004UA53AI\n",
      "I, for the most part do my own pasta sauces.  Now and then when pressed for time and energy I will use a jarred sauce as a base, seasoned appropriate to the occasion.  This product is a much higher cut than the shelved sauces sold at supermarkets.  Italian shops being an exception in some cases.  The price is a bargain!  I have not used their other sauces and speak only for this.\n",
      "* * * * * * * * * \n",
      "63245\n",
      "2010-01-06 00:00:00\n",
      "1\n",
      "41\n",
      "B001QW022C\n",
      "The meat in THK dehydrated diets is not raw. It it would not be a human grade food if the meat were actually raw. The manufacturer told me that the meat in their food is \"dehydrated\" at a temperature that actually cooks the meat and that is how it is able to be labeled human grade. If this is the case, why use the word \"Raw\" over and over again in the advertising and ingredient list. It's not raw and it's not as good as raw.<br /><br />Secondly, and perhaps just as important, is that the consumer is paying for things their pet can't digest. The consumer pays for the very expensive dehydration process for VEGETABLES and other things that carnivores cannot digest and do not need. The only way to get the nutrients out of vegetables, fruits and seeds, and into a dog's system is to puree the vegetables and break down the cellulose or to COOK them. From I can tell, neither of these things are done to the vegetables. Ironically, the part of the THK diet that shouldn't be raw is, and the meat, which should be raw, isn't.<br /><br />The fact that a great deal of the honest kitchen diets are not digested is pretty obvious to people who feed it to their dogs. You can clearly see the celery, bananas, and other whole chunks of vegetable/fruit that come out in the stool. If you happen to take a look at the stool after a bit of rain has washed away the smooshy parts, you will see mounds of undigested vegetable matter that seem to equal 80% of the total volume. So not only are you feeding something that isn't being digested, but you are feeding lots of it. Why would you pay for something that is completely wasted?<br /><br />I know several dogs who are or were on THK who presented with hot spots, fleas, allergies, and other chronic conditions that didn't exist when they were on raw diets. I have seen it over, and over again.  After seeing what I've seen, I could never go back to feeding a dehydrated diet from this manufacturer. I do see some promise in the Ziwi Peak line and Stella and Chewy's, so you might want to try those out and stop paying for chunky veggies your dog can't digest.<br /><br />It is far less expensive to feed a raw diet of human grade meats and bone from your grocery store. You would probably pay 1/3 to 1/2 the cost of THK diets. You would even save money if you went with a pre-packaged frozen raw diet such as Primal or Nature's Variety. I know a lot of people feed THK because they are afraid to feed real raw meat, but I pray that will change. THK is making millions, and for that they should be commended. They shed blood, sweat, and tears to create a market for their food and I know that was hard work. But they are/were doing it dishonestly. On top of that, they have the gall to name themselves honest. Yikes.<br /><br />To THK,<br />If you care to tell us exactly what temperatures or radiation your meat is exposed to prior to packaging, and issue a statement that states your finished product contains non-irradiated, raw meat, I'll be happy to edit my review. Since meat begins to undergo chemical changes at 120°F and litterally cooks at 140°F, I hope you can supply proof that your product is processed at temperatures below these and is not irradiated.\n",
      "* * * * * * * * * \n",
      "79521\n",
      "2012-03-23 00:00:00\n",
      "4\n",
      "0\n",
      "B000NMI6LU\n",
      "The 240ct tub of Cry Babies arrived quickly, in good condition, and fresh. They even taste good...for about 10 seconds. The flavor leaves much to be desired in both intensity and longevity. It's kinda sour, just enough sour to taste good, for literally 5-10 seconds and that's it. meh\n",
      "* * * * * * * * * \n",
      "81106\n",
      "2012-05-19 00:00:00\n",
      "5\n",
      "0\n",
      "B0017OCPBA\n",
      "My local supermarket used to carry this and i tried it and loved it.  Then, they dropped it, leaving me to look for a substitute. Emeril's mustard was pretty good too, but Lars is better.  It just tastes great, not too spicy, not boring, it's delicious.  it has a fine texture, not coarse.  Highly recommended!\n",
      "* * * * * * * * * \n",
      "82831\n",
      "2011-03-25 00:00:00\n",
      "5\n",
      "0\n",
      "B008J1HO4C\n",
      "I bought this as a special lightning deal price.  McCann's makes steel cut oats that are among the best...and I have tried many different ones over the years. Steel cut oats take longer to cook than traditional oatmeal, but the result<br />is vastly superior...a chewy nutty hot cereal that tastes great with sugar or (better yet) maple syrup. You can<br />prepare it ahead of time and reheat it for a faster breakfast. It \"stays\" with you, and you will be much less<br />likely to get the mid morning \"hungries\" that tempt you to go after that hi-cal donut or muffin between 9:00-10:00am!!!\n",
      "* * * * * * * * * \n",
      "86287\n",
      "2008-09-30 00:00:00\n",
      "5\n",
      "0\n",
      "B000HZIII4\n",
      "This is the best bread crumb out there.  It produces a very light crunchy crust on fried foods without absorbing a lot of oil.\n",
      "* * * * * * * * * \n",
      "88510\n",
      "2010-11-15 00:00:00\n",
      "4\n",
      "0\n",
      "B000E63LP6\n",
      "The honey flavoring they put in this tea does not cut it.  But if you add a small amount of real honey, it tastes fantastic.  Totally eliminates the normal green tea bitterness.  Recommended.<br /><br />They should rename this flavor:  \"Green Tea Lemon Ginseng -- Please ADD REAL HONEY.\"\n",
      "* * * * * * * * * \n",
      "92036\n",
      "2011-07-18 00:00:00\n",
      "4\n",
      "0\n",
      "B001BBXP7M\n",
      "I have used FRS products for about 3 months.  I have found that I seem to have an increased energy level during and after work outs during which I consume an FRS product.  Placebo effect?  Possibly, but I do notice a difference when compared to using Gatorade/Powerade/Power Bar drinks.  This lo-cal orange powder is the best tasting of all the products I have tried.  To me, it tastes exactly like \"Tang\".  It is also the most convenient form to use.  The screw cap bottles and cans must be put into a bottle before use during exercising.  As for the issues about clumping, I put the product into a full water bottle, shake, and have not had any issues at all.<br /><br />Also, I just learned the FRS products are sold by amazon.com.  I must say that I first tried the product via the \"sample pack\" offered via the manufacturers website and have placed a number of orders since.  At no point have I had any issues with scams or being billed for unwanted product.  However, the prices on amazon are much, much cheaper so I will be buying here from now on.<br /><br />Lastly, even if you dispute the effectiveness of quercetin, the drink is still better than Gatorade and related sugar drinks as FRS products are made from natural ingredients and contain 100+% of a number of important vitamins.\n",
      "* * * * * * * * * \n",
      "94978\n",
      "2008-08-14 00:00:00\n",
      "1\n",
      "64\n",
      "B001EO5T52\n",
      "I ordered some xylitol and erythritol products from this company and found some of them had a very, very strange, foul smell. Kinda like mothballs. They get some of their products made in China (the erythritol, apparently), so I called the company with my concerns, worried about possible contamination. I waited politely while the receptionist asked the CEO if I could have a refund just for the strange smelling items (even though it is listed on the web site as refundable). She came back and said, yeah, they'd take it back this once, but they would never accept another order from me again. Next she started to chastise me for ordering more than one of the same thing since I'd never ordered from them before. (Note: I only wanted a refund for the unopened bags of the item in question. I did not ask to return anything else in the order.)<br /><br />I explained that I had ordered it before from another company, but she interrupted me to say that I should test one item from each new company before assuming the items are the same. Well, in chemistry class we've learned that pure chemical substances should be the same, and it says as much on their own web site. While I was pointing this out, she hung up on me.<br /><br />I had ordered a wide variety of this companies products - xylitol, erythritol, candies, gums, etc. Some were ok, but the ones that had the bad smell had me worried. I was very surprised when they did not want to stand behind their product guarantee and told me not to order again when I was only returning the items that seemed to be defective. I have learned that some products are made in the US, but when I called I only inquired about the erythritol, which they themselves confirmed was made in China.<br /><br />NOW foods offers the same items that I have ordered and they smell and taste just as sweet as sugar. They are also available here on Amazon.com.<br />Try them instead -- I am sticking with them from now on.<br /><br />---------------------------------<br />-I ordered a wide variety of things, including this item: erythritol, xylitol, gum, candy, etc. It included this item and a lot of other things.<br />-I asked only for money back on items I tried that were suspect as being defective, and then only for the items I had not opened.<br />-I asked the manufacturer if the items were safe to consume, given the very odd odor some of them emitted.  This was as a result of a legitimate concern.<br />-I did not know at the time that only some products came from China -- the customer service rep did not make that distinction when I asked. I was therefore worried about all of them.<br />-My review concerns primarily the customer service problems I had, as well as the concern with the origin of their products I had ordered in general.<br /><br />Personally I think it is odd that when I called to return a small part of a rather large order that the customer service rep did not want to honor the guaranteed refund posted on the web site. She literally chastised me for asking to return the items since I had ordered several of the same thing. How was I to know the substance would smell so badly? She said I should have just ordered one. What difference does it make since I had only opened one? The others were perfectly sealed. She said she would take them back after much ado, and then said they would never accept another order from me. (Like I would anyway after that).<br /><br />This company should not post a guaranteed refund when they don't mean it.\n",
      "* * * * * * * * * \n",
      "98294\n",
      "2010-02-03 00:00:00\n",
      "5\n",
      "2\n",
      "B0002X8HB4\n",
      "I have 3 70 pound retriever mixes and they always have to have something in their mouths. Unfortunately, it is usually one of their fellow pack-mates that they wind up chewing on and the 3 of them get to scrapping like a scrum in a rugby game. Not very restful.<br /><br />However, with 3 of the large Everlasting Treat balls stuffed with these treats, I'm good for a couple of relatively peaceful evenings. Depending on the dog and the ball, the treats usually stay in there and will one two-pack will last a couple of nights. Occasionally, the treat will \"pop out\" of the ball and the lucky dog will be able to chew it up in about the same amount of time as a raw-hide chip.<br /><br />I like that these aren't raw-hide since raw-hide will sometimes cause digestive issues in my dogs (and there is nothing worse when 3 big dogs have digestive issues!).<br /><br />I'm so glad to see Amazon sell these because my local Petsmart no longer carries them -- at least not in the size that I need. Plus, Amazon saves me a trip, shipping, and tax... happiness abounds for bi-peds and quadra-peds alike!\n",
      "* * * * * * * * * \n",
      "139622\n",
      "2012-07-25 00:00:00\n",
      "4\n",
      "0\n",
      "B007RTR8UM\n",
      "I felt this conditioner was really great and didn't weigh my hair down. Some of the ingredients are questionable, but that is not as important with things (like conditioners, as opposed to skin cream) that stay on the scalp and hair a short time. The price is also right for this product.<br /><br />Susan Schenck, author of The Live Food Factor: The Comprehensive Guide to the Ultimate Diet for Body, Mind, Spirit & Planet<br />and<br />Beyond Broccoli, Creating a Biologically Balanced Diet When a Vegetarian Diet Doesn't Work\n",
      "* * * * * * * * * \n",
      "141445\n",
      "2011-09-29 00:00:00\n",
      "2\n",
      "3\n",
      "B001E5DRJG\n",
      "I keep several orthodox whole leaf teas around all the time, but like to have a decent quality ctc for those who can't appreciate my 3x as expensive teas. and occasionally I drink some ctc just to \"repair\" the budget.  When I saw that I could buy some \"orthodox\" high mountain Ceylon at such a reasonable price, I decided to give it a try. How bad could it be? First, not orthodox-it's ctc. Secondly, even with lowered expectations (Ceylon used to be my favorite tea before quality decreased over the last few years), this is disappointing. It is simply  a commercial product. It lacks any of the distinctive qualities of decent Ceylon. I couldn't coax a respectable cup of liquor from the leaves no matter how I brewed them. I'll use it to make a black tea mix for friends, but I won't calculate it's final cost vs quality. That way I won't have to add an antidepressant to my tea habit.<br /><br />I think generally speaking, Amazon is not the place to buy tea. This tea may be very old and may not have been handled properly. Tea is very susceptible to heat (warehouse). This was hot tot he touch when it arrived. There are other retailers who take great care in turning over inventory so as not to ship old tea. This is true even when purchasing inexpensive tea.\n",
      "* * * * * * * * * \n"
     ]
    },
    {
     "name": "stdout",
     "output_type": "stream",
     "text": [
      "156872\n",
      "2011-11-25 00:00:00\n",
      "5\n",
      "0\n",
      "B001WRHQRA\n",
      "I ordered the pumpkins spice to check out the flavor and was so pleasantly surprised...it was delicious.  I actually wish I had ordered more while the special was on.  Believe me the box went way too fast.  Everyone wanted to try it and all loved it.  Smooth flavor and just perfect amount of pumpkin spice!!!  Green Mountain has never disappointed.  I always try many different flavors, but Green Mountain especially Pumpkin Spice is one of my favorites.<br /><br />Respectfully,<br /><br />Barbara Condrey<br /><br />Wish I had a cup NOW!!!  lol\n",
      "* * * * * * * * * \n",
      "169362\n",
      "2007-03-05 00:00:00\n",
      "5\n",
      "0\n",
      "B000LWCR26\n",
      "*****<br /><br />Numi Tea's Ruby Chai Spiced Rooibos Herbal Teasan is a premium Numi tea, both certified organic and kosher. The ingredients are fair trade certified organic rooibos, organic cloves, organic allspice, organic ginger, organic cardamom, organic nutmeg, and organic cinnamon. There is nothing artificial in this or in any Numi tea.<br /><br />On the box, the manufacturer writes: \"Earthy, vanilla organic Rooibos and a sultry blend of spices come together from around the world in Numi's caffeine-free chai. Warmed by the South African sun, Rooibos is lauded for its high anti-oxidant properties. It is full-bodied like black tea, yet soothing any time of day. We've sourced the highest quality cloves, nutmeg, and cinnamon, mingling them with sweet Indian allspice and vivacious Chinese ginger. A kiss of cardamom unites this fabulous caffeine-free alternative to Numi's Golden Chai. Share in the savory warmth of Ruby Chai.\"<br /><br />If you are used to black tea or coffee and are wanting to get accustomed to herbal caffeine-free teas, this is a great way to start, since the flavors are stronger and thus less subtle than most herbal teas. Although this is a \"chai\", note that it contains no sweeteners...I prefer this, but commercial chais often have sugar added, so be prepared for a wonderful no-calorie indulgence that is beautifully flavored but not \"sweet\" in the same way that sugar is.<br /><br />If you like Numi teas, get it---you won't be sorry. If you are new to Numi but love chai, this will probably be the best you've ever had.<br /><br />*****\n",
      "* * * * * * * * * \n",
      "169660\n",
      "2012-10-11 00:00:00\n",
      "3\n",
      "3\n",
      "B0076YVPLG\n",
      "Okay, this is not your sweet nonni's special Sunday sauce, and the penne aren't her own hand cut and rolled individually around the handle of her wood spoon little pastas that you grew up with (and if the food was that good, why the heck did you leave home?  Ask yourself!).  But it won't kill you.  And if you are up to here with tunafish sandwiches, on a budget, in a hurry, and trapped inside because Life As We Know It has come to a disasterous end, it's not a bad lunch.  It's not good, but there are worse things, and we've all probably tasted them. Canned spaghetti, for one thing. Or canned chicken noodle soup, lord help us and the poor chicken that died in vain for that stuff.<br /><br />If you are used to those bottled supermarket sauces, you might find this completely acceptable.  It is mostly salty and slightly tomato-ey.  The sauce is a tiny bit on the bitter side, probably from dehydrated garlic. It has that metallic aftertaste. But you can taste the basil, there are little red chunks that could indeed be tomato, and the texture of the pasta is not as bad as it might be. It has a sort of gummy/pastiness, but not that slimy tongue-feel of canned soup noodles.<br /><br />You have to cook it a bit longer than the instructions state, especially if you have an underpowered microwave.  The portion size is decent, but it's not exactly low cal, packing about 350 calories. If you add a salad and a beverage, you're looking at 500 to 600 calories easy, and you could have had a Big Mac or a ham and cheese sandwich or something really really good instead.<br /><br />If you work in an office where people steal food, offer the crooks a taste. This stuff is not so good that they'll be tempted to \"borrow\" a box when you're not looking.<br /><br />I would definitely buy this if I were a survivalist. A good change from the  canned beefaroni. I might buy this to keep on hand at work for emergencies...days when I forgot to bring something from home or going out for real food was not possible, and every restaurant in town suddenly stopped delivering. I would not buy them as an altenative or replacement for the real thing.  And the real thing is so easy to make...and takes no time at all.  Boil pasta according to package directions. Put a little olive oil in a frying pan, throw in some finely chopped garlic. Let it saute on low heat...but don't let it brown. Cut a pint of cherry tomatoes in half and toss them in. Add a pinch of sugar and a pinch of red peper flakes or some cayenne or chili powder. Diced chile peppers are even better, as many as you like for as hot as you like.  Cook for ten minutes. Drain the pasta, toss it into the frying pan and swirl it around so it gets all mixed up with the tomatoes and garlicky oil. Add some shredded basil.  You can throw in some diced mozzarela, sprinkle on parmesan or asiago or whatever Italian grated cheese you like.  20 minutes, start to finish, and you have something really nice. With crusty bread, a tart green salad and some wine, it's a feast. Buy some supermarket lemon sorbet and tart it up with grated lemon peel and some mint leaves and you are a chef.\n",
      "* * * * * * * * * \n",
      "201810\n",
      "2012-04-19 00:00:00\n",
      "5\n",
      "0\n",
      "B004QXH4JC\n",
      "Wow!  Buffalo Sponge Chocolate made with high quality Merckens dark chocolate.  This is the \"real deal\" - Buffalo Sponge Candy shipped quickly and was well packed.  It arrived in 3 days.  Plenty of time for the Holidays.  I am writing this review at this time only because I previously ordered from another Amazon seller and was very disappointed to receive what can only be called \"bulk bin\" grocery quality.  I highly recommend buying from Buffalo Sponge Candy.<br /><br />My favorite flavor?  Dark chocolate of course!  I am sure that the most popular flavor is Classic Milk Chocolate.<br />I have NEVER met anyone who did not like it.  But I personally prefer the Dark Chocolate made with Merckens.  Life is short - so eat Buffalo Sponge Candy.  You will not be disappointed!\n",
      "* * * * * * * * * \n",
      "202424\n",
      "2012-03-15 00:00:00\n",
      "5\n",
      "0\n",
      "B0081XIA1E\n",
      "My dogs LOVE this game!  As soon as I pick it up, they get excited.  It is not too hard that they loose attention, and it is not too easy either.  The compartment covers are probably too big for a very small dog to remove...I have a Red Heeler and a Rhodesian Ridgeback.  Really good entertainment for my dogs for a very small price!\n",
      "* * * * * * * * * \n",
      "231043\n",
      "2010-11-03 00:00:00\n",
      "5\n",
      "1\n",
      "B003Z6ZGZK\n",
      "This coffee is THE BEST way to start your work day. The added bonus of not paying what you would pay at a Starbucks for essentially the same thing is an even better way to start your day :)<br /><br />Flavor: rich, bold and full-bodied. I've had other kinds of instant before and although I do prefer to use my moka pot for coffee, this makes a REALLY nice alternative.<br /><br />This coffee leaves no lingering aftertaste, the aroma is incredible and the taste is fresh brewed. You can't beat that! I keep stashes of these at work and in my handbag. Mmmm!\n",
      "* * * * * * * * * \n",
      "276028\n",
      "2012-08-08 00:00:00\n",
      "5\n",
      "0\n",
      "B001FSJCPK\n",
      "Recently one of my elderly cats was diagnosed with an ulcerated cornea that had both bacterial and fungal activity in it; wow. So I have to somehow get this fully clawed cat to swallow a pill twice a day, and also squirt antibiotic gel into her eyes. And somehow do this without losing a limb? Yeah right. This cat is FIERCE! Our vet recommended the Pill Pockets....WHAT A LIFESAVER!<br /><br />I have to squirt gel into my cat's eye 3 times a day and get her pilled up twice a day. So in the morning and at night, she gets a 'treat' afterwards: her antifungal pill wrapped in a pill pocket!! We laugh that she's being 'rewarded' with her pill. But she's looking for that pill as soon as we squirt in the eye gel, like a crack addict looking for their next high! She starts sniffing for her treat immediately. SHE LOVES these pill pockets! Which amazes me, as she is normally not the kind of cat to be fooled by medication wrapped up in treats. Nothing else we have ever tried, has worked like these.<br /><br />TOTAL recommendation to anyone and everyone from now on! I will also give these to my friends who have cats constantly on medication. These are a miracle product for us!\n",
      "* * * * * * * * * \n",
      "277781\n",
      "2012-05-31 00:00:00\n",
      "4\n",
      "0\n",
      "B002IEZJMA\n",
      "If you really liked coffee or want an alternative for a hot day, this is it. Refrigerate it and/or pour over ice and it is ideal for that hot day relaxing. It is sweetened, but me personally like a bit more sugar. It tastes just like coffee and is not overly strong. I like the fact that it is a single seving can, so I don't have to make an entire pot off coffee. It is easy enough to put in the refrigerator and grab when needed, or take to go while on the run.\n",
      "* * * * * * * * * \n",
      "285815\n",
      "2012-09-14 00:00:00\n",
      "5\n",
      "0\n",
      "B007TGDXNO\n",
      "This is a bold coffee with a smooth taste. For the money it is the beet tasting c.offee I have found in the market .place. I love the easy storable sturdy box.\n",
      "* * * * * * * * * \n",
      "288311\n",
      "2012-10-08 00:00:00\n",
      "2\n",
      "0\n",
      "B002G0CA6O\n",
      "I have mixed feelings about this product. It tastes good and there is no artificial coloring added, BUT it is not pure stevia (S. rebaudiana). It has erythritol ,a sugar alcohol. For how expensive this product is, I am disappointing that Zevia did not keep to its main purpose for this soda. Because it has erythritol, this soda is severly MISLEADING. Do yourself a favor, buy pure stevia extract and make yourself lemonade, or your own sodas. Dont waste your money.\n",
      "* * * * * * * * * \n",
      "293361\n",
      "2012-07-05 00:00:00\n",
      "5\n",
      "0\n",
      "B00124VPX4\n",
      "This gum has zylitol which kills germs in your mouth.  I use it after eating if I can't brush.  Tastes great and has no harmful ingredients.  I buy it over and over.\n",
      "* * * * * * * * * \n",
      "298354\n",
      "2011-08-05 00:00:00\n",
      "5\n",
      "0\n",
      "B0007LXU9A\n",
      "I'm a big fan of Kashi products in general and these are super tasty! Fiber and protein balanced which makes me feel full and satisfied, no sugar crash.  Even my 8 year old LOVES them.  I like the convenience of being able to pack these for daily outtings or family trips.  Amazon pricing is super!\n",
      "* * * * * * * * * \n",
      "326990\n",
      "2011-03-13 00:00:00\n",
      "5\n",
      "1\n",
      "B0025VRCJY\n",
      "One of the best lemon juice that I have tried. I am recurring customer due to the high quality of this product. When the season for fresh lemos is out, this one supplement our need for the citrus on the kitchen or refreshments.<br /><br />I will continue buying it.\n",
      "* * * * * * * * * \n",
      "337894\n",
      "2010-04-04 00:00:00\n",
      "5\n",
      "1\n",
      "B001HN5S38\n",
      "This product was excellent.  I received my sunflower seeds three days after ordering.  I am very imprssed with this product.\n",
      "* * * * * * * * * \n",
      "351970\n",
      "2006-06-15 00:00:00\n",
      "5\n",
      "10\n",
      "B000EVMNP0\n",
      "Why are you reading reviews for this candy? Are you bored? Hungry?<br /><br />If you've never had them, wow. These are amazing.<br /><br />I thought to myself the first time I tried these, \"Huhm. Little candy raspberries. Bah. I've seen better. This is child's play.\" And bam.<br /><br />They're so good, I wrote a review on them. *thumbs up*\n",
      "* * * * * * * * * \n"
     ]
    }
   ],
   "source": [
    "# false positives\n",
    "\n",
    "import random, time\n",
    "\n",
    "for i in range(0, len(ridge_predictions)):\n",
    "    if (ridge_predictions[i] == True):\n",
    "        if (amazon.loc[i, \"helpful\"] == False):\n",
    "            if (random.uniform(0, 1) < 0.05):\n",
    "                print(i)\n",
    "                print(time.strftime('%Y-%m-%d %H:%M:%S', time.gmtime(amazon.loc[i, \"Time\"])))\n",
    "                print(amazon.loc[i, \"Score\"])\n",
    "                print(amazon.loc[i, \"HelpfulnessDenominator\"])\n",
    "                print(amazon.loc[i, \"ProductId\"])\n",
    "                print(amazon.loc[i, \"Text\"])\n",
    "                print('* * * * * * * * * ')"
   ]
  }
 ],
 "metadata": {
  "kernelspec": {
   "display_name": "Python 3",
   "language": "python",
   "name": "python3"
  },
  "language_info": {
   "codemirror_mode": {
    "name": "ipython",
    "version": 3
   },
   "file_extension": ".py",
   "mimetype": "text/x-python",
   "name": "python",
   "nbconvert_exporter": "python",
   "pygments_lexer": "ipython3",
   "version": "3.7.1"
  }
 },
 "nbformat": 4,
 "nbformat_minor": 1
}
