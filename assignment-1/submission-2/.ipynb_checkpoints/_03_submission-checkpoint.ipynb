{
 "cells": [
  {
   "cell_type": "markdown",
   "metadata": {},
   "source": [
    "# Submission 1, ML Assignment 1"
   ]
  },
  {
   "cell_type": "code",
   "execution_count": 1,
   "metadata": {},
   "outputs": [],
   "source": [
    "import numpy as np\n",
    "import pandas as pd\n",
    "import matplotlib.pyplot as plt\n",
    "from sklearn.externals import joblib\n",
    "from my_measures import BinaryClassificationPerformance\n",
    "%matplotlib inline"
   ]
  },
  {
   "cell_type": "markdown",
   "metadata": {},
   "source": [
    "### Read raw test data"
   ]
  },
  {
   "cell_type": "code",
   "execution_count": 2,
   "metadata": {},
   "outputs": [
    {
     "name": "stdout",
     "output_type": "stream",
     "text": [
      "(91000, 14)\n"
     ]
    }
   ],
   "source": [
    "amazon = pd.read_csv('/Users/andrewlevinson/programs/parsons/spring-2019/machine-learning-class/machine-learning/assignment-1/data/raw_data_test.csv')\n",
    "\n",
    "print(amazon.shape)"
   ]
  },
  {
   "cell_type": "code",
   "execution_count": 3,
   "metadata": {},
   "outputs": [
    {
     "name": "stdout",
     "output_type": "stream",
     "text": [
      "   Unnamed: 0  Unnamed: 0.1      Id   ProductId          UserId  \\\n",
      "0      450430        317629  317630  B002BUD5TK   AZ4EUUJVC8358   \n",
      "1      209527        289838  289839  B003LPOUZM  A1BEU8FCL6JI4T   \n",
      "2      329547        479010  479011  B001E5E074  A1XL72EEATTQY4   \n",
      "3       46044        256379  256380  B001EQ55R2  A38XAAS5U05GY8   \n",
      "4      162804        355065  355066  B001EQ4OBA   A6S4BCIF87GQ7   \n",
      "\n",
      "                     ProfileName  HelpfulnessNumerator  \\\n",
      "0                          Kasia                     1   \n",
      "1                 Linda \"ln5229\"                     0   \n",
      "2  Michael J. Pruett \"M P buyer\"                     2   \n",
      "3                         Judith                     0   \n",
      "4            Reason \"books_easy\"                     1   \n",
      "\n",
      "   HelpfulnessDenominator  Score        Time  \\\n",
      "0                       1      1  1340755200   \n",
      "1                       0      5  1298851200   \n",
      "2                       2      3  1343692800   \n",
      "3                       0      5  1320451200   \n",
      "4                       2      3  1290384000   \n",
      "\n",
      "                              Summary  \\\n",
      "0                        Not the same   \n",
      "1                     Best Mayo Ever!   \n",
      "2                              Cereal   \n",
      "3           Essential for most salads   \n",
      "4  Excellent price, no so good taste.   \n",
      "\n",
      "                                                Text  helpScore  helpful  \n",
      "0  As much as I love Italian Sweet Creme in liqui...        1.0    False  \n",
      "1  i was introduced to Duke's Mayo in North Carol...        NaN    False  \n",
      "2  Kashi GOLEAN Crunch! Cereal ..  this cereal is...        1.0    False  \n",
      "3  I don't use it on salads with fruit or fruit i...        NaN    False  \n",
      "4  The price is definitely good compared to simil...        0.5    False  \n",
      "0.07371428571428572\n"
     ]
    }
   ],
   "source": [
    "print(amazon.head())\n",
    "print(amazon['helpful'].mean())"
   ]
  },
  {
   "cell_type": "markdown",
   "metadata": {},
   "source": [
    "### Feature extraction on natural language data"
   ]
  },
  {
   "cell_type": "code",
   "execution_count": 4,
   "metadata": {},
   "outputs": [],
   "source": [
    "# # http://scikit-learn.org/stable/modules/generated/sklearn.feature_extraction.text.CountVectorizer.html\n",
    "# from sklearn.feature_extraction.text import CountVectorizer\n",
    "# vectorizer = CountVectorizer()\n",
    "# corpus = amazon.Text.as_matrix()\n",
    "# X_bag_of_words = vectorizer.fit_transform(corpus)\n",
    "# print(X_bag_of_words.toarray())"
   ]
  },
  {
   "cell_type": "code",
   "execution_count": 4,
   "metadata": {},
   "outputs": [
    {
     "name": "stderr",
     "output_type": "stream",
     "text": [
      "/Users/andrewlevinson/anaconda3/lib/python3.7/site-packages/sklearn/feature_extraction/hashing.py:102: DeprecationWarning: the option non_negative=True has been deprecated in 0.19 and will be removed in version 0.21.\n",
      "  \" in version 0.21.\", DeprecationWarning)\n"
     ]
    },
    {
     "name": "stdout",
     "output_type": "stream",
     "text": [
      "(91000, 262144)\n"
     ]
    }
   ],
   "source": [
    "# vectorize Bag of Words from review text; as sparse matrix\n",
    "# from sklearn.feature_extraction.text import HashingVectorizer\n",
    "# hv = HashingVectorizer(n_features=2 ** 18, non_negative=True)\n",
    "hv = joblib.load('hv.pkl')\n",
    "X_hv = hv.transform(amazon.Text)\n",
    "print(X_hv.shape)"
   ]
  },
  {
   "cell_type": "code",
   "execution_count": 5,
   "metadata": {},
   "outputs": [],
   "source": [
    "# http://scikit-learn.org/stable/modules/generated/sklearn.feature_extraction.text.TfidfTransformer.html\n",
    "# from sklearn.feature_extraction.text import TfidfTransformer\n",
    "# transformer = TfidfTransformer()\n",
    "transformer = joblib.load('transformer.pkl')\n",
    "X_tfidf = transformer.transform(X_hv)"
   ]
  },
  {
   "cell_type": "code",
   "execution_count": 6,
   "metadata": {},
   "outputs": [
    {
     "name": "stdout",
     "output_type": "stream",
     "text": [
      "<class 'scipy.sparse.csr.csr_matrix'>\n"
     ]
    }
   ],
   "source": [
    "print(type(X_tfidf))"
   ]
  },
  {
   "cell_type": "markdown",
   "metadata": {
    "collapsed": true
   },
   "source": [
    "### Create additional quantitative features"
   ]
  },
  {
   "cell_type": "code",
   "execution_count": 7,
   "metadata": {},
   "outputs": [
    {
     "name": "stdout",
     "output_type": "stream",
     "text": [
      "    Score  reviewLen        Time  sumLen  upper  lower  special\n",
      "0       1         59  1340755200       3      5     44        2\n",
      "1       5         29  1298851200       3      0     23        0\n",
      "2       3         23  1343692800       1      2     14        0\n",
      "3       5         42  1320451200       4      1     38        0\n",
      "4       3         48  1290384000       6      4     40        1\n",
      "5       1        116  1251504000       3      5     93        0\n",
      "6       4         18  1214092800       3      0     13        0\n",
      "7       5         61  1347667200       5      7     49        1\n",
      "8       5         92  1318118400       3      0     80        1\n",
      "9       1         62  1340150400       4      5     46        1\n",
      "10      5         16  1261008000       2      2     13        1\n",
      "11      5        134  1206921600       2      1    119        0\n",
      "12      4         79  1312329600       2      3     73        0\n",
      "13      5         46  1334188800       7      0     37        0\n",
      "14      5        109  1326844800       5      5     99        0\n",
      "15      5         66  1235606400       6      5     46        1\n",
      "16      5         25  1276128000       2      0     22        0\n",
      "17      5         18  1227398400       3      0     15        0\n",
      "18      3        233  1222214400       9      8    202        4\n",
      "19      5        110  1302393600       4      3     95        1\n",
      "20      5         24  1306627200       2      0     22        0\n",
      "21      5         66  1175558400       5      5     46        0\n",
      "22      5         21  1307491200       1      1     17        0\n",
      "23      5         87  1313798400       3      1     70        2\n",
      "24      4         41  1326153600       4      0     39        0\n"
     ]
    }
   ],
   "source": [
    "# features from Amazon.csv to add to feature set\n",
    "# review word length\n",
    "amazon['reviewLen'] = amazon['Text'].apply(lambda x: len(str(x).split(\" \")))\n",
    "\n",
    "# summary word length\n",
    "amazon['sumLen'] = amazon['Summary'].apply(lambda x: len(str(x).split(\" \")))\n",
    "\n",
    "# upper case words in Text review\n",
    "amazon['upper'] = amazon['Text'].apply(lambda x: len([x for x in x.split() if x.isupper()]))\n",
    "\n",
    "# lower case words in Text review\n",
    "amazon['lower'] = amazon['Text'].apply(lambda x: len([x for x in x.split() if x.islower()]))\n",
    "\n",
    "#count freq of specific words\n",
    "amazon['special'] = amazon['Text'].str.count(\"love\") + amazon['Text'].str.count(\"price\") + amazon['Text'].str.count(\"easy\") + amazon['Text'].str.count(\"loves\")  + amazon['Text'].str.count(\"recommend\") + amazon['Text'].str.count(\"happy\") + amazon['Text'].str.count(\"disappointed\")\n",
    "\n",
    "X_quant_features = amazon[[\"Score\", \"reviewLen\", \"Time\", \"sumLen\", \"upper\", \"lower\", \"special\"]]\n",
    "print(X_quant_features.head(25))\n",
    "# print(type(X_quant_features))"
   ]
  },
  {
   "cell_type": "markdown",
   "metadata": {},
   "source": [
    "### Combine all quantitative features into a single sparse matrix"
   ]
  },
  {
   "cell_type": "code",
   "execution_count": 8,
   "metadata": {},
   "outputs": [
    {
     "name": "stdout",
     "output_type": "stream",
     "text": [
      "(91000, 262151)\n"
     ]
    }
   ],
   "source": [
    "from scipy.sparse import csr_matrix, hstack\n",
    "X_quant_features_csr = csr_matrix(X_quant_features)\n",
    "X_combined = hstack([X_tfidf, X_quant_features_csr])\n",
    "X_matrix = csr_matrix(X_combined) # convert to sparse matrix\n",
    "print(X_matrix.shape)"
   ]
  },
  {
   "cell_type": "markdown",
   "metadata": {},
   "source": [
    "### Create `X`, scaled matrix of features"
   ]
  },
  {
   "cell_type": "code",
   "execution_count": 9,
   "metadata": {},
   "outputs": [
    {
     "name": "stdout",
     "output_type": "stream",
     "text": [
      "(91000, 262151)\n"
     ]
    }
   ],
   "source": [
    "# feature scaling\n",
    "# from sklearn.preprocessing import StandardScaler\n",
    "# sc = StandardScaler(with_mean=False)\n",
    "sc = joblib.load('sc.pkl')\n",
    "X = sc.transform(X_matrix)\n",
    "print(X.shape)"
   ]
  },
  {
   "cell_type": "markdown",
   "metadata": {},
   "source": [
    "### create `y`, vector of Labels"
   ]
  },
  {
   "cell_type": "code",
   "execution_count": 10,
   "metadata": {},
   "outputs": [
    {
     "name": "stdout",
     "output_type": "stream",
     "text": [
      "<class 'numpy.ndarray'>\n"
     ]
    }
   ],
   "source": [
    "y = amazon['helpful'].values\n",
    "print(type(y))"
   ]
  },
  {
   "cell_type": "markdown",
   "metadata": {},
   "source": [
    "### predict `y` with the fit on the training set"
   ]
  },
  {
   "cell_type": "code",
   "execution_count": 11,
   "metadata": {},
   "outputs": [
    {
     "name": "stdout",
     "output_type": "stream",
     "text": [
      "{'Pos': 6708, 'Neg': 84292, 'TP': 2823, 'TN': 81079, 'FP': 3213, 'FN': 3885, 'Accuracy': 0.922, 'Precision': 0.4676938369781312, 'Recall': 0.4208407871198569, 'desc': 'dtc'}\n"
     ]
    }
   ],
   "source": [
    "# MODEL: Decision Tree Classifier\n",
    "# from sklearn import tree\n",
    "# dtc = tree.DecisionTreeClassifier(max_depth=None)\n",
    "# dtc.fit(X_matrix, y)\n",
    "# joblib.dump(dtc, 'dtc.pkl') # pickle\n",
    "dtc = joblib.load('dtc.pkl')\n",
    "\n",
    "dtc_performance = BinaryClassificationPerformance(dtc.predict(X_matrix), y, 'dtc')\n",
    "dtc_performance.compute_measures()\n",
    "print(dtc_performance.performance_measures)"
   ]
  },
  {
   "cell_type": "markdown",
   "metadata": {},
   "source": [
    "### ROC plot to compare performance of various models and fits"
   ]
  },
  {
   "cell_type": "code",
   "execution_count": 12,
   "metadata": {},
   "outputs": [
    {
     "data": {
      "image/png": "[encoded data removed]",
      "text/plain": [
       "<Figure size 432x288 with 1 Axes>"
      ]
     },
     "metadata": {
      "needs_background": "light"
     },
     "output_type": "display_data"
    }
   ],
   "source": [
    "fits = [dtc_performance]\n",
    "\n",
    "for fit in fits:\n",
    "    plt.plot(fit.performance_measures['FP'] / fit.performance_measures['Neg'], \n",
    "             fit.performance_measures['TP'] / fit.performance_measures['Pos'], 'bo')\n",
    "    plt.text(fit.performance_measures['FP'] / fit.performance_measures['Neg'], \n",
    "             fit.performance_measures['TP'] / fit.performance_measures['Pos'], fit.desc)\n",
    "plt.axis([0, 1, 0, 1])\n",
    "plt.title('ROC plot: test set')\n",
    "plt.xlabel('False positive rate')\n",
    "plt.ylabel('True positive rate')\n",
    "plt.show()"
   ]
  },
  {
   "cell_type": "code",
   "execution_count": null,
   "metadata": {
    "collapsed": true
   },
   "outputs": [],
   "source": []
  }
 ],
 "metadata": {
  "kernelspec": {
   "display_name": "Python 3",
   "language": "python",
   "name": "python3"
  },
  "language_info": {
   "codemirror_mode": {
    "name": "ipython",
    "version": 3
   },
   "file_extension": ".py",
   "mimetype": "text/x-python",
   "name": "python",
   "nbconvert_exporter": "python",
   "pygments_lexer": "ipython3",
   "version": "3.7.1"
  }
 },
 "nbformat": 4,
 "nbformat_minor": 1
}
