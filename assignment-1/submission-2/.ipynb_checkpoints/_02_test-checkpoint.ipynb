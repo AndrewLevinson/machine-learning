{
 "cells": [
  {
   "cell_type": "markdown",
   "metadata": {},
   "source": [
    "# Test Set"
   ]
  },
  {
   "cell_type": "code",
   "execution_count": 62,
   "metadata": {},
   "outputs": [],
   "source": [
    "import numpy as np\n",
    "import pandas as pd\n",
    "import matplotlib.pyplot as plt\n",
    "from sklearn.externals import joblib\n",
    "from my_measures import BinaryClassificationPerformance\n",
    "%matplotlib inline"
   ]
  },
  {
   "cell_type": "markdown",
   "metadata": {},
   "source": [
    "### Read raw test data"
   ]
  },
  {
   "cell_type": "code",
   "execution_count": 63,
   "metadata": {},
   "outputs": [
    {
     "name": "stdout",
     "output_type": "stream",
     "text": [
      "(91000, 14)\n"
     ]
    }
   ],
   "source": [
    "amazon = pd.read_csv('/Users/andrewlevinson/programs/parsons/spring-2019/machine-learning-class/machine-learning/assignment-1/data/raw_data_test.csv')\n",
    "\n",
    "print(amazon.shape)"
   ]
  },
  {
   "cell_type": "code",
   "execution_count": 64,
   "metadata": {},
   "outputs": [
    {
     "name": "stdout",
     "output_type": "stream",
     "text": [
      "As much as I love Italian Sweet Creme in liquid form ( the only one I use ) , this one is not even closer to the taste of the liquid, I have strange after taste like chemical or something , plus I get flux-reflect if I use to often , very disappointed and will not purchase again .\n"
     ]
    }
   ],
   "source": [
    "print(amazon.loc[0, \"Text\"])"
   ]
  },
  {
   "cell_type": "code",
   "execution_count": 65,
   "metadata": {},
   "outputs": [
    {
     "name": "stdout",
     "output_type": "stream",
     "text": [
      "   Unnamed: 0  Unnamed: 0.1      Id   ProductId          UserId  \\\n",
      "0      450430        317629  317630  B002BUD5TK   AZ4EUUJVC8358   \n",
      "1      209527        289838  289839  B003LPOUZM  A1BEU8FCL6JI4T   \n",
      "2      329547        479010  479011  B001E5E074  A1XL72EEATTQY4   \n",
      "3       46044        256379  256380  B001EQ55R2  A38XAAS5U05GY8   \n",
      "4      162804        355065  355066  B001EQ4OBA   A6S4BCIF87GQ7   \n",
      "\n",
      "                     ProfileName  HelpfulnessNumerator  \\\n",
      "0                          Kasia                     1   \n",
      "1                 Linda \"ln5229\"                     0   \n",
      "2  Michael J. Pruett \"M P buyer\"                     2   \n",
      "3                         Judith                     0   \n",
      "4            Reason \"books_easy\"                     1   \n",
      "\n",
      "   HelpfulnessDenominator  Score        Time  \\\n",
      "0                       1      1  1340755200   \n",
      "1                       0      5  1298851200   \n",
      "2                       2      3  1343692800   \n",
      "3                       0      5  1320451200   \n",
      "4                       2      3  1290384000   \n",
      "\n",
      "                              Summary  \\\n",
      "0                        Not the same   \n",
      "1                     Best Mayo Ever!   \n",
      "2                              Cereal   \n",
      "3           Essential for most salads   \n",
      "4  Excellent price, no so good taste.   \n",
      "\n",
      "                                                Text  helpScore  helpful  \n",
      "0  As much as I love Italian Sweet Creme in liqui...        1.0    False  \n",
      "1  i was introduced to Duke's Mayo in North Carol...        NaN    False  \n",
      "2  Kashi GOLEAN Crunch! Cereal ..  this cereal is...        1.0    False  \n",
      "3  I don't use it on salads with fruit or fruit i...        NaN    False  \n",
      "4  The price is definitely good compared to simil...        0.5    False  \n",
      "0.07371428571428572\n"
     ]
    }
   ],
   "source": [
    "print(amazon.head())\n",
    "print(amazon['helpful'].mean())"
   ]
  },
  {
   "cell_type": "markdown",
   "metadata": {},
   "source": [
    "### Feature extraction on natural language data"
   ]
  },
  {
   "cell_type": "code",
   "execution_count": 66,
   "metadata": {},
   "outputs": [],
   "source": [
    "# # http://scikit-learn.org/stable/modules/generated/sklearn.feature_extraction.text.CountVectorizer.html\n",
    "# from sklearn.feature_extraction.text import CountVectorizer\n",
    "# vectorizer = CountVectorizer()\n",
    "# corpus = amazon.Text.as_matrix()\n",
    "# X_bag_of_words = vectorizer.fit_transform(corpus)\n",
    "# print(X_bag_of_words.toarray())"
   ]
  },
  {
   "cell_type": "code",
   "execution_count": 67,
   "metadata": {},
   "outputs": [
    {
     "name": "stderr",
     "output_type": "stream",
     "text": [
      "/Users/andrewlevinson/anaconda3/lib/python3.7/site-packages/sklearn/feature_extraction/hashing.py:102: DeprecationWarning: the option non_negative=True has been deprecated in 0.19 and will be removed in version 0.21.\n",
      "  \" in version 0.21.\", DeprecationWarning)\n"
     ]
    },
    {
     "name": "stdout",
     "output_type": "stream",
     "text": [
      "(91000, 262144)\n"
     ]
    }
   ],
   "source": [
    "# vectorize Bag of Words from review text; as sparse matrix\n",
    "# from sklearn.feature_extraction.text import HashingVectorizer\n",
    "# hv = HashingVectorizer(n_features=2 ** 17, non_negative=True)\n",
    "hv = joblib.load('hv.pkl')\n",
    "X_hv = hv.transform(amazon.Text)\n",
    "print(X_hv.shape)"
   ]
  },
  {
   "cell_type": "code",
   "execution_count": 68,
   "metadata": {},
   "outputs": [],
   "source": [
    "# http://scikit-learn.org/stable/modules/generated/sklearn.feature_extraction.text.TfidfTransformer.html\n",
    "# from sklearn.feature_extraction.text import TfidfTransformer\n",
    "# transformer = TfidfTransformer()\n",
    "transformer = joblib.load('transformer.pkl')\n",
    "X_tfidf = transformer.transform(X_hv)"
   ]
  },
  {
   "cell_type": "code",
   "execution_count": 69,
   "metadata": {},
   "outputs": [
    {
     "name": "stdout",
     "output_type": "stream",
     "text": [
      "<class 'scipy.sparse.csr.csr_matrix'>\n"
     ]
    }
   ],
   "source": [
    "print(type(X_tfidf))"
   ]
  },
  {
   "cell_type": "markdown",
   "metadata": {
    "collapsed": true
   },
   "source": [
    "### Create additional quantitative features"
   ]
  },
  {
   "cell_type": "code",
   "execution_count": 70,
   "metadata": {},
   "outputs": [
    {
     "name": "stdout",
     "output_type": "stream",
     "text": [
      "    Score  reviewLen        Time  sumLen  upper  lower  special\n",
      "0       1         59  1340755200       3      5     44        2\n",
      "1       5         29  1298851200       3      0     23        0\n",
      "2       3         23  1343692800       1      2     14        0\n",
      "3       5         42  1320451200       4      1     38        0\n",
      "4       3         48  1290384000       6      4     40        1\n",
      "5       1        116  1251504000       3      5     93        0\n",
      "6       4         18  1214092800       3      0     13        0\n",
      "7       5         61  1347667200       5      7     49        1\n",
      "8       5         92  1318118400       3      0     80        1\n",
      "9       1         62  1340150400       4      5     46        1\n",
      "10      5         16  1261008000       2      2     13        1\n",
      "11      5        134  1206921600       2      1    119        0\n",
      "12      4         79  1312329600       2      3     73        0\n",
      "13      5         46  1334188800       7      0     37        0\n",
      "14      5        109  1326844800       5      5     99        0\n",
      "15      5         66  1235606400       6      5     46        1\n",
      "16      5         25  1276128000       2      0     22        0\n",
      "17      5         18  1227398400       3      0     15        0\n",
      "18      3        233  1222214400       9      8    202        4\n",
      "19      5        110  1302393600       4      3     95        1\n",
      "20      5         24  1306627200       2      0     22        0\n",
      "21      5         66  1175558400       5      5     46        0\n",
      "22      5         21  1307491200       1      1     17        0\n",
      "23      5         87  1313798400       3      1     70        2\n",
      "24      4         41  1326153600       4      0     39        0\n"
     ]
    }
   ],
   "source": [
    "# features from Amazon.csv to add to feature set\n",
    "# review word length\n",
    "amazon['reviewLen'] = amazon['Text'].apply(lambda x: len(str(x).split(\" \")))\n",
    "\n",
    "# summary word length\n",
    "amazon['sumLen'] = amazon['Summary'].apply(lambda x: len(str(x).split(\" \")))\n",
    "\n",
    "# upper case words in Text review\n",
    "amazon['upper'] = amazon['Text'].apply(lambda x: len([x for x in x.split() if x.isupper()]))\n",
    "\n",
    "# lower case words in Text review\n",
    "amazon['lower'] = amazon['Text'].apply(lambda x: len([x for x in x.split() if x.islower()]))\n",
    "\n",
    "#count freq of specific words\n",
    "amazon['special'] = amazon['Text'].str.count(\"love\") + amazon['Text'].str.count(\"price\") + amazon['Text'].str.count(\"easy\") + amazon['Text'].str.count(\"loves\")  + amazon['Text'].str.count(\"recommend\") + amazon['Text'].str.count(\"happy\") + amazon['Text'].str.count(\"disappointed\")\n",
    "\n",
    "X_quant_features = amazon[[\"Score\", \"reviewLen\", \"Time\", \"sumLen\", \"upper\", \"lower\", \"special\"]]\n",
    "print(X_quant_features.head(25))\n",
    "# print(type(X_quant_features))"
   ]
  },
  {
   "cell_type": "markdown",
   "metadata": {},
   "source": [
    "### Combine all quantitative features into a single sparse matrix"
   ]
  },
  {
   "cell_type": "code",
   "execution_count": 71,
   "metadata": {},
   "outputs": [
    {
     "name": "stdout",
     "output_type": "stream",
     "text": [
      "(91000, 262151)\n"
     ]
    }
   ],
   "source": [
    "from scipy.sparse import csr_matrix, hstack\n",
    "X_quant_features_csr = csr_matrix(X_quant_features)\n",
    "X_combined = hstack([X_tfidf, X_quant_features_csr])\n",
    "X_matrix = csr_matrix(X_combined) # convert to sparse matrix\n",
    "print(X_matrix.shape)"
   ]
  },
  {
   "cell_type": "markdown",
   "metadata": {},
   "source": [
    "### Create `X`, scaled matrix of features"
   ]
  },
  {
   "cell_type": "code",
   "execution_count": 72,
   "metadata": {},
   "outputs": [
    {
     "name": "stdout",
     "output_type": "stream",
     "text": [
      "(91000, 262151)\n"
     ]
    }
   ],
   "source": [
    "# feature scaling\n",
    "# from sklearn.preprocessing import StandardScaler\n",
    "# sc = StandardScaler(with_mean=False)\n",
    "sc = joblib.load('sc.pkl')\n",
    "X = sc.transform(X_matrix)\n",
    "print(X.shape)"
   ]
  },
  {
   "cell_type": "markdown",
   "metadata": {},
   "source": [
    "### create `y`, vector of Labels"
   ]
  },
  {
   "cell_type": "code",
   "execution_count": 73,
   "metadata": {},
   "outputs": [
    {
     "name": "stdout",
     "output_type": "stream",
     "text": [
      "<class 'numpy.ndarray'>\n"
     ]
    }
   ],
   "source": [
    "y = amazon['helpful'].values\n",
    "print(type(y))"
   ]
  },
  {
   "cell_type": "markdown",
   "metadata": {},
   "source": [
    "### predict `y` with the fit on the training set"
   ]
  },
  {
   "cell_type": "code",
   "execution_count": 74,
   "metadata": {},
   "outputs": [
    {
     "name": "stdout",
     "output_type": "stream",
     "text": [
      "{'Pos': 6708, 'Neg': 84292, 'TP': 3099, 'TN': 46648, 'FP': 37644, 'FN': 3609, 'Accuracy': 0.5466703296703297, 'Precision': 0.07606214564465061, 'Recall': 0.4619856887298748, 'desc': 'ols'}\n"
     ]
    }
   ],
   "source": [
    "# MODEL: ordinary least squares\n",
    "# from sklearn import linear_model\n",
    "# ols = linear_model.SGDClassifier(loss=\"squared_loss\")\n",
    "# ols.fit(X, y)\n",
    "# joblib.dump(ols, 'ols.pkl') # pickle\n",
    "ols = joblib.load('ols.pkl') # pickle\n",
    "\n",
    "ols_performance = BinaryClassificationPerformance(ols.predict(X), y, 'ols')\n",
    "ols_performance.compute_measures()\n",
    "print(ols_performance.performance_measures)"
   ]
  },
  {
   "cell_type": "code",
   "execution_count": 75,
   "metadata": {},
   "outputs": [
    {
     "name": "stdout",
     "output_type": "stream",
     "text": [
      "{'Pos': 6708, 'Neg': 84292, 'TP': 1987, 'TN': 79279, 'FP': 5013, 'FN': 4721, 'Accuracy': 0.8930329670329671, 'Precision': 0.28385714285714286, 'Recall': 0.2962134764460346, 'desc': 'svm'}\n"
     ]
    }
   ],
   "source": [
    "# MODEL: SVM, linear\n",
    "# from sklearn import linear_model\n",
    "# svm = linear_model.SGDClassifier()\n",
    "# svm.fit(X, y)\n",
    "# joblib.dump(svm, 'svm.pkl') # pickle\n",
    "svm = joblib.load('svm.pkl') # pickle\n",
    "\n",
    "svm_performance = BinaryClassificationPerformance(svm.predict(X), y, 'svm')\n",
    "svm_performance.compute_measures()\n",
    "print(svm_performance.performance_measures)"
   ]
  },
  {
   "cell_type": "code",
   "execution_count": 76,
   "metadata": {},
   "outputs": [
    {
     "name": "stdout",
     "output_type": "stream",
     "text": [
      "{'Pos': 6708, 'Neg': 84292, 'TP': 1482, 'TN': 81238, 'FP': 3054, 'FN': 5226, 'Accuracy': 0.909010989010989, 'Precision': 0.32671957671957674, 'Recall': 0.22093023255813954, 'desc': 'lgs'}\n"
     ]
    }
   ],
   "source": [
    "# MODEL: logistic regression\n",
    "# from sklearn import linear_model\n",
    "# lgs = linear_model.SGDClassifier(loss='log', n_iter=50, alpha=0.00001)\n",
    "# lgs.fit(X, y)\n",
    "# joblib.dump(lgs, 'lgs.pkl') # pickle\n",
    "lgs = joblib.load('lgs.pkl')\n",
    "\n",
    "lgs_performance = BinaryClassificationPerformance(lgs.predict(X), y, 'lgs')\n",
    "lgs_performance.compute_measures()\n",
    "print(lgs_performance.performance_measures)"
   ]
  },
  {
   "cell_type": "code",
   "execution_count": 77,
   "metadata": {},
   "outputs": [
    {
     "name": "stdout",
     "output_type": "stream",
     "text": [
      "{'Pos': 6708, 'Neg': 84292, 'TP': 2520, 'TN': 73300, 'FP': 10992, 'FN': 4188, 'Accuracy': 0.8331868131868132, 'Precision': 0.18650088809946713, 'Recall': 0.3756708407871199, 'desc': 'nbs'}\n"
     ]
    }
   ],
   "source": [
    "# MODEL: Naive Bayes\n",
    "# from sklearn.naive_bayes import MultinomialNB\n",
    "# nbs = MultinomialNB()\n",
    "# nbs.fit(X, y)\n",
    "# joblib.dump(nbs, 'nbs.pkl') # pickle\n",
    "nbs = joblib.load('nbs.pkl')\n",
    "\n",
    "nbs_performance = BinaryClassificationPerformance(nbs.predict(X), y, 'nbs')\n",
    "nbs_performance.compute_measures()\n",
    "print(nbs_performance.performance_measures)"
   ]
  },
  {
   "cell_type": "code",
   "execution_count": 78,
   "metadata": {},
   "outputs": [
    {
     "name": "stdout",
     "output_type": "stream",
     "text": [
      "{'Pos': 6708, 'Neg': 84292, 'TP': 2262, 'TN': 77824, 'FP': 6468, 'FN': 4446, 'Accuracy': 0.880065934065934, 'Precision': 0.259106529209622, 'Recall': 0.3372093023255814, 'desc': 'prc'}\n"
     ]
    }
   ],
   "source": [
    "# MODEL: Perceptron\n",
    "# from sklearn import linear_model\n",
    "# prc = linear_model.SGDClassifier(loss='perceptron')\n",
    "# prc.fit(X, y)\n",
    "# joblib.dump(prc, 'prc.pkl') # pickle\n",
    "prc = joblib.load('prc.pkl')\n",
    "\n",
    "prc_performance = BinaryClassificationPerformance(prc.predict(X), y, 'prc')\n",
    "prc_performance.compute_measures()\n",
    "print(prc_performance.performance_measures)"
   ]
  },
  {
   "cell_type": "code",
   "execution_count": 79,
   "metadata": {},
   "outputs": [
    {
     "name": "stdout",
     "output_type": "stream",
     "text": [
      "{'Pos': 6708, 'Neg': 84292, 'TP': 166, 'TN': 84139, 'FP': 153, 'FN': 6542, 'Accuracy': 0.9264285714285714, 'Precision': 0.5203761755485894, 'Recall': 0.024746571258199165, 'desc': 'rdg'}\n"
     ]
    }
   ],
   "source": [
    "# MODEL: Ridge Regression Classifier\n",
    "# from sklearn import linear_model\n",
    "# rdg = linear_model.RidgeClassifier()\n",
    "# rdg.fit(X, y)\n",
    "# joblib.dump(rdg, 'rdg.pkl') # pickle\n",
    "rdg = joblib.load('rdg.pkl')\n",
    "\n",
    "rdg_performance = BinaryClassificationPerformance(rdg.predict(X), y, 'rdg')\n",
    "rdg_performance.compute_measures()\n",
    "print(rdg_performance.performance_measures)"
   ]
  },
  {
   "cell_type": "code",
   "execution_count": 80,
   "metadata": {},
   "outputs": [
    {
     "name": "stdout",
     "output_type": "stream",
     "text": [
      "{'Pos': 6708, 'Neg': 84292, 'TP': 2823, 'TN': 81079, 'FP': 3213, 'FN': 3885, 'Accuracy': 0.922, 'Precision': 0.4676938369781312, 'Recall': 0.4208407871198569, 'desc': 'dtc'}\n"
     ]
    }
   ],
   "source": [
    "# MODEL: Decision Tree Classifier\n",
    "# from sklearn import tree\n",
    "# dtc = tree.DecisionTreeClassifier(max_depth=100)\n",
    "# dtc.fit(X_matrix, y)\n",
    "# joblib.dump(dtc, 'dtc.pkl') # pickle\n",
    "dtc = joblib.load('dtc.pkl')\n",
    "\n",
    "dtc_performance = BinaryClassificationPerformance(dtc.predict(X_matrix), y, 'dtc')\n",
    "dtc_performance.compute_measures()\n",
    "print(dtc_performance.performance_measures)"
   ]
  },
  {
   "cell_type": "markdown",
   "metadata": {},
   "source": [
    "### ROC plot to compare performance of various models and fits"
   ]
  },
  {
   "cell_type": "code",
   "execution_count": 81,
   "metadata": {},
   "outputs": [
    {
     "data": {
      "image/png": "[encoded data removed]",
      "text/plain": [
       "<Figure size 432x288 with 1 Axes>"
      ]
     },
     "metadata": {
      "needs_background": "light"
     },
     "output_type": "display_data"
    }
   ],
   "source": [
    "fits = [svm_performance, lgs_performance, rdg_performance, prc_performance, ols_performance, dtc_performance, nbs_performance]\n",
    "# fits = [svm_performance, lgs_performance, rdg_performance, prc_performance, ols_performance, nbs_performance]\n",
    "\n",
    "# fits = [rdg_performance, ols_performance, dtc_performance, nbs_performance]\n",
    "# fits = [rdg_performance, dtc_performance]\n",
    "\n",
    "\n",
    "\n",
    "\n",
    "for fit in fits:\n",
    "    plt.plot(fit.performance_measures['FP'] / fit.performance_measures['Neg'], \n",
    "             fit.performance_measures['TP'] / fit.performance_measures['Pos'], 'ro')\n",
    "    plt.text(fit.performance_measures['FP'] / fit.performance_measures['Neg'], \n",
    "             fit.performance_measures['TP'] / fit.performance_measures['Pos'], fit.desc)\n",
    "plt.axis([0, 1, 0, 1])\n",
    "plt.title('ROC plot: training set')\n",
    "plt.xlabel('False positive rate')\n",
    "plt.ylabel('True positive rate')\n",
    "plt.show()"
   ]
  },
  {
   "cell_type": "markdown",
   "metadata": {
    "collapsed": true
   },
   "source": [
    "### looking at reviews based on their classification\n",
    "\n",
    "Let's say we decide that Ridge Regression is the best model for generalization. Let's take a look at some of the reviews and try to make a (subjective) determination of whether it's generalizing well. "
   ]
  },
  {
   "cell_type": "code",
   "execution_count": 18,
   "metadata": {},
   "outputs": [
    {
     "data": {
      "text/plain": [
       "'As much as I love Italian Sweet Creme in liquid form ( the only one I use ) , this one is not even closer to the taste of the liquid, I have strange after taste like chemical or something , plus I get flux-reflect if I use to often , very disappointed and will not purchase again .'"
      ]
     },
     "execution_count": 18,
     "metadata": {},
     "output_type": "execute_result"
    }
   ],
   "source": [
    "amazon.loc[0, \"Text\"]"
   ]
  },
  {
   "cell_type": "code",
   "execution_count": 19,
   "metadata": {},
   "outputs": [
    {
     "data": {
      "text/plain": [
       "False"
      ]
     },
     "execution_count": 19,
     "metadata": {},
     "output_type": "execute_result"
    }
   ],
   "source": [
    "amazon.loc[0, \"helpful\"]"
   ]
  },
  {
   "cell_type": "code",
   "execution_count": 20,
   "metadata": {},
   "outputs": [],
   "source": [
    "ridge_predictions = rdg.predict(X)"
   ]
  },
  {
   "cell_type": "code",
   "execution_count": 21,
   "metadata": {},
   "outputs": [
    {
     "data": {
      "text/plain": [
       "(91000,)"
      ]
     },
     "execution_count": 21,
     "metadata": {},
     "output_type": "execute_result"
    }
   ],
   "source": [
    "ridge_predictions.shape"
   ]
  },
  {
   "cell_type": "code",
   "execution_count": 22,
   "metadata": {},
   "outputs": [
    {
     "name": "stdout",
     "output_type": "stream",
     "text": [
      "[False False False ... False False False]\n"
     ]
    }
   ],
   "source": [
    "print(ridge_predictions)"
   ]
  },
  {
   "cell_type": "code",
   "execution_count": 23,
   "metadata": {},
   "outputs": [
    {
     "name": "stdout",
     "output_type": "stream",
     "text": [
      "1529\n",
      "2008-12-20 00:00:00\n",
      "5\n",
      "0\n",
      "B0006U7T12\n",
      "We have a wonderful German shepherd in our family.  She's happy and affectionate and a wonderful companion.  Exactly the kind of dog that one enjoys rewarding for her good behavior.<br /><br />And our dog, Asha, seems to look at 7.4 ounce Jumbones as something to which she is entitled.  In short, she loves these treats! She weighs more than she should, so perhaps we are being overindulgent with her, but she loves these so much that it's hard not to provide a supply to last the week for her.<br /><br />For me? I don't know how good these really are.  But, trust me, my dog loves them.\n",
      "* * * * * * * * * \n",
      "5409\n",
      "2010-09-23 00:00:00\n",
      "1\n",
      "21\n",
      "B002OMB1C8\n",
      "Mimosa pudica, while fun, is an invasive alien in many countries and toxic to wildlife and grazing animals. Mimosa trees have been banned in Florida. Mimosa trees are banned in many areas because of short lives, branches breaking easily, tendencies to invade and harm native species.<br /><br /><a href=\"http://www.amazon.com/gp/product/B002OMB1C8\">The Patent Magic Plant- Mimosa Tree</a>\n",
      "* * * * * * * * * \n",
      "5669\n",
      "2010-11-28 00:00:00\n",
      "5\n",
      "1\n",
      "B0009WSCQ8\n",
      "The oil is the best for both cooking and diping. After ordering it it was received without delay in 2 days.\n",
      "* * * * * * * * * \n",
      "6004\n",
      "2011-08-06 00:00:00\n",
      "2\n",
      "3\n",
      "B0016NRLHU\n",
      "I wasn't too impressed with these espresso beans. Unfortunately, I had a 3lb tub to deal with!<br />I've had very smooth and decadent espresso beans, but there is something very off-putting about the taste of these Dilettante ones. The white chocolate is supppppper sweet and the espresso beans inside tasted very hard and sharp. Wouldn't buy again.\n",
      "* * * * * * * * * \n",
      "7718\n",
      "2011-02-01 00:00:00\n",
      "5\n",
      "5\n",
      "B000SDMFC0\n",
      "I have purchased this brand of Lavazza, as well as the Super Crema and Gran Riserva.  I use them in my Alex Duetto Espresso Machine (which I couldn't recommend more).  Of these three options, most of which I've tried from several orders, I find the Top Class and Tierra to be the best.  The Super Crema has been the least enjoyable for me, mostly it has been bland.  It's possible I have always received stale Super Crema beans.  I usually make Latte's. I have also had Chris Black Pearl espresso beans and they are quite good for a nice change.\n",
      "* * * * * * * * * \n",
      "9105\n",
      "2012-03-28 00:00:00\n",
      "5\n",
      "1\n",
      "B000HTDFCE\n",
      "This cereal is absolutely one of my favourites, love the flavour and the fruits and cannot believe that is gluten free, a real treat for people who want a nice cereal or something to add to a yogurt.I like also to add some nuts to this cereal, but the ingredients are of the highest quality and the packaging is really good at keeeping the granola frsh, a must buy.\n",
      "* * * * * * * * * \n",
      "10556\n",
      "2011-09-15 00:00:00\n",
      "5\n",
      "1\n",
      "B001E5E1W8\n",
      "I only drink loose leaf teas, and only white teas. The Rishi Tea is perfect Silver Leaf. Only once did I receive a container from Amazon that appeared to be shelved for a long time, but most containers look like fresh and young buds.\n",
      "* * * * * * * * * \n",
      "11888\n",
      "2012-02-05 00:00:00\n",
      "5\n",
      "0\n",
      "B001EQ5LT4\n",
      "I absolutely love these peanuts.  I wrote a previous review for Williamsburg Virgina peanuts which are in the tan colored tin but I enjoy these much more. They are large and crunchy and with just the right amount of salt for me.  I'm a huge fan of peanuts and I use to buy regular peanuts at the local grocery store but I haven't done that in over a year.  I have only bought this brand since I found them. *Note, these peanuts are awesome with a nice beer like Corona or Dos Equis.\n",
      "* * * * * * * * * \n",
      "13250\n",
      "2012-06-18 00:00:00\n",
      "5\n",
      "3\n",
      "B000Y06F8M\n",
      "Previouse reviewer doesn't know what Thai Iced Coffee supposed to taste like.<br />Thai Coffee is never to drink hot.  You can add sugar and top it with half/half or sweeten condensed milk.\n",
      "* * * * * * * * * \n",
      "13396\n",
      "2012-05-08 00:00:00\n",
      "5\n",
      "0\n",
      "B007WTW6PE\n",
      "This is a real nice beer. Excuse me, Ale. And what an ale it is! Real rich, hoppy flavor and full bodied. Nice aroma. Don't confuse this with the pale imitations that are sold on most supermarket shelves. Sierra Nevada Topedo Extra IPA is bold! Just look at the alcohol content. It's 7.2 % and that's really up there. Please be careful about drinking this stuff and driving. When you say \"But Ocifer, I've only had two Sierra Nevada Topedos.\" you may be legally drunk. Torpedoed, so to speak. But sitting at home with the TV on, it's a real nice brew!<br /><br />Gary Peterson\n",
      "* * * * * * * * * \n",
      "16471\n",
      "2012-04-02 00:00:00\n",
      "5\n",
      "1\n",
      "B000ED6SWW\n",
      "My Kool Aid order was mixed up with hair coloring which can certainly happen to anyone. The company was nice enough to listen to my concerns and ship out the right order as soon as possible. I would like to at this time retract my prior feedback and thank the company for all their help. BRAVO ZULU!!!!! Thank you!!!! Edward E Cordova\n",
      "* * * * * * * * * \n",
      "18223\n",
      "2009-08-02 00:00:00\n",
      "5\n",
      "0\n",
      "B002AQL00G\n",
      "I am so thrilled to see these products! As a person who lives with celiac, thank you Betty Crocker for mainstreaming gluten free products! I would like to see a mixed group of the 4 products available, such as 1 of each of the cake mixes, 2 brownie mixes, and 2 cookie mixes.\n",
      "* * * * * * * * * \n",
      "20595\n",
      "2012-05-21 00:00:00\n",
      "1\n",
      "1\n",
      "B006HYJM66\n",
      "This was my first kickstarter contribution, and now I'm skeptical of ever doing another! These coffee joulies simply don't work, and they take up all the room in a cup.\n",
      "* * * * * * * * * \n",
      "21658\n",
      "2011-12-22 00:00:00\n",
      "5\n",
      "1\n",
      "B002YRBAQK\n",
      "For the last few years, we had tried different combinations of gluten free flours to come up with the best sugar cookie dough for cut outs for Christmas......I had purchased some of this mix mid-way through this past year and had used it for other types of cookies.  We decided to give it a try today for holiday cookies and it is the best! So easy to work with and great flavor.........I will stop trying to reinvent the wheel and will be using this mix going forward!!\n",
      "* * * * * * * * * \n",
      "22090\n",
      "2012-10-06 00:00:00\n",
      "5\n",
      "0\n",
      "B004B19L04\n",
      "I purchased these macarons because I've always wanted to try them and I was very satisfied. I absolutely loved the way they were packed and they tased great!\n",
      "* * * * * * * * * \n",
      "22240\n",
      "2011-08-01 00:00:00\n",
      "5\n",
      "3\n",
      "B000OU5EKC\n",
      "Can corned beef for breakfast is a passion of mine since childhood.  I used to spend a lot of time with relatives who lived on the coast with frequent power outages.  Thus, canned items were often used and we had canned corn beef almost every Saturday.  The reduced fat line has all the flavor of the original, and more healthy for you.  I usually broil it crisp, and scramble a egg.  Then top with some BBQ sauce.....overall a very good item.\n",
      "* * * * * * * * * \n",
      "23127\n",
      "2010-03-19 00:00:00\n",
      "5\n",
      "6\n",
      "B002DHNIBG\n",
      "This is so delicious - so easy to keep in your pocket or purse to save your diet. I keep tons at work for meetings that happen when people are starving - these are a godsend.  I think they are one point with wwatchers.\n",
      "* * * * * * * * * \n",
      "24546\n",
      "2010-07-10 00:00:00\n",
      "5\n",
      "1\n",
      "B000HDI5O8\n",
      "I get this to add to my dogs food, it helps bulk up their stool & they don't scoot their bottoms.\n",
      "* * * * * * * * * \n",
      "24897\n",
      "2012-05-22 00:00:00\n",
      "2\n",
      "3\n",
      "B0040K41MY\n",
      "I went on a gluten-free diet a while ago and one thing that didn't impress me, was just how expensive it all was, and how puny the boxes were. I'm sorry to say, but Nature's Path Crunchy Vanilla is yet another underfilled box of mediocre cereal with an oddly cloying vanilla-y aftertaste that tastes slightly burnt. Yes there are a number of different grains inside. Yes, the concept is a good idea, but taste is the most important thing for me, and this tastes bad. In fact, 20 minutes after I had it for breakfast, I still taste that weird vanilla flavor.<br /><br />I guess if you must eat gluten-free and the idea of a vanilla cereal is appealing, you might give this a whirl. But for me, when I buy a bag of cereal and the box is tiny and at least 1/3 air, then I feel that I've been cheated, regardless of possible explanations of settling. This box is puny enough as it is, without the underfilling.<br /><br />I didnt like it. It tasted bad, and when I buy cereal, I want a full box.\n",
      "* * * * * * * * * \n",
      "28560\n",
      "2012-01-10 00:00:00\n",
      "5\n",
      "1\n",
      "B000VLVDU4\n",
      "My co-worker who is Japanese and Black gave me these as a tasty treat and unfortunately I've been hooked since! I'm sure she's happy I've found a reliable source to fill my cravings instead of harassing her to death for more;)<br /><br />Please keep Botan Rice Candy in stock and I will buy.\n",
      "* * * * * * * * * \n",
      "29567\n",
      "2011-06-18 00:00:00\n",
      "5\n",
      "1\n",
      "B001E5E0DI\n",
      "No sense in regurgitating what has been said 100 times before.  This espresso is fantastic!  Taste Great!  A double-shot in the morning keeps me going through 9 at night!<br /><br />I'm glad I went the espresso route and gave this product a try.\n",
      "* * * * * * * * * \n",
      "32013\n",
      "2012-04-26 00:00:00\n",
      "3\n",
      "0\n",
      "B006MONQMC\n",
      "The flavor is OK but nothing special for this category of product. I have tried store brand powedered ones that taste better and are much less expensive. The label says 24 servings, but it requires using so much that you really don't endup getting 24 servings.<br /><br />The price is a bit high as well.\n",
      "* * * * * * * * * \n",
      "33041\n",
      "2011-06-23 00:00:00\n",
      "5\n",
      "3\n",
      "B0025UBVXI\n",
      "I love  Tabasco!!  Sometimes when dining out at a restaurant the servers won't provide it or offer another brand.  In order to avoid this, I started carrying a bottle in my purse.  When I saw these packets, I immediately ordered them.  I put several in a ziplock bag and carry them in my purse.  They're much lighter than the bottle I used to have.  The only drawback is that .11 ounces is not really a \"single serving\" -- especially for a Tabasco lover.  I usually end up using four or five, depending on what I am eating.  But they are convenient and I don't have to worry about other diners thinking I am pilfering the Tabasco bottle when they see me putting it back into my purse!!\n",
      "* * * * * * * * * \n",
      "33464\n",
      "2008-01-13 00:00:00\n",
      "5\n",
      "5\n",
      "B000AY9SR2\n",
      "I just chop them in the food processor with some celery, add some Nayonaise and pepper, serve on a roll or bagel, and it's great! The only problem is that they are so good I keep eating them right out of the can while I'm making lunch!\n",
      "* * * * * * * * * \n",
      "35474\n",
      "2011-04-15 00:00:00\n",
      "3\n",
      "5\n",
      "B0013J761S\n",
      "I love M7M's...  so does the hubby, so this was a fun purchase.  I am not sure I didn't get carried away though... it is pretty pricey.\n",
      "* * * * * * * * * \n",
      "37167\n",
      "2012-10-16 00:00:00\n",
      "2\n",
      "0\n",
      "B002UJPOH8\n",
      "It's taste grainy like whosoever made this rubbed the tamarind in sugar and dirt. I was so disappointed, because I really love tamarind.\n",
      "* * * * * * * * * \n",
      "37783\n",
      "2008-12-11 00:00:00\n",
      "3\n",
      "9\n",
      "B000M6CTZG\n",
      "This is ordinary Manuka raw honey. Honey is very good for you, especially Manuka, and in this case, you get what you pay for. It's expensive because it's Manuka, and certified. My only complaint is the price.<br /><br />Not too different in flavor from clover honey. Thick, opaque and textured. If you want Manuka honey, this is the honey you get. It doesn't need to be pasteurized because honey naturally prevents bacteria growth, does not spoil, and Manuka honey is especially naturally antiseptic. Unique Manuka Factor (\"UMF\") refers to the level of antiseptic strength.<br /><br />This is Manuka honey. It doesn't come in different artificial flavors with colors and additives. If artificial flavoring and high-fructose corn syrup are more important to you, save your money and suck on a cheap lollipop.\n",
      "* * * * * * * * * \n",
      "42772\n",
      "2011-12-31 00:00:00\n",
      "5\n",
      "0\n",
      "B000F9XB8O\n",
      "It's Chicken. It's in a Biskit. Do I need to say more?<br /><br />If you could turn awesome into a cracker, it would be C in a B.<br /><br />If Chuck Norris was edible, he'd be C in a B.<br /><br />Under certain congressional definitions C in a B contains all four food groups when eaten with <a href=\"http://www.amazon.com/gp/product/B002OXNWNS\">Easy Cheese</a>.<br /><br />Like I said above: It's Chicken...in a Biskit.\n",
      "* * * * * * * * * \n",
      "44185\n",
      "2011-06-04 00:00:00\n",
      "3\n",
      "3\n",
      "B004CLCEDE\n",
      "I have a close friend and she raises them off when you open the package really, really well... then she soaks them for like an hour in cold water with lemmon juice out of the bottle... this eliminates the smell almost entirely... than she raises and cooks for just a few minutes into rapidly boiling water than she drains, pats them dry and adds them to the pan of whatever she has cooked to go with them... shrimp and some sort of fish chineese sauce... or fish pasta sauce... they r gummy and not where noodles like rice noodles should be... I just wish all these pasta and rice noodle people would simply leave out the SUGARS and lower their salt... let me add a teas of sugar to their boiling water or a bucket of salt to flavor - dont make the rest of the world suffer.\n",
      "* * * * * * * * * \n",
      "44402\n",
      "2008-05-04 00:00:00\n",
      "5\n",
      "1\n",
      "B000LRIITM\n",
      "I love Vissino, and this product doesn't disappoint that love at all. Happily, the company also ships really quickly, and securely wraps all of the products in the parcel.  100% recommended!\n",
      "* * * * * * * * * \n",
      "44904\n",
      "2007-11-06 00:00:00\n",
      "1\n",
      "10\n",
      "B0001CXRMK\n",
      "Man this stuff his horrible.  Worst tasting tea I've ever experienced.  And I'm not not just referring to this brand. I would assume that all Guayaki tastes Guayucky.\n",
      "* * * * * * * * * \n",
      "45157\n",
      "2011-11-03 00:00:00\n",
      "5\n",
      "0\n",
      "B005QRPH78\n",
      "I have two large dogs, one is 80lbs and the other is 140lb.  They both took these treats immediately, without even the usual once-over sniff and inhaled them in under 3 minutes. You'd think with the cinnamon flavoring they would have hesitated but not in the least.  Both dogs then licked the carpet to make sure they'd got all the crumbs and then looked at me for more. At $6 a bag I will definitely limit these to once a week.\n",
      "* * * * * * * * * \n",
      "45221\n",
      "2012-03-25 00:00:00\n",
      "1\n",
      "3\n",
      "B000N47ZXS\n",
      "If I realized there was no Stevia in this product I wouldn't have bought it.  Instead it's Xylitol (derived from the bark of the birch tree).  The product lists Stevia Rebaudiana Bertoni as the first ingredient but the boxes I received do not list it. Very disappointed.  Also I bought Orange and Cherry - Cherry is on the sour side.  Orange tastes ok.  However Xylitol doesn't agree with me.  Oh and it doesn't dissolve all that great either.\n",
      "* * * * * * * * * \n",
      "45426\n",
      "2011-01-20 00:00:00\n",
      "5\n",
      "3\n",
      "B001NC8HS6\n",
      "I was shopping at my local drug store late one Saturday night and I stumbled across this brand of animal crackers. I've tried Barnum and Keebler before but not this brand so I wanted to get it. These Stauffer's Animal Crackers are a lighter version of both the Barnum and Keebler. They have less fat and calories and taste more like a cracker whereas the other 2 are more like cookies. So I guess you can eat more of these without feeling as guilty. One aspect of these Animal Crackers that really stood out for me is that they have amazing shelf life. The package I bought is not the same as this one on Amazon - it more resembled a potato chip package. So I opened it and ate some and then closed it with a clip and then I forgot about it for a while. It must have been sitting there for about 2 months before I remembered I had it. So I tried it and it was as good and as fresh as new. I was amazed. Would definitely buy these again.\n",
      "* * * * * * * * * \n",
      "46666\n",
      "2012-04-16 00:00:00\n",
      "5\n",
      "1\n",
      "B0025YEF3W\n",
      "Our cat Oskar is 16+ years old. We don't know exactly how old, he was estimated by the vet to be about 3 years old when my wife got him 14 years ago.<br /><br />About 18 months ago we thought he was going to die when he became quite sick. The vet didn't hold out much hope for him and we aren't really in a position to spend a ton of money on tests and medication to extend the life of an already quite old house cat. We brought him home, resigned that it was really just a matter of time and we would do what we could to keep him comfortable.<br /><br />We decided to give Vitagravy a shot after seeing it in a local pet store. We mix a few drops in his food every day. His improvement was visible and steady from the second or third day.<br /><br />Today, Oskar looks and acts like a much younger cat. People who see him are amazed to learn that he is nearly old enough to vote. I think without a regular dose of Vitagravy, he would have passed months ago.\n",
      "* * * * * * * * * \n",
      "48112\n",
      "2012-05-10 00:00:00\n",
      "5\n",
      "0\n",
      "B007OR7PSC\n",
      "I have tried several types of matcha and other forms of green tea, all of which were decent but nothing that compares to this! Now, I'm not a specialist on ceremonial grade matcha (I am simply a green tea enthusiast), but I do know what to look for when determining quality. This matcha arrives in a sealed silver bag, labeled with the type of matcha it is. This bag is within the tin, which has a small plastic cap in order to keep the matcha fresh. Then the tin's actual cap fits on snugly. It is exactly like the picture shows, the dimension of the tin are a little difficult to tell from the picture, but it stands at a little over 2 inches tall (approximately 5.5cm) and the diameter of the tin is a little under 2 inches (~5cm).<br /><br />Upon opening the bag containing the matcha, I immediately noticed the difference between this kind and others I have tried. It is a vibrant green with a very pleasant aroma, slightly sweet smelling. After making myself a cup of usucha, I am very impressed. Some types of matcha I have tried tend to have a little bit of a bitter after taste, but this Uji blended matcha is very smooth. If you are unfamiliar with how to prepare usucha, Theanine gives a brief description under \"Important Information\" on the product page. There are also plenty of videos online if you're confused =)<br /><br />**Update**<br />I've made about 30 cups of tea and I might have enough left to make one or two more cups.\n",
      "* * * * * * * * * \n",
      "50766\n",
      "2009-12-12 00:00:00\n",
      "3\n",
      "1\n",
      "B0014EQIMU\n",
      "I am going to be blunt. This would be a very tasty product, however I believe the broth is not as rich as it should be thus killing the flavor. I tend and or suspect it maybe due to chickens being bombarded with hormones for faster growth. Genetically enhanced meat have less flavor than our meats did from years past.\n",
      "* * * * * * * * * \n",
      "50868\n",
      "2010-10-23 00:00:00\n",
      "5\n",
      "3\n",
      "B001E5E1SC\n",
      "This sweetener is not for everything. I think it is specifically made to sprinkle over dry things like cereal. The Eryth. will not dissolve in cold liquids, nor will the fiber. So don't expect it to be like sugar in that regard.<br /><br />It does dissolve redily in hot liquids, but, again, the fiber doesn't. So it may not be to your liking in coffee or tea for that reason.<br /><br />I use it for a variety of applications, mostly for baking, but also to sweeten hot things that have something else in it that will mask the fiber (like baked apples for instance).<br /><br />I make a low-carb chocolate candy and the Sweet Fiber is actually the best choice for this because the fiber will slightly thicken the melted mixture.  If you're interested: mix up 2 tsp. cocoa and 4 tsp. Sweet Fiber. Stir in 4 T warm (liquid) coconut oil. Stir for a while to help dissolve the Eryth. and allow the fiber to thicken the mix (only slightly).  Pour about a half T of mixture (keep stirring it) into mini-muffin wells (about 8).  Add nuts or anything else you like.  Put in freezer to set. Remove 5 mins before eating to take the chill off the candy.\n",
      "* * * * * * * * * \n",
      "51743\n",
      "2012-07-03 00:00:00\n",
      "1\n",
      "1\n",
      "B004L045D8\n",
      "So, my Jelly Belly order arrived today. First, as the other reviewer said, it arrived in a nondescript plastic bag with red tape to seal the top. The seal was half off and the bag open. I don't know where they've been, but they smell and taste as if they've been soaked in patchouli. It's as if i've walked into a head shop and licked the walls. Very disappointing...\n",
      "* * * * * * * * * \n",
      "51819\n",
      "2011-02-20 00:00:00\n",
      "4\n",
      "2\n",
      "B002NHYQAS\n",
      "Newman's Own Organics Dark Chocolate Bar, 2.25 oz.<br /><br />I'm a firm believer in the Newman's Own corporate objectives and enjoy many of their fine products. I appreciate the facts that this chocolate, according to them, \"is formulated with some of the finest Certified Organic chocolate we've ever tasted, made from cocoa beans grown on Rainforest Alliance Certified(tm) farms.\" While the New Organics Dark Chocolate is very good, it has a slightly grainy texture which, for me, spoils the mouth-feel a little. A small point, I suppose, as it is excellent chocolate with a 54% cocoa content. I certainly recommend it for its rich chocolate aroma and taste.\n",
      "* * * * * * * * * \n",
      "51921\n",
      "2012-08-21 00:00:00\n",
      "5\n",
      "0\n",
      "B007TFO528\n",
      "Our cats rarely get excited about food - unless their dish of dry food is empty. Then they get a little pissy. So imagine my surprise and delight when I opened a packet of Meow Mix Savory Morsels and had to fend off an attack from these suddenly ravenous beasts. If I had waited just a beat longer in getting the food into the dish, they'd have gone after me like I was a raw steak being carried to their plates by a dozen fat mice. I'm not sure what the folks at Meow Mix put into this stuff - and maybe I don't want to know - but it's enough to send my kitties into a feeding frenzy!\n",
      "* * * * * * * * * \n",
      "55622\n",
      "2012-05-29 00:00:00\n",
      "5\n",
      "6\n",
      "B0069AA4Q0\n",
      "KOBE (AKA) Wagyu ('' Wagy'?, literally Japanese cow) refers to several breeds of cattle genetically predisposed to intense marbling and to producing a high percentage of oleaginous unsaturated fat. The meat from wagyu cattle is known worldwide for its marbling characteristics, increased eating quality through a naturally enhanced flavor, tenderness and juiciness, and a high market value. In several areas of Japan, beef is shipped with area names. Some examples are Kobe, Mishima, Matsusaka, 'mi, and Sanda beef. Highly prized for their rich flavor, these cattle produce arguably the finest beef in the world. These different breeds produce beef that range from expensive (by any measure) to extremely expensive (about US$ 50 per 150 grams of filet steak sold retail in Japan).[citation needed]<br /><br />Wagyu cattle's genetic predisposition yields a beef that contains a higher percentage of omega-3 and omega-6 fatty acids[1] than typical beef. The increased marbling also improves the ratio of monounsaturated fats to saturated fats.<br /><br />United States<br /><br />In the United States, Japanese Wagyu cattle were bred with Angus cattle to create a crossbred animal that would be more able to survive the U.S. climate and ranching methods. The meat of this crossbreed was more marketable to the typical American buyer, for whom the meat of the wagyu cow is \"too white\".[5] The meat of the crossbreed provides the balance of marbling and red meat desired by them. This crossbreed has been named American Style Kobe Beef.[6]<br /><br />Designed to mimic the diet that Japanese cattle were receiving, Wagyu cattle in the United States are fed a mixture of corn, alfalfa, barley and wheat straw.<br /><br />As of 2007, the U.S. cannot ship wagyu beef to Japan, as Japan requires that beef imported from the U.S. be from cattle not older than 20 months; U.S. Wagyu cattle are usually slaughtered at 30-35 months.[7]<br /><br />In Colorado Wagyu beef is being marketed by a ranch near Basalt, Colorado, and the Angus crossbred by a ranch near Rush, Colorado. Wagyu were first competitively exhibited at the National Western Stock Show in 2012.[\n",
      "* * * * * * * * * \n",
      "56226\n",
      "2011-01-18 00:00:00\n",
      "5\n",
      "2\n",
      "B001F35WSQ\n",
      "Ferrara Pan Candy Company is the only Atomics I know and they have been around since the beginning of time. They are consistent in quality.<br /><br />I buy a bag each week for people a t work. Some people just live on these animals. Others just see how long they can suck on them before changing to the other side of the mouth. It looks like people are going around with fat jaws. When the red coating wears off it seems that they just get hotter. And you can hear the tell tale sound of people crunching to get it over with. Then they come back for more.\n",
      "* * * * * * * * * \n",
      "57713\n",
      "2009-05-28 00:00:00\n",
      "5\n",
      "0\n",
      "B0006341OC\n",
      "My dog chewed Booda Bimple bones from puppyhood and he LOVED them. He'd chew for what seemed like hours and drift away into a doggy Zen state. Then Booda changed the formula. They made the bones softer and \"more digestible\" and my dog could eat the largest size in about 10 minutes (he's only 25 pounds!) and the next day it was bad, bad tummy trouble. Instead of chewing pleasure it was gobbling and looking for more. I tried the N-Bone yesterday. I was a little anxious that it would be the same situation, but the N-Bone seems a good bit harder and my dog really had to work at chewing it, which is a good thing. I'm still not sure the N-Bone will last longer than a single chewing session, but at least it didn't get eaten in minutes. I had the package in my briefcase and when my dog passed by, he did a u-turn and started sniffing and pawing at the bag, so I know it is definitely appealing to him.\n",
      "* * * * * * * * * \n",
      "58365\n",
      "2009-09-22 00:00:00\n",
      "1\n",
      "5\n",
      "B0019ZC0RQ\n",
      "There was no expiration date on the box or the jars, so I phoned the distributor, Beaverton Foods.  Based on a short letter-number sequence on a sample jar, which, they said, represents the Julian date of the jar's production, this whole case, which I received yesterday, will reach its early expiration date in 8 days.  It was made in January 2009 and has a shelf life of only 8 to 12 months.  It is now September.  I'm not picky and will use it until the farthest date, but some people might be concerned.  I do recommend that the manufacturer clearly mark the expiration on these jars.\n",
      "* * * * * * * * * \n",
      "60166\n",
      "2009-03-24 00:00:00\n",
      "4\n",
      "4\n",
      "B001E5E2QI\n",
      "I keep six or seven flavors of these Torani syrups on hand, right next to my beloved Jura-Capresso F9.  I've had to go elsewhere to purchase a \"starter\" bottle that's made of glass for each flavor, as these bottles on Amazon are plastic and pour spouts (like those in bottles of liquor at bars)fall right out of their necks.  I use these as refills for the glass bottles.\n",
      "* * * * * * * * * \n",
      "60259\n",
      "2012-09-25 00:00:00\n",
      "3\n",
      "0\n",
      "B006O320VO\n",
      "most people i know have a favorite piece in bridge mix--the smooth, dark chocolate ovals with the jellied orange inside.  i tasted these sunkist sticks at costco and they're almost as good.  the chocolate outer covering isn't quite as smooth.  however, i've since been frustrated and have been unable to find them in any food store-not jewel, costco, dominicks, treasure island.\n",
      "* * * * * * * * * \n",
      "65418\n",
      "2012-08-08 00:00:00\n",
      "5\n",
      "0\n",
      "B001ELJKGE\n",
      "I didn't want to make this per directions after reading reviews on how sweet this was. I made this to right at 5 gallons including the addition of a little Everclear to boost ABV. I used half the F-pack during the initial fermentation process so it wouldn't be &uuml;ber sweet at bottling time. Wonderful raspberry flavor. So very pleased with Cornucopia. I have the Blueberry Shiraz fermenting now. I'm going to try a few others before the year is out.\n",
      "* * * * * * * * * \n",
      "69813\n",
      "2011-12-08 00:00:00\n",
      "5\n",
      "0\n",
      "B0039KE90A\n",
      "Easily the best jams, jellies, and preserves anywhere. Taste the fruit more richly and vibrantly than any other maker! I come back again and again.\n",
      "* * * * * * * * * \n",
      "69925\n",
      "2009-02-12 00:00:00\n",
      "5\n",
      "1\n",
      "B0012HEVQE\n",
      "These crushed tomatoes with basil are awesome.The taste is just right without too much salt. Very versitile,use in any meat sauce or chili recipe. Use it straight out of the can over hot noodles or scrambled eggs or use for pizza sauce. Great sweet vine ripened tomato taste with jsut the right amout of basil.<br />Beau's Instant Pizza:<br />table spoon of this on slice of bread ( any bread will do)<br />add little cheese (any cheese pramesan or even slice of soy cheese)<br />as desired sprinkle garlic on top.<br />pop in microwave for 15 seconds an instant pizza.<br /><br />INGREDIENTS: Organic tomatoes, organic tomato puree (water, organic tomato paste), sea salt, naturally derived citric acid, organic basil..<br /><br />All of Muir Glen's tomatoes are field grown and vine ripened under certified organic practices -- no synthetic pesticides, no chemical fertilizers, just gorgeous tomato taste, true to nature\n",
      "* * * * * * * * * \n",
      "71688\n",
      "2012-09-03 00:00:00\n",
      "5\n",
      "0\n",
      "B000GZUAEK\n",
      "Ok! I like to eat vegetarian when I can. Read about Nature's Burger in a book about the Greatful Dead.  Well, this stuff is awesome, I've used it to make veggie nuggets for the kids, all kinds of burgers (including my favorite with siracha cucumber sauce and hosin)....have also improvised and made stuffed peppers with quinoa, nature's burger and beans, as well as stuffed cabbage with nature's burger, rice, and tomatoes.  I just wish there were more recipes out there!<br /><br />Also, for people that have had probs....the trick is as it is spelled out on the box.  One part Nature's Burger to one part boiling water.  Let it sit for like 15 minutes.  Rub oil on your hands when making the patties if it is too sticky.\n",
      "* * * * * * * * * \n",
      "74039\n",
      "2012-03-10 00:00:00\n",
      "5\n",
      "0\n",
      "B0017KTOO0\n",
      "This cheese is wonderful.  Great with fruit and wine - This is a very distinct cheese and definitely worth trying. The marbling and color only adds to the interest!\n",
      "* * * * * * * * * \n",
      "75163\n",
      "2009-08-09 00:00:00\n",
      "5\n",
      "2\n",
      "B000ED7M6I\n",
      "I used to love Cream of Wheat (wheat farina) as a kid. But over the years I've developed an intolerance to wheat products. I saw this the other day at Sprouts and picked it up on a whim, and I'm sure glad I did. Its delicious. I even like it a little better than Cream of Wheat because it has a little more texture to it.<br /><br />I make mine with water, cook it for 5-6 minutes, than add some organic half&half, sugar, and cinnamon and then stir for a couple more minutes with the heat off to thicken it. By the way, cinnamon doesn't just add flavor but also aids in the stabilizing of blood sugar levels when added to high carb foods so I highly recommend trying it. A bowl of this along with a side of 2 eggs over-easy and some OJ and I'm in breakfast heaven! I intend to try this sweetened with blackstrap molasses one of these days, I'll add an  update if I do. If it tastes good with BSM, that would be one powerhouse of a breakfast.\n",
      "* * * * * * * * * \n",
      "76739\n",
      "2008-07-10 00:00:00\n",
      "5\n",
      "10\n",
      "B003QNJYXM\n",
      "Bear in mind, different people have different metabolisms and different tastes.  From past experience, I avoid anything lemon-lime flavored.  I went with orange, which tastes like watered down OJ.  Just two ounces, small bottle fits in a knapsack or desk drawer.  When I'm crashing, caffeine just gives me the jitters and I still feel tired, no matter how much coffee or tea I drink.  I had a bad mid-afternoon crash and could hardly keep my eyes open so I drank a bottle of this stuff.  Instantly, I had mid-morning perkiness again.  Magic.  No after effects, but if you're dead tired to begin with you should probably treat the cause rather drinking energy drinks which relieve only the symptoms.  Also, if you have a high metabolism, take a small sip and wait 5 minutes.  Drink only what you need.\n",
      "* * * * * * * * * \n",
      "77655\n",
      "2012-07-26 00:00:00\n",
      "4\n",
      "1\n",
      "B005TY1QE6\n",
      "This apple cider vinegar is great for incorporation into one's beauty regimen or household use. I would recommend it to others as it is a quality product at a reasonable price.\n",
      "* * * * * * * * * \n",
      "79362\n",
      "2010-11-23 00:00:00\n",
      "4\n",
      "1\n",
      "B001EO5XV2\n",
      "I ordered 4 varieties, one being More Than Gourmet Classic Roastd Vegetable Demi-Glace, 1.5-Ounces (Pack of 6). This one came soft and of gelatin consistency. The supposedly chicken demi glaze came of  very hard consistency, almost like hard glue, so this one called my attention. I immediately rinsed some pinto beans and filled a pot with the right amount of water to cook them and still have some gravy for the brown rice. When I used More Than Gourmet Classic Roastd Vegetable Demi-Glace, 1.5-Ounces (Pack of 6), after it dissolved I served myself a very small cup of the broth. Noticed very little salt. Also a very subtle taste, kind of bland and vague. I do understand that is the nature of vegetables, they are mild in flavor compared to chicken or beef. I liked the color of the water in the early stages and in the latter one I noticed it had caramelized somewhat and had become the perfect consistency to serve. I did add my bag of tricks to the concoction for they do require all manner of spices and herbs if it is to be truly vegetarian. I previously have purchased quite a few vegetable base products, for I have been always in search of the perfect stock in each category, and this one rose to the top. Once it thicken and the beans were soft and velvety and the mix of the other goodies, including caramelized onions, fresh ground garlic, wine, herbs, spices, sea salt, pepper, jalape&ntilde;os properly macerated in olive oil and then lightly grilled to finally blended form, once the final product was ready everyone that ate it (Im just bragging, there were two of us at that time...) said it was magnifique and I congratulated the results by eating double. This one might not have a lot of taste but it certainly melted divinely and made an all vegetarian rendering quite the novelty act. 4 Stars.\n",
      "* * * * * * * * * \n",
      "80045\n",
      "2012-01-28 00:00:00\n",
      "1\n",
      "2\n",
      "B000F6SNPS\n",
      "Unfortunately, Good Earth now contains artificial flavoring - it is confirmed on the box in front of me and on their website - [...]<br />I am hoping that if many consumers raise their voices, we can have them go back to using original flavors - their Facebook site is at [...]and they can be called at 1-888-625-8227  Mon - Fri: 8:00AM - 8:00PM EST<br /><br />I LOVE Good Earth Tea - lets keep it good by having them stop including artificial flavoring\n",
      "* * * * * * * * * \n",
      "80929\n",
      "2012-03-13 00:00:00\n",
      "5\n",
      "0\n",
      "B00475O26C\n",
      "I love these things. 5 Hour Energy has been my energy supplement of choice for several years now. Although they all taste a little odd, pomegranate is my favorite flavor. If you really don't like the taste, combining with a soft drink or even just a bottle of water will mask things well. Functionally, they are wonderful. I notice less usefulness when taken in the morning, but a great boost for those nights that you know you will need to be awake until 1 or 2...as long as you remember to take one 4 or 5 hours earlier! As usual, Amazon prices beat convenience stores, so I keep a few stashed away (laptop bag, car, work) so they are around when I need them!\n",
      "* * * * * * * * * \n",
      "81619\n",
      "2012-05-24 00:00:00\n",
      "5\n",
      "0\n",
      "B000LQHPVK\n",
      "If you want to make fruit tarts (or German \"torts\"), this is the glaze to get.<br />My German friend says the \"torts\" are very common in Germany, like apple pie in the states.<br />For first time success, put the sugar in a dry saucepan and mix the glaze powder thoroughly with it before adding the water. I use 1/4 cup sugar instead of the tablespoon indicated on the package.<br />Pour the glaze quickly after cooking, with a small stream aimed at each piece of fruit to cover all of them completely.<br />Don't plan to keep these long. The fruit colors bleed into the glaze over a couple of days, so they look much better soon after completion. Refrigeration is nice, but unnecessary.<br />Good stuff!\n",
      "* * * * * * * * * \n",
      "82422\n",
      "2012-03-27 00:00:00\n",
      "1\n",
      "2\n",
      "B007OY1CI4\n",
      "If you are buying these as a chocolate flavored treats with a fringe benefit of  contributing to oral health, look elsewhere! If you are primarily interested in using xylitol sweetened candy as a preventative measure to use against cavities and gum disease, you might find these barely satisfactory. The bottom line is that these, allegedly, chocolate flavored lollipops have hardly a hint of flavor AT ALL and if it weren't for the dark brown color that primes the mind to expect a chocolate flavor, I doubt whether one could even discern that that they are supposed to BE chocolate. I ordered from Dr. John's website directly and I have decided to keep them in spite of my negative opinion because of the benefits of xylitol and I will just eat these everyday as if i were taking medication. I may order again but it certainly won't be the chocolate.\n",
      "* * * * * * * * * \n"
     ]
    },
    {
     "name": "stdout",
     "output_type": "stream",
     "text": [
      "86568\n",
      "2012-04-22 00:00:00\n",
      "5\n",
      "0\n",
      "B004F1LNDI\n",
      "The Stinger Waffles taste great and have been a life saver more than once when I've \"bonked\" on a long ride or hike. I like the vanilla ones a little better, but both taste great.\n",
      "* * * * * * * * * \n",
      "87079\n",
      "2009-09-22 00:00:00\n",
      "5\n",
      "0\n",
      "B000SW4NNK\n",
      "This is a nice small bottle of minced garlic with a wonderful rich, full aroma.  The garlic itself is very mild though.  It has absolutely no BITE!  unlike some fresh garlic bulbs.  This is great for some recipes but others...like hummus... would benefit from a more aggressive tangy taste.  Being prepared and bottled, there are no bulbs to go bad with excessive time and no mess of peeling and mincing.  I really like these Goya minced garlic bottles and highly recommend them to anyone who enjoys a milder garlic flavor. I will be buying them again!\n",
      "* * * * * * * * * \n",
      "88519\n",
      "2012-08-30 00:00:00\n",
      "5\n",
      "0\n",
      "B004XTDU8I\n",
      "Badshah Punjabi Garam Masala.<br />Garam Masala is a quintessential ingredient in various dishes of Indian Cuisine.  It is a powdered mixture of whole spices that is used to elevate the taste and aroma of a dish.  It can be quite strong so a little bit goes a long way.  I have used several different brands and types of Garam Masalas and this one is by far my favorite. It's not hot and the aroma is amazing.<br />The ingredients mentioned on the box are as follows: Coriander, Black pepper, Cumin, Tejpatta, Clove, Green cardamom, Black cardamom, Cassia, Anistar, Dry Ginger, Nutmeg, Mace, and Caraway<br />Unfortunately, I couldn't find it in any Indian store around and was delighted to find it at amazon. I actually like it so much that I don't mind paying for the shipping and Ive stocked up in my pantry.  It arrived well packaged and wasn't old stock. I will definitely order again when I run out of these.\n",
      "* * * * * * * * * \n",
      "88752\n",
      "2012-04-21 00:00:00\n",
      "5\n",
      "1\n",
      "B007T8I09O\n",
      "I can't believe how good this is.  Sure beats manwich sauce.  My husband doesn't even like sloppy joe sandwiches and he loved this.  I would highly recommend this to anyone who needs to make a quick meal.  It is on the sweet side - just like the sloppy joes I used to eat when I was growing up.\n",
      "* * * * * * * * * \n",
      "89882\n",
      "2009-02-07 00:00:00\n",
      "5\n",
      "2\n",
      "B0007SN7B4\n",
      "I first discovered Pepper Plant when I was living in Northern California and since then I have relocated to Southern California and now Marietta, Gerogia and each place I have had cases of Pepper Plant shipped to me. This the best hot sauce because of it's flavor and consistancy. It has a thick consistancy, so it doesn't run all over everything, stays were you put it on your food. Eggs, Stews, Bloody Mary's and on meats is all good.\n",
      "* * * * * * * * * \n"
     ]
    }
   ],
   "source": [
    "# false positives\n",
    "\n",
    "import random, time\n",
    "\n",
    "for i in range(0, len(ridge_predictions)):\n",
    "    if (ridge_predictions[i] == True):\n",
    "        if (amazon.loc[i, \"helpful\"] == False):\n",
    "            if (random.uniform(0, 1) < 0.05):\n",
    "                print(i)\n",
    "                print(time.strftime('%Y-%m-%d %H:%M:%S', time.gmtime(amazon.loc[i, \"Time\"])))\n",
    "                print(amazon.loc[i, \"Score\"])\n",
    "                print(amazon.loc[i, \"HelpfulnessDenominator\"])\n",
    "                print(amazon.loc[i, \"ProductId\"])\n",
    "                print(amazon.loc[i, \"Text\"])\n",
    "                print('* * * * * * * * * ')"
   ]
  },
  {
   "cell_type": "code",
   "execution_count": null,
   "metadata": {},
   "outputs": [],
   "source": []
  }
 ],
 "metadata": {
  "kernelspec": {
   "display_name": "Python 3",
   "language": "python",
   "name": "python3"
  },
  "language_info": {
   "codemirror_mode": {
    "name": "ipython",
    "version": 3
   },
   "file_extension": ".py",
   "mimetype": "text/x-python",
   "name": "python",
   "nbconvert_exporter": "python",
   "pygments_lexer": "ipython3",
   "version": "3.7.1"
  }
 },
 "nbformat": 4,
 "nbformat_minor": 1
}
